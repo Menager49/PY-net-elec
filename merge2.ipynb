{
 "cells": [
  {
   "cell_type": "markdown",
   "metadata": {
    "colab_type": "text",
    "id": "view-in-github"
   },
   "source": [
    "<a href=\"https://colab.research.google.com/github/Menager49/PY-net-elec/blob/main/Projet_Net_Elec_Equipe.ipynb\" target=\"_parent\"><img src=\"https://colab.research.google.com/assets/colab-badge.svg\" alt=\"Open In Colab\"/></a>"
   ]
  },
  {
   "cell_type": "markdown",
   "metadata": {
    "id": "tkruMttLSLhu"
   },
   "source": [
    "# Projet Net Elec\n",
    "\n",
    "Promotion DA continue - Dec. 2021 \n",
    "Membres de l'équipe : Christine, Pierre-Emmanuel, Cédric\n",
    "Mentor : Pierre"
   ]
  },
  {
   "cell_type": "markdown",
   "metadata": {
    "id": "-bH5v56R4C2E"
   },
   "source": [
    "# Partie 1 : Chargement et Preprocessing <a class=\"anchor\" id=\"Partie01\"><a>"
   ]
  },
  {
   "cell_type": "markdown",
   "metadata": {
    "id": "DBoX1BPE5ERY"
   },
   "source": [
    "## 1.1 Chargements modules et connexion Google Drive"
   ]
  },
  {
   "cell_type": "code",
   "execution_count": null,
   "metadata": {
    "colab": {
     "base_uri": "https://localhost:8080/"
    },
    "id": "XqlSIITF6xxx",
    "outputId": "232c62fe-b2aa-46f5-8488-237e02400491"
   },
   "outputs": [
    {
     "name": "stdout",
     "output_type": "stream",
     "text": [
      "Mounted at /content/drive\n"
     ]
    }
   ],
   "source": [
    "# Montage du Drive à Colab pour hebergé le dataset\n",
    "\n",
    "from google.colab import drive\n",
    "drive.mount('/content/drive')"
   ]
  },
  {
   "cell_type": "code",
   "execution_count": 1,
   "metadata": {
    "id": "VTbePGIf60kN"
   },
   "outputs": [],
   "source": [
    "# Chargement des modules\n",
    "import numpy as np\n",
    "import pandas as pd\n",
    "import matplotlib.pyplot as plt\n",
    "import seaborn as sns\n",
    "%matplotlib inline\n",
    "\n",
    "from matplotlib.dates import DateFormatter\n",
    "import matplotlib.dates as mdates"
   ]
  },
  {
   "cell_type": "markdown",
   "metadata": {
    "id": "4kFLRYvM5QLr"
   },
   "source": [
    "## 1.2 Preprocessing DataSet Energie"
   ]
  },
  {
   "cell_type": "markdown",
   "metadata": {
    "id": "XEv0vlodDawq"
   },
   "source": [
    "### 1.2.1 Chargement"
   ]
  },
  {
   "cell_type": "code",
   "execution_count": 2,
   "metadata": {
    "id": "Ph1s9mfTC-lk"
   },
   "outputs": [
    {
     "name": "stderr",
     "output_type": "stream",
     "text": [
      "C:\\Users\\Christine\\anaconda3\\lib\\site-packages\\IPython\\core\\interactiveshell.py:3369: DtypeWarning: Columns (27,29) have mixed types.Specify dtype option on import or set low_memory=False.\n",
      "  exec(code_obj, self.user_global_ns, self.user_ns)\n"
     ]
    }
   ],
   "source": [
    "df_energie = pd.read_csv(filepath_or_buffer='eco2mix-regional-cons-def.csv', \n",
    "                 sep=';', \n",
    "                 parse_dates = {'Date_Heure': ['Date', 'Heure'] })"
   ]
  },
  {
   "cell_type": "code",
   "execution_count": null,
   "metadata": {
    "id": "yQRemd74YH4H"
   },
   "outputs": [],
   "source": [
    "#df_energie.head(5)"
   ]
  },
  {
   "cell_type": "markdown",
   "metadata": {
    "id": "J85j3Ba3DUJy"
   },
   "source": [
    "### 1.2.2 Filtrage"
   ]
  },
  {
   "cell_type": "code",
   "execution_count": 5,
   "metadata": {
    "id": "uaf6GrSVSwle"
   },
   "outputs": [
    {
     "data": {
      "text/plain": [
       "Index(['Date_Heure', 'Code INSEE région', 'Région', 'Nature', 'Date - Heure',\n",
       "       'Consommation (MW)', 'Thermique (MW)', 'Nucléaire (MW)', 'Eolien (MW)',\n",
       "       'Solaire (MW)', 'Hydraulique (MW)', 'Pompage (MW)', 'Bioénergies (MW)',\n",
       "       'Ech. physiques (MW)', 'Stockage batterie', 'Déstockage batterie',\n",
       "       'Eolien terrestre', 'Eolien offshore', 'TCO Thermique (%)',\n",
       "       'TCH Thermique (%)', 'TCO Nucléaire (%)', 'TCH Nucléaire (%)',\n",
       "       'TCO Eolien (%)', 'TCH Eolien (%)', 'TCO Solaire (%)',\n",
       "       'TCH Solaire (%)', 'TCO Hydraulique (%)', 'TCH Hydraulique (%)',\n",
       "       'TCO Bioénergies (%)', 'TCH Bioénergies (%)', 'Column 30'],\n",
       "      dtype='object')"
      ]
     },
     "execution_count": 5,
     "metadata": {},
     "output_type": "execute_result"
    }
   ],
   "source": [
    "df_energie.columns"
   ]
  },
  {
   "cell_type": "code",
   "execution_count": 6,
   "metadata": {
    "id": "vJpiCK8PDDTP"
   },
   "outputs": [],
   "source": [
    "### Liste de varaibles à supprimer\n",
    "col_to_drop = ['Column 30',\n",
    "              'Code INSEE région',\n",
    "              'Date_Heure'\n",
    "              ]\n",
    "### Suppression des varaibles inutiles\n",
    "df_energie = df_energie.drop(col_to_drop, axis=1)"
   ]
  },
  {
   "cell_type": "code",
   "execution_count": null,
   "metadata": {
    "id": "5_m_Q_ivTRXW"
   },
   "outputs": [],
   "source": [
    "# df_energie.info()"
   ]
  },
  {
   "cell_type": "code",
   "execution_count": 7,
   "metadata": {
    "id": "nw7IhA7wEAAr"
   },
   "outputs": [],
   "source": [
    "# Filtrage temporel\n",
    "\n",
    "# Conversion du type pour le champs date\n",
    "df_energie['Date - Heure'] = pd.to_datetime(df_energie['Date - Heure'], utc=True)\n",
    "\n",
    "# Limites temporelles haute et basse\n",
    "df_energie = df_energie[(df_energie['Date - Heure'] >= '01/01/2016') & (df_energie['Date - Heure'] <= '31/12/2021')]"
   ]
  },
  {
   "cell_type": "markdown",
   "metadata": {
    "id": "mKTD9ohQDrBp"
   },
   "source": [
    "### 1.2.3 Standardisation"
   ]
  },
  {
   "cell_type": "code",
   "execution_count": 8,
   "metadata": {
    "id": "oMjp2J26Dlde"
   },
   "outputs": [],
   "source": [
    "# Les champs sont renommés : \n",
    "Dic_Noms = {\n",
    "    'Région'             :'region_nom',\n",
    "    'Nature'             :'nature',\n",
    "    'Date - Heure'       :'date',\n",
    "    'Consommation (MW)'  :'conso_inter',\n",
    "    'Pompage (MW)'       :'conso_hydro',\n",
    "    'Thermique (MW)'     :'prod_therm',\n",
    "    'Nucléaire (MW)'     :'prod_nuc',\n",
    "    'Solaire (MW)'       :'prod_sol',\n",
    "    'Hydraulique (MW)'   :'prod_hydro',\n",
    "    'Bioénergies (MW)'   :'prod_bio',\n",
    "    'Eolien (MW)'        :'prod_eol',\n",
    "    'Ech. physiques (MW)':'echanges',\n",
    "    'TCO Thermique (%)'  :'tco_therm', \n",
    "    'TCO Nucléaire (%)'  :'tco_nuc',\n",
    "    'TCO Eolien (%)'     :'tco_eol', \n",
    "    'TCO Solaire (%)'    :'tco_sol', \n",
    "    'TCO Hydraulique (%)':'tco_hydro',\n",
    "    'TCO Bioénergies (%)':'tco_bio', \n",
    "    'TCH Nucléaire (%)'  :'tch_nuc', \n",
    "    'TCH Eolien (%)'     :'tch_eol',\n",
    "    'TCH Thermique (%)'  :'tch_therm', \n",
    "    'TCH Solaire (%)'    :'tch_sol', \n",
    "    'TCH Hydraulique (%)':'tch_hydro', \n",
    "    'TCH Bioénergies (%)':'tch_bio', \n",
    "            }\n",
    "\n",
    "df_energie = df_energie.rename(Dic_Noms, axis=1)"
   ]
  },
  {
   "cell_type": "markdown",
   "metadata": {
    "id": "7GyyvFT3EKF0"
   },
   "source": [
    "### 1.2.4 Complétude (Doublons & NANs)"
   ]
  },
  {
   "cell_type": "code",
   "execution_count": 11,
   "metadata": {
    "colab": {
     "base_uri": "https://localhost:8080/"
    },
    "id": "dBgygt64Erve",
    "outputId": "dfa438fa-c327-488e-c35d-4b20d51007db"
   },
   "outputs": [
    {
     "data": {
      "text/html": [
       "<div>\n",
       "<style scoped>\n",
       "    .dataframe tbody tr th:only-of-type {\n",
       "        vertical-align: middle;\n",
       "    }\n",
       "\n",
       "    .dataframe tbody tr th {\n",
       "        vertical-align: top;\n",
       "    }\n",
       "\n",
       "    .dataframe thead th {\n",
       "        text-align: right;\n",
       "    }\n",
       "</style>\n",
       "<table border=\"1\" class=\"dataframe\">\n",
       "  <thead>\n",
       "    <tr style=\"text-align: right;\">\n",
       "      <th></th>\n",
       "      <th>region_nom</th>\n",
       "      <th>nature</th>\n",
       "      <th>date</th>\n",
       "      <th>conso_inter</th>\n",
       "      <th>prod_therm</th>\n",
       "      <th>prod_nuc</th>\n",
       "      <th>prod_eol</th>\n",
       "      <th>prod_sol</th>\n",
       "      <th>prod_hydro</th>\n",
       "      <th>conso_hydro</th>\n",
       "      <th>...</th>\n",
       "      <th>tco_nuc</th>\n",
       "      <th>tch_nuc</th>\n",
       "      <th>tco_eol</th>\n",
       "      <th>tch_eol</th>\n",
       "      <th>tco_sol</th>\n",
       "      <th>tch_sol</th>\n",
       "      <th>tco_hydro</th>\n",
       "      <th>tch_hydro</th>\n",
       "      <th>tco_bio</th>\n",
       "      <th>tch_bio</th>\n",
       "    </tr>\n",
       "  </thead>\n",
       "  <tbody>\n",
       "    <tr>\n",
       "      <th>680309</th>\n",
       "      <td>Île-de-France</td>\n",
       "      <td>Données définitives</td>\n",
       "      <td>2016-03-27 01:00:00+00:00</td>\n",
       "      <td>7215.0</td>\n",
       "      <td>298.0</td>\n",
       "      <td>NaN</td>\n",
       "      <td>4.0</td>\n",
       "      <td>0.0</td>\n",
       "      <td>11.0</td>\n",
       "      <td>NaN</td>\n",
       "      <td>...</td>\n",
       "      <td>NaN</td>\n",
       "      <td>NaN</td>\n",
       "      <td>NaN</td>\n",
       "      <td>NaN</td>\n",
       "      <td>NaN</td>\n",
       "      <td>NaN</td>\n",
       "      <td>NaN</td>\n",
       "      <td>NaN</td>\n",
       "      <td>NaN</td>\n",
       "      <td>NaN</td>\n",
       "    </tr>\n",
       "    <tr>\n",
       "      <th>680311</th>\n",
       "      <td>Bourgogne-Franche-Comté</td>\n",
       "      <td>Données définitives</td>\n",
       "      <td>2016-03-27 01:00:00+00:00</td>\n",
       "      <td>2181.0</td>\n",
       "      <td>107.0</td>\n",
       "      <td>NaN</td>\n",
       "      <td>297.0</td>\n",
       "      <td>0.0</td>\n",
       "      <td>86.0</td>\n",
       "      <td>0.0</td>\n",
       "      <td>...</td>\n",
       "      <td>NaN</td>\n",
       "      <td>NaN</td>\n",
       "      <td>NaN</td>\n",
       "      <td>NaN</td>\n",
       "      <td>NaN</td>\n",
       "      <td>NaN</td>\n",
       "      <td>NaN</td>\n",
       "      <td>NaN</td>\n",
       "      <td>NaN</td>\n",
       "      <td>NaN</td>\n",
       "    </tr>\n",
       "    <tr>\n",
       "      <th>680315</th>\n",
       "      <td>Hauts-de-France</td>\n",
       "      <td>Données définitives</td>\n",
       "      <td>2016-03-27 01:00:00+00:00</td>\n",
       "      <td>5591.0</td>\n",
       "      <td>410.0</td>\n",
       "      <td>5301.0</td>\n",
       "      <td>551.0</td>\n",
       "      <td>0.0</td>\n",
       "      <td>3.0</td>\n",
       "      <td>0.0</td>\n",
       "      <td>...</td>\n",
       "      <td>NaN</td>\n",
       "      <td>NaN</td>\n",
       "      <td>NaN</td>\n",
       "      <td>NaN</td>\n",
       "      <td>NaN</td>\n",
       "      <td>NaN</td>\n",
       "      <td>NaN</td>\n",
       "      <td>NaN</td>\n",
       "      <td>NaN</td>\n",
       "      <td>NaN</td>\n",
       "    </tr>\n",
       "    <tr>\n",
       "      <th>680316</th>\n",
       "      <td>Occitanie</td>\n",
       "      <td>Données définitives</td>\n",
       "      <td>2016-03-27 01:00:00+00:00</td>\n",
       "      <td>3889.0</td>\n",
       "      <td>56.0</td>\n",
       "      <td>2337.0</td>\n",
       "      <td>298.0</td>\n",
       "      <td>0.0</td>\n",
       "      <td>836.0</td>\n",
       "      <td>-670.0</td>\n",
       "      <td>...</td>\n",
       "      <td>NaN</td>\n",
       "      <td>NaN</td>\n",
       "      <td>NaN</td>\n",
       "      <td>NaN</td>\n",
       "      <td>NaN</td>\n",
       "      <td>NaN</td>\n",
       "      <td>NaN</td>\n",
       "      <td>NaN</td>\n",
       "      <td>NaN</td>\n",
       "      <td>NaN</td>\n",
       "    </tr>\n",
       "    <tr>\n",
       "      <th>680319</th>\n",
       "      <td>Nouvelle-Aquitaine</td>\n",
       "      <td>Données définitives</td>\n",
       "      <td>2016-03-27 01:00:00+00:00</td>\n",
       "      <td>4592.0</td>\n",
       "      <td>156.0</td>\n",
       "      <td>3677.0</td>\n",
       "      <td>245.0</td>\n",
       "      <td>-1.0</td>\n",
       "      <td>465.0</td>\n",
       "      <td>NaN</td>\n",
       "      <td>...</td>\n",
       "      <td>NaN</td>\n",
       "      <td>NaN</td>\n",
       "      <td>NaN</td>\n",
       "      <td>NaN</td>\n",
       "      <td>NaN</td>\n",
       "      <td>NaN</td>\n",
       "      <td>NaN</td>\n",
       "      <td>NaN</td>\n",
       "      <td>NaN</td>\n",
       "      <td>NaN</td>\n",
       "    </tr>\n",
       "    <tr>\n",
       "      <th>...</th>\n",
       "      <td>...</td>\n",
       "      <td>...</td>\n",
       "      <td>...</td>\n",
       "      <td>...</td>\n",
       "      <td>...</td>\n",
       "      <td>...</td>\n",
       "      <td>...</td>\n",
       "      <td>...</td>\n",
       "      <td>...</td>\n",
       "      <td>...</td>\n",
       "      <td>...</td>\n",
       "      <td>...</td>\n",
       "      <td>...</td>\n",
       "      <td>...</td>\n",
       "      <td>...</td>\n",
       "      <td>...</td>\n",
       "      <td>...</td>\n",
       "      <td>...</td>\n",
       "      <td>...</td>\n",
       "      <td>...</td>\n",
       "      <td>...</td>\n",
       "    </tr>\n",
       "    <tr>\n",
       "      <th>1732673</th>\n",
       "      <td>Nouvelle-Aquitaine</td>\n",
       "      <td>Données consolidées</td>\n",
       "      <td>2021-03-28 01:00:00+00:00</td>\n",
       "      <td>5008.0</td>\n",
       "      <td>145.0</td>\n",
       "      <td>4101.0</td>\n",
       "      <td>131.0</td>\n",
       "      <td>0.0</td>\n",
       "      <td>202.0</td>\n",
       "      <td>NaN</td>\n",
       "      <td>...</td>\n",
       "      <td>0.0</td>\n",
       "      <td>0.0</td>\n",
       "      <td>4.03</td>\n",
       "      <td>11.44</td>\n",
       "      <td>2.22</td>\n",
       "      <td>32.74</td>\n",
       "      <td>NaN</td>\n",
       "      <td>NaN</td>\n",
       "      <td>NaN</td>\n",
       "      <td>NaN</td>\n",
       "    </tr>\n",
       "    <tr>\n",
       "      <th>1732675</th>\n",
       "      <td>Île-de-France</td>\n",
       "      <td>Données consolidées</td>\n",
       "      <td>2021-03-28 01:00:00+00:00</td>\n",
       "      <td>7017.0</td>\n",
       "      <td>271.0</td>\n",
       "      <td>NaN</td>\n",
       "      <td>41.0</td>\n",
       "      <td>0.0</td>\n",
       "      <td>11.0</td>\n",
       "      <td>NaN</td>\n",
       "      <td>...</td>\n",
       "      <td>0.0</td>\n",
       "      <td>0.0</td>\n",
       "      <td>0.16</td>\n",
       "      <td>55.00</td>\n",
       "      <td>2.18</td>\n",
       "      <td>47.81</td>\n",
       "      <td>NaN</td>\n",
       "      <td>NaN</td>\n",
       "      <td>NaN</td>\n",
       "      <td>NaN</td>\n",
       "    </tr>\n",
       "    <tr>\n",
       "      <th>1732677</th>\n",
       "      <td>Pays de la Loire</td>\n",
       "      <td>Données consolidées</td>\n",
       "      <td>2021-03-28 01:00:00+00:00</td>\n",
       "      <td>3232.0</td>\n",
       "      <td>156.0</td>\n",
       "      <td>NaN</td>\n",
       "      <td>53.0</td>\n",
       "      <td>0.0</td>\n",
       "      <td>4.0</td>\n",
       "      <td>NaN</td>\n",
       "      <td>...</td>\n",
       "      <td>0.0</td>\n",
       "      <td>0.0</td>\n",
       "      <td>0.12</td>\n",
       "      <td>36.36</td>\n",
       "      <td>1.55</td>\n",
       "      <td>64.94</td>\n",
       "      <td>NaN</td>\n",
       "      <td>NaN</td>\n",
       "      <td>NaN</td>\n",
       "      <td>NaN</td>\n",
       "    </tr>\n",
       "    <tr>\n",
       "      <th>1732678</th>\n",
       "      <td>Normandie</td>\n",
       "      <td>Données consolidées</td>\n",
       "      <td>2021-03-28 01:00:00+00:00</td>\n",
       "      <td>3187.0</td>\n",
       "      <td>254.0</td>\n",
       "      <td>8189.0</td>\n",
       "      <td>266.0</td>\n",
       "      <td>0.0</td>\n",
       "      <td>10.0</td>\n",
       "      <td>NaN</td>\n",
       "      <td>...</td>\n",
       "      <td>0.0</td>\n",
       "      <td>0.0</td>\n",
       "      <td>0.31</td>\n",
       "      <td>33.33</td>\n",
       "      <td>2.67</td>\n",
       "      <td>66.93</td>\n",
       "      <td>NaN</td>\n",
       "      <td>NaN</td>\n",
       "      <td>NaN</td>\n",
       "      <td>NaN</td>\n",
       "    </tr>\n",
       "    <tr>\n",
       "      <th>1732679</th>\n",
       "      <td>Provence-Alpes-Côte d'Azur</td>\n",
       "      <td>Données consolidées</td>\n",
       "      <td>2021-03-28 01:00:00+00:00</td>\n",
       "      <td>4318.0</td>\n",
       "      <td>131.0</td>\n",
       "      <td>NaN</td>\n",
       "      <td>31.0</td>\n",
       "      <td>0.0</td>\n",
       "      <td>580.0</td>\n",
       "      <td>0.0</td>\n",
       "      <td>...</td>\n",
       "      <td>0.0</td>\n",
       "      <td>0.0</td>\n",
       "      <td>13.43</td>\n",
       "      <td>17.72</td>\n",
       "      <td>2.04</td>\n",
       "      <td>29.14</td>\n",
       "      <td>NaN</td>\n",
       "      <td>NaN</td>\n",
       "      <td>NaN</td>\n",
       "      <td>NaN</td>\n",
       "    </tr>\n",
       "  </tbody>\n",
       "</table>\n",
       "<p>72 rows × 28 columns</p>\n",
       "</div>"
      ],
      "text/plain": [
       "                         region_nom               nature  \\\n",
       "680309                Île-de-France  Données définitives   \n",
       "680311      Bourgogne-Franche-Comté  Données définitives   \n",
       "680315              Hauts-de-France  Données définitives   \n",
       "680316                    Occitanie  Données définitives   \n",
       "680319           Nouvelle-Aquitaine  Données définitives   \n",
       "...                             ...                  ...   \n",
       "1732673          Nouvelle-Aquitaine  Données consolidées   \n",
       "1732675               Île-de-France  Données consolidées   \n",
       "1732677            Pays de la Loire  Données consolidées   \n",
       "1732678                   Normandie  Données consolidées   \n",
       "1732679  Provence-Alpes-Côte d'Azur  Données consolidées   \n",
       "\n",
       "                             date  conso_inter  prod_therm  prod_nuc  \\\n",
       "680309  2016-03-27 01:00:00+00:00       7215.0       298.0       NaN   \n",
       "680311  2016-03-27 01:00:00+00:00       2181.0       107.0       NaN   \n",
       "680315  2016-03-27 01:00:00+00:00       5591.0       410.0    5301.0   \n",
       "680316  2016-03-27 01:00:00+00:00       3889.0        56.0    2337.0   \n",
       "680319  2016-03-27 01:00:00+00:00       4592.0       156.0    3677.0   \n",
       "...                           ...          ...         ...       ...   \n",
       "1732673 2021-03-28 01:00:00+00:00       5008.0       145.0    4101.0   \n",
       "1732675 2021-03-28 01:00:00+00:00       7017.0       271.0       NaN   \n",
       "1732677 2021-03-28 01:00:00+00:00       3232.0       156.0       NaN   \n",
       "1732678 2021-03-28 01:00:00+00:00       3187.0       254.0    8189.0   \n",
       "1732679 2021-03-28 01:00:00+00:00       4318.0       131.0       NaN   \n",
       "\n",
       "         prod_eol  prod_sol  prod_hydro  conso_hydro  ...  tco_nuc  tch_nuc  \\\n",
       "680309        4.0       0.0        11.0          NaN  ...      NaN      NaN   \n",
       "680311      297.0       0.0        86.0          0.0  ...      NaN      NaN   \n",
       "680315      551.0       0.0         3.0          0.0  ...      NaN      NaN   \n",
       "680316      298.0       0.0       836.0       -670.0  ...      NaN      NaN   \n",
       "680319      245.0      -1.0       465.0          NaN  ...      NaN      NaN   \n",
       "...           ...       ...         ...          ...  ...      ...      ...   \n",
       "1732673     131.0       0.0       202.0          NaN  ...      0.0      0.0   \n",
       "1732675      41.0       0.0        11.0          NaN  ...      0.0      0.0   \n",
       "1732677      53.0       0.0         4.0          NaN  ...      0.0      0.0   \n",
       "1732678     266.0       0.0        10.0          NaN  ...      0.0      0.0   \n",
       "1732679      31.0       0.0       580.0          0.0  ...      0.0      0.0   \n",
       "\n",
       "         tco_eol  tch_eol  tco_sol  tch_sol  tco_hydro  tch_hydro  tco_bio  \\\n",
       "680309       NaN      NaN      NaN      NaN        NaN        NaN      NaN   \n",
       "680311       NaN      NaN      NaN      NaN        NaN        NaN      NaN   \n",
       "680315       NaN      NaN      NaN      NaN        NaN        NaN      NaN   \n",
       "680316       NaN      NaN      NaN      NaN        NaN        NaN      NaN   \n",
       "680319       NaN      NaN      NaN      NaN        NaN        NaN      NaN   \n",
       "...          ...      ...      ...      ...        ...        ...      ...   \n",
       "1732673     4.03    11.44     2.22    32.74        NaN        NaN      NaN   \n",
       "1732675     0.16    55.00     2.18    47.81        NaN        NaN      NaN   \n",
       "1732677     0.12    36.36     1.55    64.94        NaN        NaN      NaN   \n",
       "1732678     0.31    33.33     2.67    66.93        NaN        NaN      NaN   \n",
       "1732679    13.43    17.72     2.04    29.14        NaN        NaN      NaN   \n",
       "\n",
       "         tch_bio  \n",
       "680309       NaN  \n",
       "680311       NaN  \n",
       "680315       NaN  \n",
       "680316       NaN  \n",
       "680319       NaN  \n",
       "...          ...  \n",
       "1732673      NaN  \n",
       "1732675      NaN  \n",
       "1732677      NaN  \n",
       "1732678      NaN  \n",
       "1732679      NaN  \n",
       "\n",
       "[72 rows x 28 columns]"
      ]
     },
     "execution_count": 11,
     "metadata": {},
     "output_type": "execute_result"
    }
   ],
   "source": [
    "# Identification des lignes dupliquées\n",
    "df_energie[df_energie.duplicated()]"
   ]
  },
  {
   "cell_type": "code",
   "execution_count": 12,
   "metadata": {
    "id": "fW0kGH-QXmiv"
   },
   "outputs": [],
   "source": [
    "# Traitement des lignes dupliquées\n",
    "df_energie = df_energie.drop_duplicates()"
   ]
  },
  {
   "cell_type": "code",
   "execution_count": 13,
   "metadata": {
    "colab": {
     "base_uri": "https://localhost:8080/"
    },
    "id": "Wit8bVcNEqDO",
    "outputId": "2aa86e85-f545-4466-f035-35d9a05545c6"
   },
   "outputs": [
    {
     "data": {
      "text/plain": [
       "region_nom                   0\n",
       "nature                       0\n",
       "date                         0\n",
       "conso_inter                  0\n",
       "prod_therm                   0\n",
       "prod_nuc                508248\n",
       "prod_eol                     0\n",
       "prod_sol                     0\n",
       "prod_hydro                   0\n",
       "conso_hydro             525815\n",
       "prod_bio                     0\n",
       "echanges                     0\n",
       "Stockage batterie      1017134\n",
       "Déstockage batterie     999567\n",
       "Eolien terrestre       1139638\n",
       "Eolien offshore        1139638\n",
       "tco_therm               841466\n",
       "tch_therm               841464\n",
       "tco_nuc                 911734\n",
       "tch_nuc                 929299\n",
       "tco_eol                 841466\n",
       "tch_eol                 841464\n",
       "tco_sol                 841466\n",
       "tch_sol                 841464\n",
       "tco_hydro              1051152\n",
       "tch_hydro              1051152\n",
       "tco_bio                1051152\n",
       "tch_bio                1051152\n",
       "dtype: int64"
      ]
     },
     "execution_count": 13,
     "metadata": {},
     "output_type": "execute_result"
    }
   ],
   "source": [
    "# Identification des NANs\n",
    "df_energie.isna().sum(axis = 0)"
   ]
  },
  {
   "cell_type": "code",
   "execution_count": 14,
   "metadata": {
    "id": "5zQGTbXJEy57"
   },
   "outputs": [],
   "source": [
    "# Traitement des NANs:\n",
    "\n",
    "# Cas 1 : Suppression des lignes\n",
    "df_energie.dropna(subset = ['conso_inter'], axis=0, inplace = True)\n",
    "\n",
    "# Cas 2 : Remplacement par zéro\n",
    "list_fillzero=['prod_nuc', 'prod_therm', 'prod_eol', 'prod_sol', 'prod_hydro', 'prod_bio', 'conso_hydro']\n",
    "\n",
    "for i in list_fillzero:\n",
    "    df_energie[i] = df_energie[i].fillna(0)\n",
    "\n",
    "# Cas 3 : Remplacement par zéro\n",
    "list_fillzero=['tco_therm', 'tch_therm', 'tco_nuc', 'tch_nuc', 'tco_eol', 'tch_eol', 'tco_sol','tch_sol','tco_hydro','tch_hydro','tco_bio','tch_bio']\n",
    "\n",
    "for i in list_fillzero:\n",
    "    df_energie[i] = df_energie[i].fillna(0)\n",
    "    "
   ]
  },
  {
   "cell_type": "code",
   "execution_count": 15,
   "metadata": {
    "colab": {
     "base_uri": "https://localhost:8080/"
    },
    "id": "2nV7etx1Wl97",
    "outputId": "236524ae-3f18-4142-dccf-7040af62590c"
   },
   "outputs": [
    {
     "data": {
      "text/plain": [
       "region_nom                   0\n",
       "nature                       0\n",
       "date                         0\n",
       "conso_inter                  0\n",
       "prod_therm                   0\n",
       "prod_nuc                     0\n",
       "prod_eol                     0\n",
       "prod_sol                     0\n",
       "prod_hydro                   0\n",
       "conso_hydro                  0\n",
       "prod_bio                     0\n",
       "echanges                     0\n",
       "Stockage batterie      1017134\n",
       "Déstockage batterie     999567\n",
       "Eolien terrestre       1139638\n",
       "Eolien offshore        1139638\n",
       "tco_therm                    0\n",
       "tch_therm                    0\n",
       "tco_nuc                      0\n",
       "tch_nuc                      0\n",
       "tco_eol                      0\n",
       "tch_eol                      0\n",
       "tco_sol                      0\n",
       "tch_sol                      0\n",
       "tco_hydro                    0\n",
       "tch_hydro                    0\n",
       "tco_bio                      0\n",
       "tch_bio                      0\n",
       "dtype: int64"
      ]
     },
     "execution_count": 15,
     "metadata": {},
     "output_type": "execute_result"
    }
   ],
   "source": [
    "df_energie.isna().sum(axis = 0)"
   ]
  },
  {
   "cell_type": "markdown",
   "metadata": {
    "id": "RfPYscq7FAHh"
   },
   "source": [
    "### 1.2.5 Standardisation temporelle avec le DataSet Météo"
   ]
  },
  {
   "cell_type": "markdown",
   "metadata": {
    "id": "P5Y2IxJdY7T3"
   },
   "source": [
    "Probleme : pour grouper les TCO et TCH il faut les convertir de % en MW"
   ]
  },
  {
   "cell_type": "code",
   "execution_count": null,
   "metadata": {
    "id": "v0jVvYG_E4kQ"
   },
   "outputs": [],
   "source": [
    "# Groupby : Afin d'avoir la même granularité que la variable temps du dataset météo.\n",
    "# Nous perdons de l'information, mais je ne sais pas comment ré-echantillonner le DF météo afin de dedoubler les lignes.\n",
    "\n",
    "df_energie['date_index'] = df_energie['date']\n",
    "df_energie = df_energie.set_index('date_index')\n",
    "\n",
    "df_energie = df_energie.groupby( ['region_nom','nature', pd.Grouper(key = 'date' , freq = 'H')]).agg({\n",
    "    'conso_inter' : 'sum', \n",
    "    'prod_therm'  : 'sum', \n",
    "    'prod_nuc'    : 'sum', \n",
    "    'prod_eol'    : 'sum', \n",
    "    'prod_sol'    : 'sum',\n",
    "    'prod_hydro'  : 'sum', \n",
    "    'conso_hydro' : 'sum', \n",
    "    'prod_bio'    : 'sum', \n",
    "    'echanges'    : 'sum',\n",
    "})\n",
    "\n",
    "\n",
    "df_energie = df_energie.reset_index()\n",
    "\n",
    "df_energie = df_energie.sort_values(by = ['date'], ascending = True)"
   ]
  },
  {
   "cell_type": "markdown",
   "metadata": {
    "id": "1W8jVNn65Up4"
   },
   "source": [
    "## 1.3 Preprocessing DataSet Meteo"
   ]
  },
  {
   "cell_type": "markdown",
   "metadata": {
    "id": "JZ_IWEvJFWMd"
   },
   "source": [
    "### 1.3.1 Chargement"
   ]
  },
  {
   "cell_type": "code",
   "execution_count": 57,
   "metadata": {
    "id": "bSoCQNAnFvAD"
   },
   "outputs": [],
   "source": [
    "df_meteo = pd.read_csv(filepath_or_buffer='donnees-synop-essentielles-omm.csv', \n",
    "                 sep=';')"
   ]
  },
  {
   "cell_type": "markdown",
   "metadata": {
    "id": "__Vax_duFbyE"
   },
   "source": [
    "### 1.3.2 Filtrage"
   ]
  },
  {
   "cell_type": "code",
   "execution_count": 58,
   "metadata": {
    "id": "l6gzLPJuFz9i"
   },
   "outputs": [],
   "source": [
    "# Suppression des colonnes inutiles\n",
    "# Dans un premier temps on ne conserve que la temperature pour simplifier le dataset\n",
    "\n",
    "List_cols = {'ID OMM station', \n",
    "             'Pression au niveau mer',\n",
    "             'Variation de pression en 3 heures', \n",
    "             'Type de tendance barométrique',\n",
    "             'Direction du vent moyen 10 mn', \n",
    "             'Point de rosée', \n",
    "             'Humidité', \n",
    "             'Visibilité horizontale',\n",
    "             'Temps présent', \n",
    "             'Temps passé 1', \n",
    "             'Temps passé 2', \n",
    "             \"Nébulosité  des nuages de l' étage inférieur\",\n",
    "             \"Hauteur de la base des nuages de l'étage inférieur\",\n",
    "             \"Type des nuages de l'étage inférieur\",\n",
    "             \"Type des nuages de l'étage moyen\",\n",
    "             \"Type des nuages de l'étage supérieur\", \n",
    "             'Pression station',\n",
    "             'Niveau barométrique', \n",
    "             'Géopotentiel',\n",
    "             'Variation de pression en 24 heures',\n",
    "             'Température minimale sur 12 heures',\n",
    "             'Température minimale sur 24 heures',\n",
    "             'Température maximale sur 12 heures',\n",
    "             'Température maximale sur 24 heures',\n",
    "             'Température minimale du sol sur 12 heures',\n",
    "             'Méthode de mesure Température du thermomètre mouillé',\n",
    "             'Température du thermomètre mouillé',\n",
    "             'Rafale sur les 10 dernières minutes', \n",
    "             'Rafales sur une période',\n",
    "             'Periode de mesure de la rafale', \n",
    "             'Etat du sol',\n",
    "             'Hauteur totale de la couche de neige, glace, autre au sol',\n",
    "             'Hauteur de la neige fraîche', \n",
    "             'Periode de mesure de la neige fraiche',\n",
    "             'Précipitations dans la dernière heure',\n",
    "             'Précipitations dans les 3 dernières heures',\n",
    "             'Précipitations dans les 6 dernières heures',\n",
    "             'Précipitations dans les 12 dernières heures',\n",
    "             'Précipitations dans les 24 dernières heures', \n",
    "             'Phénomène spécial 1',\n",
    "             'Phénomène spécial 2', \n",
    "             'Phénomène spécial 3', \n",
    "             'Phénomène spécial 4',\n",
    "             'Nébulosité couche nuageuse 1', \n",
    "             'Type nuage 1', \n",
    "             'Hauteur de base 1',\n",
    "             'Nébulosité couche nuageuse 2', \n",
    "             'Type nuage 2', \n",
    "             'Hauteur de base 2',\n",
    "             'Nébulosité couche nuageuse 3', \n",
    "             'Type nuage 3', \n",
    "             'Hauteur de base 3',\n",
    "             'Nébulosité couche nuageuse 4', \n",
    "             'Type nuage 4', \n",
    "             'Hauteur de base 4',\n",
    "             'Coordonnees', \n",
    "             'Nom', \n",
    "             'Type de tendance barométrique.1',\n",
    "             'Temps passé 1.1', \n",
    "             'Temps présent.1', \n",
    "             'Température (°C)',\n",
    "             'Température minimale sur 12 heures (°C)',\n",
    "             'Température minimale sur 24 heures (°C)',\n",
    "             'Température maximale sur 12 heures (°C)',\n",
    "             'Température maximale sur 24 heures (°C)',\n",
    "             'Température minimale du sol sur 12 heures (en °C)', 'Latitude',\n",
    "             'Longitude', \n",
    "             'Altitude', \n",
    "             'communes (name)', \n",
    "             'communes (code)',\n",
    "             'EPCI (name)', \n",
    "             'EPCI (code)', \n",
    "             'department (name)', \n",
    "             'department (code)',\n",
    "             'region (code)',\n",
    "             'mois_de_l_annee'\n",
    "            }\n",
    "\n",
    "df_meteo = df_meteo.drop(List_cols, axis=1)"
   ]
  },
  {
   "cell_type": "code",
   "execution_count": null,
   "metadata": {
    "id": "A2PV93uUbbkc"
   },
   "outputs": [],
   "source": [
    "# Identification des région à supprimer\n",
    "# df_meteo['region (name)'].unique()"
   ]
  },
  {
   "cell_type": "code",
   "execution_count": 59,
   "metadata": {
    "id": "2-hifAIfGddH"
   },
   "outputs": [],
   "source": [
    "# Suppression des région qui sont en dehors du dataset energie\n",
    "region_to_drop = ['Martinique',\n",
    "                  'Guyane',\n",
    "                  'La Réunion',\n",
    "                  'Guadeloupe',\n",
    "                  'Mayotte',\n",
    "                  'Terres australes et antarctiques françaises',\n",
    "                  'Saint-Pierre-et-Miquelon',\n",
    "                  'Saint-Barthélemy',\n",
    "                   'Corse'\n",
    "                 ]\n",
    "\n",
    "for j in region_to_drop:\n",
    "    df_meteo = df_meteo[df_meteo['region (name)'] != j]"
   ]
  },
  {
   "cell_type": "code",
   "execution_count": null,
   "metadata": {
    "id": "lWsJllngb5Zg"
   },
   "outputs": [],
   "source": [
    "# Contrôle\n",
    "# df_meteo['region (name)'].unique()"
   ]
  },
  {
   "cell_type": "markdown",
   "metadata": {
    "id": "h3uEEZPIF6HV"
   },
   "source": [
    "### 1.3.3 Standardisation"
   ]
  },
  {
   "cell_type": "code",
   "execution_count": 60,
   "metadata": {
    "colab": {
     "base_uri": "https://localhost:8080/"
    },
    "id": "q8RU61RWGDHf",
    "outputId": "851b18e0-54dd-459c-bc4f-4a5d19b047ca"
   },
   "outputs": [
    {
     "data": {
      "text/plain": [
       "Index(['date', 'vitesse_vent_10min', 'temperature', 'nebulosite_totale',\n",
       "       'region_nom'],\n",
       "      dtype='object')"
      ]
     },
     "execution_count": 60,
     "metadata": {},
     "output_type": "execute_result"
    }
   ],
   "source": [
    "# Les variables sont renommées pour plus d'homogénéité avec le 1er DataFrame\n",
    "\n",
    "Dic_Noms_meteo = {'Date'             : 'date',\n",
    "                 'Température'       : 'temperature',\n",
    "                 'region (name)'     : 'region_nom', \n",
    "                 'Vitesse du vent moyen 10 mn': 'vitesse_vent_10min',\n",
    "                 'Nebulosité totale' : 'nebulosite_totale'\n",
    "                }\n",
    "    \n",
    "df_meteo = df_meteo.rename(Dic_Noms_meteo, axis=1)\n",
    "df_meteo.columns"
   ]
  },
  {
   "cell_type": "code",
   "execution_count": 61,
   "metadata": {
    "id": "De8JcFETGGUz"
   },
   "outputs": [],
   "source": [
    "# Temperature : conversion degrès Kevin => degrès Celsius\n",
    "df_meteo['temperature'] = df_meteo['temperature'] - 273.15"
   ]
  },
  {
   "cell_type": "code",
   "execution_count": 46,
   "metadata": {
    "id": "_lCsRqZwGXOy"
   },
   "outputs": [],
   "source": [
    "# date : Conversion du type de variable temps\n",
    "df_meteo['date'] = pd.to_datetime(df_meteo['date'], utc=True)"
   ]
  },
  {
   "cell_type": "code",
   "execution_count": 63,
   "metadata": {
    "id": "QT6B5xc_G3Hn"
   },
   "outputs": [],
   "source": [
    "# Standardisation des noms des régions\n",
    "dico_df_meteo = {'Occitanie'           :'Occitanie',\n",
    "                 'Normandie'           :'Normandie', \n",
    "                 'Bretagne'            :'Bretagne',\n",
    "                 \"Provence-Alpes-Côte d'Azur\":\"Provence-Alpes-Côte d'Azur\", \n",
    "                 'Hauts-de-France'     :'Hauts-de-France', \n",
    "                 'Île-de-France'       :'Île-de-France',\n",
    "                 'Grand Est'           :'Grand Est', \n",
    "                 'Nouvelle-Aquitaine'  :'Nouvelle-Aquitaine',\n",
    "                 'Bourgogne-Franche-Comté':'Bourgogne-Franche-Comté', \n",
    "                 'Pays de la Loire'    :'Centre-Val de Loire',\n",
    "                 'Auvergne-Rhône-Alpes':'Auvergne-Rhône-Alpes', \n",
    "                 'Centre-Val de Loire' :'Centre-Val de Loire'}\n",
    "\n",
    "df_meteo = df_meteo.rename(dico_df_meteo, axis = 1)"
   ]
  },
  {
   "cell_type": "markdown",
   "metadata": {
    "id": "yogcakFiFgZq"
   },
   "source": [
    "### 1.3.4 Complétude"
   ]
  },
  {
   "cell_type": "markdown",
   "metadata": {
    "id": "LQ4oWuzsdNwW"
   },
   "source": [
    "**Doublons**"
   ]
  },
  {
   "cell_type": "code",
   "execution_count": 64,
   "metadata": {
    "colab": {
     "base_uri": "https://localhost:8080/"
    },
    "id": "1lDjSIlhcmsn",
    "outputId": "1a384282-12e9-4fac-fb6f-aad52e7a68c9"
   },
   "outputs": [
    {
     "data": {
      "text/plain": [
       "764"
      ]
     },
     "execution_count": 64,
     "metadata": {},
     "output_type": "execute_result"
    }
   ],
   "source": [
    "# Recherche de lignes dupliquées\n",
    "df_meteo.duplicated().sum()"
   ]
  },
  {
   "cell_type": "code",
   "execution_count": 65,
   "metadata": {
    "id": "T_9U8i7Xc6Nl"
   },
   "outputs": [],
   "source": [
    "# Traitement des lignes en doublons\n",
    "df_meteo = df_meteo.drop_duplicates()"
   ]
  },
  {
   "cell_type": "markdown",
   "metadata": {
    "id": "v0zJoyABdRxG"
   },
   "source": [
    "**Region NAN**"
   ]
  },
  {
   "cell_type": "code",
   "execution_count": 66,
   "metadata": {
    "colab": {
     "base_uri": "https://localhost:8080/",
     "height": 206
    },
    "id": "9EtCL2PIGsLb",
    "outputId": "981d7645-e866-4f87-96dd-13f20850f7b7"
   },
   "outputs": [
    {
     "data": {
      "text/html": [
       "<div>\n",
       "<style scoped>\n",
       "    .dataframe tbody tr th:only-of-type {\n",
       "        vertical-align: middle;\n",
       "    }\n",
       "\n",
       "    .dataframe tbody tr th {\n",
       "        vertical-align: top;\n",
       "    }\n",
       "\n",
       "    .dataframe thead th {\n",
       "        text-align: right;\n",
       "    }\n",
       "</style>\n",
       "<table border=\"1\" class=\"dataframe\">\n",
       "  <thead>\n",
       "    <tr style=\"text-align: right;\">\n",
       "      <th></th>\n",
       "      <th>date</th>\n",
       "      <th>vitesse_vent_10min</th>\n",
       "      <th>temperature</th>\n",
       "      <th>nebulosite_totale</th>\n",
       "      <th>region_nom</th>\n",
       "    </tr>\n",
       "  </thead>\n",
       "  <tbody>\n",
       "    <tr>\n",
       "      <th>8</th>\n",
       "      <td>2013-04-03T23:00:00+02:00</td>\n",
       "      <td>1.0</td>\n",
       "      <td>23.5</td>\n",
       "      <td>NaN</td>\n",
       "      <td>NaN</td>\n",
       "    </tr>\n",
       "    <tr>\n",
       "      <th>15</th>\n",
       "      <td>2013-04-05T23:00:00+02:00</td>\n",
       "      <td>0.0</td>\n",
       "      <td>23.5</td>\n",
       "      <td>NaN</td>\n",
       "      <td>NaN</td>\n",
       "    </tr>\n",
       "    <tr>\n",
       "      <th>20</th>\n",
       "      <td>2013-04-06T05:00:00+02:00</td>\n",
       "      <td>6.2</td>\n",
       "      <td>26.8</td>\n",
       "      <td>NaN</td>\n",
       "      <td>NaN</td>\n",
       "    </tr>\n",
       "    <tr>\n",
       "      <th>25</th>\n",
       "      <td>2013-04-06T08:00:00+02:00</td>\n",
       "      <td>0.0</td>\n",
       "      <td>-16.3</td>\n",
       "      <td>90.0</td>\n",
       "      <td>NaN</td>\n",
       "    </tr>\n",
       "    <tr>\n",
       "      <th>29</th>\n",
       "      <td>2013-04-06T11:00:00+02:00</td>\n",
       "      <td>11.8</td>\n",
       "      <td>5.6</td>\n",
       "      <td>NaN</td>\n",
       "      <td>NaN</td>\n",
       "    </tr>\n",
       "  </tbody>\n",
       "</table>\n",
       "</div>"
      ],
      "text/plain": [
       "                         date  vitesse_vent_10min  temperature  \\\n",
       "8   2013-04-03T23:00:00+02:00                 1.0         23.5   \n",
       "15  2013-04-05T23:00:00+02:00                 0.0         23.5   \n",
       "20  2013-04-06T05:00:00+02:00                 6.2         26.8   \n",
       "25  2013-04-06T08:00:00+02:00                 0.0        -16.3   \n",
       "29  2013-04-06T11:00:00+02:00                11.8          5.6   \n",
       "\n",
       "    nebulosite_totale region_nom  \n",
       "8                 NaN        NaN  \n",
       "15                NaN        NaN  \n",
       "20                NaN        NaN  \n",
       "25               90.0        NaN  \n",
       "29                NaN        NaN  "
      ]
     },
     "execution_count": 66,
     "metadata": {},
     "output_type": "execute_result"
    }
   ],
   "source": [
    "# Correction de la région 'nan'\n",
    "df_meteo[df_meteo['region_nom'].isna()==True].head(5)"
   ]
  },
  {
   "cell_type": "code",
   "execution_count": 91,
   "metadata": {
    "id": "Qt-J8RFMGvwT"
   },
   "outputs": [],
   "source": [
    "# suppression de la région NAN\n",
    "df_meteo.dropna(subset = ['region_nom'], axis=0, inplace = True)"
   ]
  },
  {
   "cell_type": "markdown",
   "metadata": {
    "id": "uOEdjY5BdV78"
   },
   "source": [
    "**Autres NANs**"
   ]
  },
  {
   "cell_type": "code",
   "execution_count": 95,
   "metadata": {
    "colab": {
     "base_uri": "https://localhost:8080/"
    },
    "id": "VkiaI6h1G-w5",
    "outputId": "9ac348e2-7362-44f8-bb44-33c2dd1aa48c"
   },
   "outputs": [
    {
     "data": {
      "text/html": [
       "<div>\n",
       "<style scoped>\n",
       "    .dataframe tbody tr th:only-of-type {\n",
       "        vertical-align: middle;\n",
       "    }\n",
       "\n",
       "    .dataframe tbody tr th {\n",
       "        vertical-align: top;\n",
       "    }\n",
       "\n",
       "    .dataframe thead th {\n",
       "        text-align: right;\n",
       "    }\n",
       "</style>\n",
       "<table border=\"1\" class=\"dataframe\">\n",
       "  <thead>\n",
       "    <tr style=\"text-align: right;\">\n",
       "      <th></th>\n",
       "      <th>vitesse_vent_10min</th>\n",
       "      <th>temperature</th>\n",
       "      <th>nebulosite_totale</th>\n",
       "      <th>region_nom</th>\n",
       "    </tr>\n",
       "    <tr>\n",
       "      <th>date</th>\n",
       "      <th></th>\n",
       "      <th></th>\n",
       "      <th></th>\n",
       "      <th></th>\n",
       "    </tr>\n",
       "  </thead>\n",
       "  <tbody>\n",
       "    <tr>\n",
       "      <th>2018-12-16 06:00:00+00:00</th>\n",
       "      <td>0.0</td>\n",
       "      <td>3.0</td>\n",
       "      <td>77.05043</td>\n",
       "      <td>Auvergne-Rhône-Alpes</td>\n",
       "    </tr>\n",
       "    <tr>\n",
       "      <th>2021-09-27 03:00:00+00:00</th>\n",
       "      <td>2.4</td>\n",
       "      <td>13.9</td>\n",
       "      <td>90.00000</td>\n",
       "      <td>Auvergne-Rhône-Alpes</td>\n",
       "    </tr>\n",
       "    <tr>\n",
       "      <th>2020-01-31 03:00:00+00:00</th>\n",
       "      <td>2.2</td>\n",
       "      <td>8.8</td>\n",
       "      <td>100.00000</td>\n",
       "      <td>Auvergne-Rhône-Alpes</td>\n",
       "    </tr>\n",
       "    <tr>\n",
       "      <th>2016-01-01 09:00:00+00:00</th>\n",
       "      <td>3.7</td>\n",
       "      <td>9.3</td>\n",
       "      <td>50.00000</td>\n",
       "      <td>Auvergne-Rhône-Alpes</td>\n",
       "    </tr>\n",
       "    <tr>\n",
       "      <th>2020-01-31 03:00:00+00:00</th>\n",
       "      <td>3.9</td>\n",
       "      <td>12.1</td>\n",
       "      <td>100.00000</td>\n",
       "      <td>Auvergne-Rhône-Alpes</td>\n",
       "    </tr>\n",
       "    <tr>\n",
       "      <th>...</th>\n",
       "      <td>...</td>\n",
       "      <td>...</td>\n",
       "      <td>...</td>\n",
       "      <td>...</td>\n",
       "    </tr>\n",
       "    <tr>\n",
       "      <th>2013-03-31 15:00:00+00:00</th>\n",
       "      <td>3.6</td>\n",
       "      <td>5.0</td>\n",
       "      <td>75.00000</td>\n",
       "      <td>Île-de-France</td>\n",
       "    </tr>\n",
       "    <tr>\n",
       "      <th>2010-08-29 06:00:00+00:00</th>\n",
       "      <td>3.1</td>\n",
       "      <td>12.1</td>\n",
       "      <td>60.00000</td>\n",
       "      <td>Île-de-France</td>\n",
       "    </tr>\n",
       "    <tr>\n",
       "      <th>2019-11-17 03:00:00+00:00</th>\n",
       "      <td>1.5</td>\n",
       "      <td>5.1</td>\n",
       "      <td>100.00000</td>\n",
       "      <td>Île-de-France</td>\n",
       "    </tr>\n",
       "    <tr>\n",
       "      <th>2010-08-29 09:00:00+00:00</th>\n",
       "      <td>4.6</td>\n",
       "      <td>17.0</td>\n",
       "      <td>75.00000</td>\n",
       "      <td>Île-de-France</td>\n",
       "    </tr>\n",
       "    <tr>\n",
       "      <th>2014-01-28 18:00:00+00:00</th>\n",
       "      <td>5.1</td>\n",
       "      <td>6.3</td>\n",
       "      <td>100.00000</td>\n",
       "      <td>Île-de-France</td>\n",
       "    </tr>\n",
       "  </tbody>\n",
       "</table>\n",
       "<p>1430171 rows × 4 columns</p>\n",
       "</div>"
      ],
      "text/plain": [
       "                           vitesse_vent_10min  temperature  nebulosite_totale  \\\n",
       "date                                                                            \n",
       "2018-12-16 06:00:00+00:00                 0.0          3.0           77.05043   \n",
       "2021-09-27 03:00:00+00:00                 2.4         13.9           90.00000   \n",
       "2020-01-31 03:00:00+00:00                 2.2          8.8          100.00000   \n",
       "2016-01-01 09:00:00+00:00                 3.7          9.3           50.00000   \n",
       "2020-01-31 03:00:00+00:00                 3.9         12.1          100.00000   \n",
       "...                                       ...          ...                ...   \n",
       "2013-03-31 15:00:00+00:00                 3.6          5.0           75.00000   \n",
       "2010-08-29 06:00:00+00:00                 3.1         12.1           60.00000   \n",
       "2019-11-17 03:00:00+00:00                 1.5          5.1          100.00000   \n",
       "2010-08-29 09:00:00+00:00                 4.6         17.0           75.00000   \n",
       "2014-01-28 18:00:00+00:00                 5.1          6.3          100.00000   \n",
       "\n",
       "                                     region_nom  \n",
       "date                                             \n",
       "2018-12-16 06:00:00+00:00  Auvergne-Rhône-Alpes  \n",
       "2021-09-27 03:00:00+00:00  Auvergne-Rhône-Alpes  \n",
       "2020-01-31 03:00:00+00:00  Auvergne-Rhône-Alpes  \n",
       "2016-01-01 09:00:00+00:00  Auvergne-Rhône-Alpes  \n",
       "2020-01-31 03:00:00+00:00  Auvergne-Rhône-Alpes  \n",
       "...                                         ...  \n",
       "2013-03-31 15:00:00+00:00         Île-de-France  \n",
       "2010-08-29 06:00:00+00:00         Île-de-France  \n",
       "2019-11-17 03:00:00+00:00         Île-de-France  \n",
       "2010-08-29 09:00:00+00:00         Île-de-France  \n",
       "2014-01-28 18:00:00+00:00         Île-de-France  \n",
       "\n",
       "[1430171 rows x 4 columns]"
      ]
     },
     "execution_count": 95,
     "metadata": {},
     "output_type": "execute_result"
    }
   ],
   "source": [
    "df_meteo.sort_index().sort_values('region_nom')"
   ]
  },
  {
   "cell_type": "code",
   "execution_count": 75,
   "metadata": {},
   "outputs": [],
   "source": [
    "# date : Conversion du type de variable temps\n",
    "df_meteo['date'] = pd.to_datetime(df_meteo['date'], utc=True)"
   ]
  },
  {
   "cell_type": "code",
   "execution_count": 77,
   "metadata": {},
   "outputs": [],
   "source": [
    "df_meteo = df_meteo.set_index('date')"
   ]
  },
  {
   "cell_type": "code",
   "execution_count": 78,
   "metadata": {},
   "outputs": [],
   "source": [
    "col_meteo = df_meteo.columns"
   ]
  },
  {
   "cell_type": "code",
   "execution_count": 87,
   "metadata": {},
   "outputs": [],
   "source": [
    "df_meteo[df_meteo.columns[:3]] = imputer.fit_transform(df_meteo.iloc[:, :3])"
   ]
  },
  {
   "cell_type": "code",
   "execution_count": 89,
   "metadata": {},
   "outputs": [
    {
     "data": {
      "text/plain": [
       "vitesse_vent_10min         0\n",
       "temperature                0\n",
       "nebulosite_totale          0\n",
       "region_nom            223834\n",
       "dtype: int64"
      ]
     },
     "execution_count": 89,
     "metadata": {},
     "output_type": "execute_result"
    }
   ],
   "source": [
    "df_meteo.isna().sum()"
   ]
  },
  {
   "cell_type": "code",
   "execution_count": null,
   "metadata": {
    "id": "aJR0kuf6HBjG"
   },
   "outputs": [],
   "source": [
    "# Traitement des NANs des variables quantitatives\n",
    "\n",
    "df_meteo['temperature']        = df_meteo['temperature'].fillna(method='pad') #Remplacement par la valeur précédente\n",
    "df_meteo['vitesse_vent_10min'] = df_meteo['vitesse_vent_10min'].fillna(method='pad') #Remplacement par la valeur précédente\n",
    "df_meteo['nebulosite_totale']  = df_meteo['nebulosite_totale'].fillna(method='pad') #Remplacement par la valeur précédente\n",
    "\n",
    "#df_meteo['temperature']        = df_meteo['temperature'].fillna(df_meteo['temperature'].mean())\n",
    "#df_meteo['vitesse_vent_10min'] = df_meteo['vitesse_vent_10min'].fillna(df_meteo['vitesse_vent_10min'].mean())\n",
    "#df_meteo['nebulosite_totale']  = df_meteo['nebulosite_totale'].fillna(df_meteo['nebulosite_totale'].mean())"
   ]
  },
  {
   "cell_type": "code",
   "execution_count": 97,
   "metadata": {
    "colab": {
     "base_uri": "https://localhost:8080/"
    },
    "id": "otJAreARdwl2",
    "outputId": "d3a4894d-ec60-4468-9e92-93d9b64b9766"
   },
   "outputs": [
    {
     "data": {
      "text/plain": [
       "vitesse_vent_10min    0\n",
       "temperature           0\n",
       "nebulosite_totale     0\n",
       "region_nom            0\n",
       "dtype: int64"
      ]
     },
     "execution_count": 97,
     "metadata": {},
     "output_type": "execute_result"
    }
   ],
   "source": [
    "df_meteo.isna().sum(axis = 0)"
   ]
  },
  {
   "cell_type": "code",
   "execution_count": 104,
   "metadata": {},
   "outputs": [],
   "source": [
    "df_meteo = df_meteo.reset_index().groupby(['region_nom', 'date'])[['temperature', 'nebulosite_totale', 'region_nom']].mean()"
   ]
  },
  {
   "cell_type": "code",
   "execution_count": 105,
   "metadata": {},
   "outputs": [
    {
     "data": {
      "text/html": [
       "<div>\n",
       "<style scoped>\n",
       "    .dataframe tbody tr th:only-of-type {\n",
       "        vertical-align: middle;\n",
       "    }\n",
       "\n",
       "    .dataframe tbody tr th {\n",
       "        vertical-align: top;\n",
       "    }\n",
       "\n",
       "    .dataframe thead th {\n",
       "        text-align: right;\n",
       "    }\n",
       "</style>\n",
       "<table border=\"1\" class=\"dataframe\">\n",
       "  <thead>\n",
       "    <tr style=\"text-align: right;\">\n",
       "      <th></th>\n",
       "      <th></th>\n",
       "      <th>temperature</th>\n",
       "      <th>nebulosite_totale</th>\n",
       "    </tr>\n",
       "    <tr>\n",
       "      <th>region_nom</th>\n",
       "      <th>date</th>\n",
       "      <th></th>\n",
       "      <th></th>\n",
       "    </tr>\n",
       "  </thead>\n",
       "  <tbody>\n",
       "    <tr>\n",
       "      <th rowspan=\"5\" valign=\"top\">Auvergne-Rhône-Alpes</th>\n",
       "      <th>2010-01-01 00:00:00+00:00</th>\n",
       "      <td>6.300</td>\n",
       "      <td>86.025215</td>\n",
       "    </tr>\n",
       "    <tr>\n",
       "      <th>2010-01-01 03:00:00+00:00</th>\n",
       "      <td>5.725</td>\n",
       "      <td>86.025215</td>\n",
       "    </tr>\n",
       "    <tr>\n",
       "      <th>2010-01-01 06:00:00+00:00</th>\n",
       "      <td>5.700</td>\n",
       "      <td>97.500000</td>\n",
       "    </tr>\n",
       "    <tr>\n",
       "      <th>2010-01-01 09:00:00+00:00</th>\n",
       "      <td>5.925</td>\n",
       "      <td>100.000000</td>\n",
       "    </tr>\n",
       "    <tr>\n",
       "      <th>2010-01-01 12:00:00+00:00</th>\n",
       "      <td>5.875</td>\n",
       "      <td>100.000000</td>\n",
       "    </tr>\n",
       "    <tr>\n",
       "      <th>...</th>\n",
       "      <th>...</th>\n",
       "      <td>...</td>\n",
       "      <td>...</td>\n",
       "    </tr>\n",
       "    <tr>\n",
       "      <th rowspan=\"5\" valign=\"top\">Île-de-France</th>\n",
       "      <th>2022-05-23 06:00:00+00:00</th>\n",
       "      <td>16.300</td>\n",
       "      <td>100.000000</td>\n",
       "    </tr>\n",
       "    <tr>\n",
       "      <th>2022-05-23 09:00:00+00:00</th>\n",
       "      <td>18.900</td>\n",
       "      <td>90.000000</td>\n",
       "    </tr>\n",
       "    <tr>\n",
       "      <th>2022-05-23 12:00:00+00:00</th>\n",
       "      <td>16.700</td>\n",
       "      <td>100.000000</td>\n",
       "    </tr>\n",
       "    <tr>\n",
       "      <th>2022-05-23 15:00:00+00:00</th>\n",
       "      <td>17.300</td>\n",
       "      <td>90.000000</td>\n",
       "    </tr>\n",
       "    <tr>\n",
       "      <th>2022-05-23 18:00:00+00:00</th>\n",
       "      <td>15.800</td>\n",
       "      <td>100.000000</td>\n",
       "    </tr>\n",
       "  </tbody>\n",
       "</table>\n",
       "<p>433898 rows × 2 columns</p>\n",
       "</div>"
      ],
      "text/plain": [
       "                                                temperature  nebulosite_totale\n",
       "region_nom           date                                                     \n",
       "Auvergne-Rhône-Alpes 2010-01-01 00:00:00+00:00        6.300          86.025215\n",
       "                     2010-01-01 03:00:00+00:00        5.725          86.025215\n",
       "                     2010-01-01 06:00:00+00:00        5.700          97.500000\n",
       "                     2010-01-01 09:00:00+00:00        5.925         100.000000\n",
       "                     2010-01-01 12:00:00+00:00        5.875         100.000000\n",
       "...                                                     ...                ...\n",
       "Île-de-France        2022-05-23 06:00:00+00:00       16.300         100.000000\n",
       "                     2022-05-23 09:00:00+00:00       18.900          90.000000\n",
       "                     2022-05-23 12:00:00+00:00       16.700         100.000000\n",
       "                     2022-05-23 15:00:00+00:00       17.300          90.000000\n",
       "                     2022-05-23 18:00:00+00:00       15.800         100.000000\n",
       "\n",
       "[433898 rows x 2 columns]"
      ]
     },
     "execution_count": 105,
     "metadata": {},
     "output_type": "execute_result"
    }
   ],
   "source": [
    "df_meteo"
   ]
  },
  {
   "cell_type": "code",
   "execution_count": 108,
   "metadata": {},
   "outputs": [],
   "source": [
    "df_energie = df_energie.groupby(['region_nom', 'date']).mean()"
   ]
  },
  {
   "cell_type": "markdown",
   "metadata": {
    "id": "SEcfzJhm5YcG"
   },
   "source": [
    "## 1.4 Fusion des deux DataSet"
   ]
  },
  {
   "cell_type": "markdown",
   "metadata": {
    "id": "XoOY5TtjHrZz"
   },
   "source": [
    "### 1.4.1 Merge"
   ]
  },
  {
   "cell_type": "code",
   "execution_count": 126,
   "metadata": {
    "id": "r_isWp5QHiAk"
   },
   "outputs": [
    {
     "data": {
      "text/html": [
       "<div>\n",
       "<style scoped>\n",
       "    .dataframe tbody tr th:only-of-type {\n",
       "        vertical-align: middle;\n",
       "    }\n",
       "\n",
       "    .dataframe tbody tr th {\n",
       "        vertical-align: top;\n",
       "    }\n",
       "\n",
       "    .dataframe thead th {\n",
       "        text-align: right;\n",
       "    }\n",
       "</style>\n",
       "<table border=\"1\" class=\"dataframe\">\n",
       "  <thead>\n",
       "    <tr style=\"text-align: right;\">\n",
       "      <th></th>\n",
       "      <th></th>\n",
       "      <th>conso_inter</th>\n",
       "      <th>prod_therm</th>\n",
       "      <th>prod_nuc</th>\n",
       "      <th>prod_eol</th>\n",
       "      <th>prod_sol</th>\n",
       "      <th>prod_hydro</th>\n",
       "      <th>conso_hydro</th>\n",
       "      <th>prod_bio</th>\n",
       "      <th>echanges</th>\n",
       "      <th>Stockage batterie</th>\n",
       "      <th>...</th>\n",
       "      <th>tco_therm</th>\n",
       "      <th>tch_therm</th>\n",
       "      <th>tco_nuc</th>\n",
       "      <th>tch_nuc</th>\n",
       "      <th>tco_eol</th>\n",
       "      <th>tch_eol</th>\n",
       "      <th>tco_sol</th>\n",
       "      <th>tch_sol</th>\n",
       "      <th>tch_hydro</th>\n",
       "      <th>tch_bio</th>\n",
       "    </tr>\n",
       "    <tr>\n",
       "      <th>region_nom</th>\n",
       "      <th>date</th>\n",
       "      <th></th>\n",
       "      <th></th>\n",
       "      <th></th>\n",
       "      <th></th>\n",
       "      <th></th>\n",
       "      <th></th>\n",
       "      <th></th>\n",
       "      <th></th>\n",
       "      <th></th>\n",
       "      <th></th>\n",
       "      <th></th>\n",
       "      <th></th>\n",
       "      <th></th>\n",
       "      <th></th>\n",
       "      <th></th>\n",
       "      <th></th>\n",
       "      <th></th>\n",
       "      <th></th>\n",
       "      <th></th>\n",
       "      <th></th>\n",
       "      <th></th>\n",
       "    </tr>\n",
       "  </thead>\n",
       "  <tbody>\n",
       "    <tr>\n",
       "      <th rowspan=\"5\" valign=\"top\">Auvergne-Rhône-Alpes</th>\n",
       "      <th>2016-01-01 00:00:00+00:00</th>\n",
       "      <td>7789.0</td>\n",
       "      <td>193.0</td>\n",
       "      <td>11472.0</td>\n",
       "      <td>5.0</td>\n",
       "      <td>0.0</td>\n",
       "      <td>1303.0</td>\n",
       "      <td>-3.0</td>\n",
       "      <td>130.0</td>\n",
       "      <td>-5311.0</td>\n",
       "      <td>NaN</td>\n",
       "      <td>...</td>\n",
       "      <td>0.0</td>\n",
       "      <td>0.0</td>\n",
       "      <td>0.0</td>\n",
       "      <td>0.0</td>\n",
       "      <td>0.0</td>\n",
       "      <td>0.0</td>\n",
       "      <td>0.0</td>\n",
       "      <td>0.0</td>\n",
       "      <td>0.0</td>\n",
       "      <td>0.0</td>\n",
       "    </tr>\n",
       "    <tr>\n",
       "      <th>2016-01-01 00:30:00+00:00</th>\n",
       "      <td>7749.0</td>\n",
       "      <td>193.0</td>\n",
       "      <td>11541.0</td>\n",
       "      <td>6.0</td>\n",
       "      <td>0.0</td>\n",
       "      <td>1747.0</td>\n",
       "      <td>-4.0</td>\n",
       "      <td>120.0</td>\n",
       "      <td>-5854.0</td>\n",
       "      <td>NaN</td>\n",
       "      <td>...</td>\n",
       "      <td>0.0</td>\n",
       "      <td>0.0</td>\n",
       "      <td>0.0</td>\n",
       "      <td>0.0</td>\n",
       "      <td>0.0</td>\n",
       "      <td>0.0</td>\n",
       "      <td>0.0</td>\n",
       "      <td>0.0</td>\n",
       "      <td>0.0</td>\n",
       "      <td>0.0</td>\n",
       "    </tr>\n",
       "    <tr>\n",
       "      <th>2016-01-01 01:00:00+00:00</th>\n",
       "      <td>7724.0</td>\n",
       "      <td>193.0</td>\n",
       "      <td>11479.0</td>\n",
       "      <td>7.0</td>\n",
       "      <td>0.0</td>\n",
       "      <td>1450.0</td>\n",
       "      <td>-4.0</td>\n",
       "      <td>131.0</td>\n",
       "      <td>-5533.0</td>\n",
       "      <td>NaN</td>\n",
       "      <td>...</td>\n",
       "      <td>0.0</td>\n",
       "      <td>0.0</td>\n",
       "      <td>0.0</td>\n",
       "      <td>0.0</td>\n",
       "      <td>0.0</td>\n",
       "      <td>0.0</td>\n",
       "      <td>0.0</td>\n",
       "      <td>0.0</td>\n",
       "      <td>0.0</td>\n",
       "      <td>0.0</td>\n",
       "    </tr>\n",
       "    <tr>\n",
       "      <th>2016-01-01 01:30:00+00:00</th>\n",
       "      <td>7775.0</td>\n",
       "      <td>193.0</td>\n",
       "      <td>11547.0</td>\n",
       "      <td>7.0</td>\n",
       "      <td>0.0</td>\n",
       "      <td>1022.0</td>\n",
       "      <td>-12.0</td>\n",
       "      <td>130.0</td>\n",
       "      <td>-5112.0</td>\n",
       "      <td>NaN</td>\n",
       "      <td>...</td>\n",
       "      <td>0.0</td>\n",
       "      <td>0.0</td>\n",
       "      <td>0.0</td>\n",
       "      <td>0.0</td>\n",
       "      <td>0.0</td>\n",
       "      <td>0.0</td>\n",
       "      <td>0.0</td>\n",
       "      <td>0.0</td>\n",
       "      <td>0.0</td>\n",
       "      <td>0.0</td>\n",
       "    </tr>\n",
       "    <tr>\n",
       "      <th>2016-01-01 02:00:00+00:00</th>\n",
       "      <td>7580.0</td>\n",
       "      <td>194.0</td>\n",
       "      <td>11428.0</td>\n",
       "      <td>7.0</td>\n",
       "      <td>0.0</td>\n",
       "      <td>802.0</td>\n",
       "      <td>-891.0</td>\n",
       "      <td>130.0</td>\n",
       "      <td>-4089.0</td>\n",
       "      <td>NaN</td>\n",
       "      <td>...</td>\n",
       "      <td>0.0</td>\n",
       "      <td>0.0</td>\n",
       "      <td>0.0</td>\n",
       "      <td>0.0</td>\n",
       "      <td>0.0</td>\n",
       "      <td>0.0</td>\n",
       "      <td>0.0</td>\n",
       "      <td>0.0</td>\n",
       "      <td>0.0</td>\n",
       "      <td>0.0</td>\n",
       "    </tr>\n",
       "  </tbody>\n",
       "</table>\n",
       "<p>5 rows × 23 columns</p>\n",
       "</div>"
      ],
      "text/plain": [
       "                                                conso_inter  prod_therm  \\\n",
       "region_nom           date                                                 \n",
       "Auvergne-Rhône-Alpes 2016-01-01 00:00:00+00:00       7789.0       193.0   \n",
       "                     2016-01-01 00:30:00+00:00       7749.0       193.0   \n",
       "                     2016-01-01 01:00:00+00:00       7724.0       193.0   \n",
       "                     2016-01-01 01:30:00+00:00       7775.0       193.0   \n",
       "                     2016-01-01 02:00:00+00:00       7580.0       194.0   \n",
       "\n",
       "                                                prod_nuc  prod_eol  prod_sol  \\\n",
       "region_nom           date                                                      \n",
       "Auvergne-Rhône-Alpes 2016-01-01 00:00:00+00:00   11472.0       5.0       0.0   \n",
       "                     2016-01-01 00:30:00+00:00   11541.0       6.0       0.0   \n",
       "                     2016-01-01 01:00:00+00:00   11479.0       7.0       0.0   \n",
       "                     2016-01-01 01:30:00+00:00   11547.0       7.0       0.0   \n",
       "                     2016-01-01 02:00:00+00:00   11428.0       7.0       0.0   \n",
       "\n",
       "                                                prod_hydro  conso_hydro  \\\n",
       "region_nom           date                                                 \n",
       "Auvergne-Rhône-Alpes 2016-01-01 00:00:00+00:00      1303.0         -3.0   \n",
       "                     2016-01-01 00:30:00+00:00      1747.0         -4.0   \n",
       "                     2016-01-01 01:00:00+00:00      1450.0         -4.0   \n",
       "                     2016-01-01 01:30:00+00:00      1022.0        -12.0   \n",
       "                     2016-01-01 02:00:00+00:00       802.0       -891.0   \n",
       "\n",
       "                                                prod_bio  echanges  \\\n",
       "region_nom           date                                            \n",
       "Auvergne-Rhône-Alpes 2016-01-01 00:00:00+00:00     130.0   -5311.0   \n",
       "                     2016-01-01 00:30:00+00:00     120.0   -5854.0   \n",
       "                     2016-01-01 01:00:00+00:00     131.0   -5533.0   \n",
       "                     2016-01-01 01:30:00+00:00     130.0   -5112.0   \n",
       "                     2016-01-01 02:00:00+00:00     130.0   -4089.0   \n",
       "\n",
       "                                                Stockage batterie  ...  \\\n",
       "region_nom           date                                          ...   \n",
       "Auvergne-Rhône-Alpes 2016-01-01 00:00:00+00:00                NaN  ...   \n",
       "                     2016-01-01 00:30:00+00:00                NaN  ...   \n",
       "                     2016-01-01 01:00:00+00:00                NaN  ...   \n",
       "                     2016-01-01 01:30:00+00:00                NaN  ...   \n",
       "                     2016-01-01 02:00:00+00:00                NaN  ...   \n",
       "\n",
       "                                                tco_therm  tch_therm  tco_nuc  \\\n",
       "region_nom           date                                                       \n",
       "Auvergne-Rhône-Alpes 2016-01-01 00:00:00+00:00        0.0        0.0      0.0   \n",
       "                     2016-01-01 00:30:00+00:00        0.0        0.0      0.0   \n",
       "                     2016-01-01 01:00:00+00:00        0.0        0.0      0.0   \n",
       "                     2016-01-01 01:30:00+00:00        0.0        0.0      0.0   \n",
       "                     2016-01-01 02:00:00+00:00        0.0        0.0      0.0   \n",
       "\n",
       "                                                tch_nuc  tco_eol  tch_eol  \\\n",
       "region_nom           date                                                   \n",
       "Auvergne-Rhône-Alpes 2016-01-01 00:00:00+00:00      0.0      0.0      0.0   \n",
       "                     2016-01-01 00:30:00+00:00      0.0      0.0      0.0   \n",
       "                     2016-01-01 01:00:00+00:00      0.0      0.0      0.0   \n",
       "                     2016-01-01 01:30:00+00:00      0.0      0.0      0.0   \n",
       "                     2016-01-01 02:00:00+00:00      0.0      0.0      0.0   \n",
       "\n",
       "                                                tco_sol  tch_sol  tch_hydro  \\\n",
       "region_nom           date                                                     \n",
       "Auvergne-Rhône-Alpes 2016-01-01 00:00:00+00:00      0.0      0.0        0.0   \n",
       "                     2016-01-01 00:30:00+00:00      0.0      0.0        0.0   \n",
       "                     2016-01-01 01:00:00+00:00      0.0      0.0        0.0   \n",
       "                     2016-01-01 01:30:00+00:00      0.0      0.0        0.0   \n",
       "                     2016-01-01 02:00:00+00:00      0.0      0.0        0.0   \n",
       "\n",
       "                                                tch_bio  \n",
       "region_nom           date                                \n",
       "Auvergne-Rhône-Alpes 2016-01-01 00:00:00+00:00      0.0  \n",
       "                     2016-01-01 00:30:00+00:00      0.0  \n",
       "                     2016-01-01 01:00:00+00:00      0.0  \n",
       "                     2016-01-01 01:30:00+00:00      0.0  \n",
       "                     2016-01-01 02:00:00+00:00      0.0  \n",
       "\n",
       "[5 rows x 23 columns]"
      ]
     },
     "metadata": {},
     "output_type": "display_data"
    },
    {
     "data": {
      "text/html": [
       "<div>\n",
       "<style scoped>\n",
       "    .dataframe tbody tr th:only-of-type {\n",
       "        vertical-align: middle;\n",
       "    }\n",
       "\n",
       "    .dataframe tbody tr th {\n",
       "        vertical-align: top;\n",
       "    }\n",
       "\n",
       "    .dataframe thead th {\n",
       "        text-align: right;\n",
       "    }\n",
       "</style>\n",
       "<table border=\"1\" class=\"dataframe\">\n",
       "  <thead>\n",
       "    <tr style=\"text-align: right;\">\n",
       "      <th></th>\n",
       "      <th></th>\n",
       "      <th>temperature</th>\n",
       "      <th>nebulosite_totale</th>\n",
       "    </tr>\n",
       "    <tr>\n",
       "      <th>region_nom</th>\n",
       "      <th>date</th>\n",
       "      <th></th>\n",
       "      <th></th>\n",
       "    </tr>\n",
       "  </thead>\n",
       "  <tbody>\n",
       "    <tr>\n",
       "      <th rowspan=\"5\" valign=\"top\">Auvergne-Rhône-Alpes</th>\n",
       "      <th>2010-01-01 00:00:00+00:00</th>\n",
       "      <td>6.300</td>\n",
       "      <td>86.025215</td>\n",
       "    </tr>\n",
       "    <tr>\n",
       "      <th>2010-01-01 03:00:00+00:00</th>\n",
       "      <td>5.725</td>\n",
       "      <td>86.025215</td>\n",
       "    </tr>\n",
       "    <tr>\n",
       "      <th>2010-01-01 06:00:00+00:00</th>\n",
       "      <td>5.700</td>\n",
       "      <td>97.500000</td>\n",
       "    </tr>\n",
       "    <tr>\n",
       "      <th>2010-01-01 09:00:00+00:00</th>\n",
       "      <td>5.925</td>\n",
       "      <td>100.000000</td>\n",
       "    </tr>\n",
       "    <tr>\n",
       "      <th>2010-01-01 12:00:00+00:00</th>\n",
       "      <td>5.875</td>\n",
       "      <td>100.000000</td>\n",
       "    </tr>\n",
       "  </tbody>\n",
       "</table>\n",
       "</div>"
      ],
      "text/plain": [
       "                                                temperature  nebulosite_totale\n",
       "region_nom           date                                                     \n",
       "Auvergne-Rhône-Alpes 2010-01-01 00:00:00+00:00        6.300          86.025215\n",
       "                     2010-01-01 03:00:00+00:00        5.725          86.025215\n",
       "                     2010-01-01 06:00:00+00:00        5.700          97.500000\n",
       "                     2010-01-01 09:00:00+00:00        5.925         100.000000\n",
       "                     2010-01-01 12:00:00+00:00        5.875         100.000000"
      ]
     },
     "metadata": {},
     "output_type": "display_data"
    }
   ],
   "source": [
    "# jointure des deux dataset\n",
    "\n",
    "display(df_energie.head())\n",
    "display(df_meteo.head())"
   ]
  },
  {
   "cell_type": "code",
   "execution_count": 127,
   "metadata": {
    "colab": {
     "base_uri": "https://localhost:8080/"
    },
    "id": "_Soeyw6XHmNl",
    "outputId": "dc7f865b-9017-4c11-a87c-f2526202dde3"
   },
   "outputs": [],
   "source": [
    "df = df_energie.join(df_meteo)"
   ]
  },
  {
   "cell_type": "code",
   "execution_count": 130,
   "metadata": {},
   "outputs": [
    {
     "data": {
      "text/html": [
       "<div>\n",
       "<style scoped>\n",
       "    .dataframe tbody tr th:only-of-type {\n",
       "        vertical-align: middle;\n",
       "    }\n",
       "\n",
       "    .dataframe tbody tr th {\n",
       "        vertical-align: top;\n",
       "    }\n",
       "\n",
       "    .dataframe thead th {\n",
       "        text-align: right;\n",
       "    }\n",
       "</style>\n",
       "<table border=\"1\" class=\"dataframe\">\n",
       "  <thead>\n",
       "    <tr style=\"text-align: right;\">\n",
       "      <th></th>\n",
       "      <th></th>\n",
       "      <th>conso_inter</th>\n",
       "      <th>prod_therm</th>\n",
       "      <th>prod_nuc</th>\n",
       "      <th>prod_eol</th>\n",
       "      <th>prod_sol</th>\n",
       "      <th>prod_hydro</th>\n",
       "      <th>conso_hydro</th>\n",
       "      <th>prod_bio</th>\n",
       "      <th>echanges</th>\n",
       "      <th>Stockage batterie</th>\n",
       "      <th>...</th>\n",
       "      <th>tco_nuc</th>\n",
       "      <th>tch_nuc</th>\n",
       "      <th>tco_eol</th>\n",
       "      <th>tch_eol</th>\n",
       "      <th>tco_sol</th>\n",
       "      <th>tch_sol</th>\n",
       "      <th>tch_hydro</th>\n",
       "      <th>tch_bio</th>\n",
       "      <th>temperature</th>\n",
       "      <th>nebulosite_totale</th>\n",
       "    </tr>\n",
       "    <tr>\n",
       "      <th>region_nom</th>\n",
       "      <th>date</th>\n",
       "      <th></th>\n",
       "      <th></th>\n",
       "      <th></th>\n",
       "      <th></th>\n",
       "      <th></th>\n",
       "      <th></th>\n",
       "      <th></th>\n",
       "      <th></th>\n",
       "      <th></th>\n",
       "      <th></th>\n",
       "      <th></th>\n",
       "      <th></th>\n",
       "      <th></th>\n",
       "      <th></th>\n",
       "      <th></th>\n",
       "      <th></th>\n",
       "      <th></th>\n",
       "      <th></th>\n",
       "      <th></th>\n",
       "      <th></th>\n",
       "      <th></th>\n",
       "    </tr>\n",
       "  </thead>\n",
       "  <tbody>\n",
       "    <tr>\n",
       "      <th rowspan=\"20\" valign=\"top\">Auvergne-Rhône-Alpes</th>\n",
       "      <th>2016-01-01 00:00:00+00:00</th>\n",
       "      <td>7789.0</td>\n",
       "      <td>193.0</td>\n",
       "      <td>11472.0</td>\n",
       "      <td>5.0</td>\n",
       "      <td>0.0</td>\n",
       "      <td>1303.0</td>\n",
       "      <td>-3.0</td>\n",
       "      <td>130.0</td>\n",
       "      <td>-5311.0</td>\n",
       "      <td>NaN</td>\n",
       "      <td>...</td>\n",
       "      <td>0.0</td>\n",
       "      <td>0.0</td>\n",
       "      <td>0.0</td>\n",
       "      <td>0.0</td>\n",
       "      <td>0.0</td>\n",
       "      <td>0.0</td>\n",
       "      <td>0.0</td>\n",
       "      <td>0.0</td>\n",
       "      <td>5.60</td>\n",
       "      <td>88.525215</td>\n",
       "    </tr>\n",
       "    <tr>\n",
       "      <th>2016-01-01 00:30:00+00:00</th>\n",
       "      <td>7749.0</td>\n",
       "      <td>193.0</td>\n",
       "      <td>11541.0</td>\n",
       "      <td>6.0</td>\n",
       "      <td>0.0</td>\n",
       "      <td>1747.0</td>\n",
       "      <td>-4.0</td>\n",
       "      <td>120.0</td>\n",
       "      <td>-5854.0</td>\n",
       "      <td>NaN</td>\n",
       "      <td>...</td>\n",
       "      <td>0.0</td>\n",
       "      <td>0.0</td>\n",
       "      <td>0.0</td>\n",
       "      <td>0.0</td>\n",
       "      <td>0.0</td>\n",
       "      <td>0.0</td>\n",
       "      <td>0.0</td>\n",
       "      <td>0.0</td>\n",
       "      <td>NaN</td>\n",
       "      <td>NaN</td>\n",
       "    </tr>\n",
       "    <tr>\n",
       "      <th>2016-01-01 01:00:00+00:00</th>\n",
       "      <td>7724.0</td>\n",
       "      <td>193.0</td>\n",
       "      <td>11479.0</td>\n",
       "      <td>7.0</td>\n",
       "      <td>0.0</td>\n",
       "      <td>1450.0</td>\n",
       "      <td>-4.0</td>\n",
       "      <td>131.0</td>\n",
       "      <td>-5533.0</td>\n",
       "      <td>NaN</td>\n",
       "      <td>...</td>\n",
       "      <td>0.0</td>\n",
       "      <td>0.0</td>\n",
       "      <td>0.0</td>\n",
       "      <td>0.0</td>\n",
       "      <td>0.0</td>\n",
       "      <td>0.0</td>\n",
       "      <td>0.0</td>\n",
       "      <td>0.0</td>\n",
       "      <td>NaN</td>\n",
       "      <td>NaN</td>\n",
       "    </tr>\n",
       "    <tr>\n",
       "      <th>2016-01-01 01:30:00+00:00</th>\n",
       "      <td>7775.0</td>\n",
       "      <td>193.0</td>\n",
       "      <td>11547.0</td>\n",
       "      <td>7.0</td>\n",
       "      <td>0.0</td>\n",
       "      <td>1022.0</td>\n",
       "      <td>-12.0</td>\n",
       "      <td>130.0</td>\n",
       "      <td>-5112.0</td>\n",
       "      <td>NaN</td>\n",
       "      <td>...</td>\n",
       "      <td>0.0</td>\n",
       "      <td>0.0</td>\n",
       "      <td>0.0</td>\n",
       "      <td>0.0</td>\n",
       "      <td>0.0</td>\n",
       "      <td>0.0</td>\n",
       "      <td>0.0</td>\n",
       "      <td>0.0</td>\n",
       "      <td>NaN</td>\n",
       "      <td>NaN</td>\n",
       "    </tr>\n",
       "    <tr>\n",
       "      <th>2016-01-01 02:00:00+00:00</th>\n",
       "      <td>7580.0</td>\n",
       "      <td>194.0</td>\n",
       "      <td>11428.0</td>\n",
       "      <td>7.0</td>\n",
       "      <td>0.0</td>\n",
       "      <td>802.0</td>\n",
       "      <td>-891.0</td>\n",
       "      <td>130.0</td>\n",
       "      <td>-4089.0</td>\n",
       "      <td>NaN</td>\n",
       "      <td>...</td>\n",
       "      <td>0.0</td>\n",
       "      <td>0.0</td>\n",
       "      <td>0.0</td>\n",
       "      <td>0.0</td>\n",
       "      <td>0.0</td>\n",
       "      <td>0.0</td>\n",
       "      <td>0.0</td>\n",
       "      <td>0.0</td>\n",
       "      <td>NaN</td>\n",
       "      <td>NaN</td>\n",
       "    </tr>\n",
       "    <tr>\n",
       "      <th>2016-01-01 02:30:00+00:00</th>\n",
       "      <td>7475.0</td>\n",
       "      <td>193.0</td>\n",
       "      <td>11014.0</td>\n",
       "      <td>10.0</td>\n",
       "      <td>0.0</td>\n",
       "      <td>810.0</td>\n",
       "      <td>-1775.0</td>\n",
       "      <td>131.0</td>\n",
       "      <td>-2908.0</td>\n",
       "      <td>NaN</td>\n",
       "      <td>...</td>\n",
       "      <td>0.0</td>\n",
       "      <td>0.0</td>\n",
       "      <td>0.0</td>\n",
       "      <td>0.0</td>\n",
       "      <td>0.0</td>\n",
       "      <td>0.0</td>\n",
       "      <td>0.0</td>\n",
       "      <td>0.0</td>\n",
       "      <td>NaN</td>\n",
       "      <td>NaN</td>\n",
       "    </tr>\n",
       "    <tr>\n",
       "      <th>2016-01-01 03:00:00+00:00</th>\n",
       "      <td>7312.0</td>\n",
       "      <td>193.0</td>\n",
       "      <td>10985.0</td>\n",
       "      <td>19.0</td>\n",
       "      <td>0.0</td>\n",
       "      <td>769.0</td>\n",
       "      <td>-2065.0</td>\n",
       "      <td>130.0</td>\n",
       "      <td>-2719.0</td>\n",
       "      <td>NaN</td>\n",
       "      <td>...</td>\n",
       "      <td>0.0</td>\n",
       "      <td>0.0</td>\n",
       "      <td>0.0</td>\n",
       "      <td>0.0</td>\n",
       "      <td>0.0</td>\n",
       "      <td>0.0</td>\n",
       "      <td>0.0</td>\n",
       "      <td>0.0</td>\n",
       "      <td>4.95</td>\n",
       "      <td>94.762607</td>\n",
       "    </tr>\n",
       "    <tr>\n",
       "      <th>2016-01-01 03:30:00+00:00</th>\n",
       "      <td>7196.0</td>\n",
       "      <td>193.0</td>\n",
       "      <td>11024.0</td>\n",
       "      <td>25.0</td>\n",
       "      <td>0.0</td>\n",
       "      <td>1012.0</td>\n",
       "      <td>-1772.0</td>\n",
       "      <td>130.0</td>\n",
       "      <td>-3417.0</td>\n",
       "      <td>NaN</td>\n",
       "      <td>...</td>\n",
       "      <td>0.0</td>\n",
       "      <td>0.0</td>\n",
       "      <td>0.0</td>\n",
       "      <td>0.0</td>\n",
       "      <td>0.0</td>\n",
       "      <td>0.0</td>\n",
       "      <td>0.0</td>\n",
       "      <td>0.0</td>\n",
       "      <td>NaN</td>\n",
       "      <td>NaN</td>\n",
       "    </tr>\n",
       "    <tr>\n",
       "      <th>2016-01-01 04:00:00+00:00</th>\n",
       "      <td>7109.0</td>\n",
       "      <td>193.0</td>\n",
       "      <td>10947.0</td>\n",
       "      <td>40.0</td>\n",
       "      <td>0.0</td>\n",
       "      <td>975.0</td>\n",
       "      <td>-1692.0</td>\n",
       "      <td>130.0</td>\n",
       "      <td>-3484.0</td>\n",
       "      <td>NaN</td>\n",
       "      <td>...</td>\n",
       "      <td>0.0</td>\n",
       "      <td>0.0</td>\n",
       "      <td>0.0</td>\n",
       "      <td>0.0</td>\n",
       "      <td>0.0</td>\n",
       "      <td>0.0</td>\n",
       "      <td>0.0</td>\n",
       "      <td>0.0</td>\n",
       "      <td>NaN</td>\n",
       "      <td>NaN</td>\n",
       "    </tr>\n",
       "    <tr>\n",
       "      <th>2016-01-01 04:30:00+00:00</th>\n",
       "      <td>7123.0</td>\n",
       "      <td>193.0</td>\n",
       "      <td>10985.0</td>\n",
       "      <td>44.0</td>\n",
       "      <td>0.0</td>\n",
       "      <td>967.0</td>\n",
       "      <td>-977.0</td>\n",
       "      <td>127.0</td>\n",
       "      <td>-4216.0</td>\n",
       "      <td>NaN</td>\n",
       "      <td>...</td>\n",
       "      <td>0.0</td>\n",
       "      <td>0.0</td>\n",
       "      <td>0.0</td>\n",
       "      <td>0.0</td>\n",
       "      <td>0.0</td>\n",
       "      <td>0.0</td>\n",
       "      <td>0.0</td>\n",
       "      <td>0.0</td>\n",
       "      <td>NaN</td>\n",
       "      <td>NaN</td>\n",
       "    </tr>\n",
       "    <tr>\n",
       "      <th>2016-01-01 05:00:00+00:00</th>\n",
       "      <td>7084.0</td>\n",
       "      <td>189.0</td>\n",
       "      <td>11009.0</td>\n",
       "      <td>44.0</td>\n",
       "      <td>0.0</td>\n",
       "      <td>685.0</td>\n",
       "      <td>-976.0</td>\n",
       "      <td>126.0</td>\n",
       "      <td>-3993.0</td>\n",
       "      <td>NaN</td>\n",
       "      <td>...</td>\n",
       "      <td>0.0</td>\n",
       "      <td>0.0</td>\n",
       "      <td>0.0</td>\n",
       "      <td>0.0</td>\n",
       "      <td>0.0</td>\n",
       "      <td>0.0</td>\n",
       "      <td>0.0</td>\n",
       "      <td>0.0</td>\n",
       "      <td>NaN</td>\n",
       "      <td>NaN</td>\n",
       "    </tr>\n",
       "    <tr>\n",
       "      <th>2016-01-01 05:30:00+00:00</th>\n",
       "      <td>7013.0</td>\n",
       "      <td>189.0</td>\n",
       "      <td>11049.0</td>\n",
       "      <td>48.0</td>\n",
       "      <td>0.0</td>\n",
       "      <td>731.0</td>\n",
       "      <td>-816.0</td>\n",
       "      <td>127.0</td>\n",
       "      <td>-4314.0</td>\n",
       "      <td>NaN</td>\n",
       "      <td>...</td>\n",
       "      <td>0.0</td>\n",
       "      <td>0.0</td>\n",
       "      <td>0.0</td>\n",
       "      <td>0.0</td>\n",
       "      <td>0.0</td>\n",
       "      <td>0.0</td>\n",
       "      <td>0.0</td>\n",
       "      <td>0.0</td>\n",
       "      <td>NaN</td>\n",
       "      <td>NaN</td>\n",
       "    </tr>\n",
       "    <tr>\n",
       "      <th>2016-01-01 06:00:00+00:00</th>\n",
       "      <td>6964.0</td>\n",
       "      <td>190.0</td>\n",
       "      <td>11031.0</td>\n",
       "      <td>49.0</td>\n",
       "      <td>0.0</td>\n",
       "      <td>729.0</td>\n",
       "      <td>-846.0</td>\n",
       "      <td>127.0</td>\n",
       "      <td>-4316.0</td>\n",
       "      <td>NaN</td>\n",
       "      <td>...</td>\n",
       "      <td>0.0</td>\n",
       "      <td>0.0</td>\n",
       "      <td>0.0</td>\n",
       "      <td>0.0</td>\n",
       "      <td>0.0</td>\n",
       "      <td>0.0</td>\n",
       "      <td>0.0</td>\n",
       "      <td>0.0</td>\n",
       "      <td>5.20</td>\n",
       "      <td>82.012607</td>\n",
       "    </tr>\n",
       "    <tr>\n",
       "      <th>2016-01-01 06:30:00+00:00</th>\n",
       "      <td>6904.0</td>\n",
       "      <td>193.0</td>\n",
       "      <td>10973.0</td>\n",
       "      <td>54.0</td>\n",
       "      <td>0.0</td>\n",
       "      <td>773.0</td>\n",
       "      <td>-1062.0</td>\n",
       "      <td>129.0</td>\n",
       "      <td>-4155.0</td>\n",
       "      <td>NaN</td>\n",
       "      <td>...</td>\n",
       "      <td>0.0</td>\n",
       "      <td>0.0</td>\n",
       "      <td>0.0</td>\n",
       "      <td>0.0</td>\n",
       "      <td>0.0</td>\n",
       "      <td>0.0</td>\n",
       "      <td>0.0</td>\n",
       "      <td>0.0</td>\n",
       "      <td>NaN</td>\n",
       "      <td>NaN</td>\n",
       "    </tr>\n",
       "    <tr>\n",
       "      <th>2016-01-01 07:00:00+00:00</th>\n",
       "      <td>6952.0</td>\n",
       "      <td>193.0</td>\n",
       "      <td>10916.0</td>\n",
       "      <td>54.0</td>\n",
       "      <td>0.0</td>\n",
       "      <td>851.0</td>\n",
       "      <td>-1690.0</td>\n",
       "      <td>130.0</td>\n",
       "      <td>-3501.0</td>\n",
       "      <td>NaN</td>\n",
       "      <td>...</td>\n",
       "      <td>0.0</td>\n",
       "      <td>0.0</td>\n",
       "      <td>0.0</td>\n",
       "      <td>0.0</td>\n",
       "      <td>0.0</td>\n",
       "      <td>0.0</td>\n",
       "      <td>0.0</td>\n",
       "      <td>0.0</td>\n",
       "      <td>NaN</td>\n",
       "      <td>NaN</td>\n",
       "    </tr>\n",
       "    <tr>\n",
       "      <th>2016-01-01 07:30:00+00:00</th>\n",
       "      <td>6839.0</td>\n",
       "      <td>193.0</td>\n",
       "      <td>10597.0</td>\n",
       "      <td>66.0</td>\n",
       "      <td>0.0</td>\n",
       "      <td>907.0</td>\n",
       "      <td>-1771.0</td>\n",
       "      <td>127.0</td>\n",
       "      <td>-3281.0</td>\n",
       "      <td>NaN</td>\n",
       "      <td>...</td>\n",
       "      <td>0.0</td>\n",
       "      <td>0.0</td>\n",
       "      <td>0.0</td>\n",
       "      <td>0.0</td>\n",
       "      <td>0.0</td>\n",
       "      <td>0.0</td>\n",
       "      <td>0.0</td>\n",
       "      <td>0.0</td>\n",
       "      <td>NaN</td>\n",
       "      <td>NaN</td>\n",
       "    </tr>\n",
       "    <tr>\n",
       "      <th>2016-01-01 08:00:00+00:00</th>\n",
       "      <td>6902.0</td>\n",
       "      <td>194.0</td>\n",
       "      <td>10630.0</td>\n",
       "      <td>72.0</td>\n",
       "      <td>9.0</td>\n",
       "      <td>982.0</td>\n",
       "      <td>-1996.0</td>\n",
       "      <td>127.0</td>\n",
       "      <td>-3116.0</td>\n",
       "      <td>NaN</td>\n",
       "      <td>...</td>\n",
       "      <td>0.0</td>\n",
       "      <td>0.0</td>\n",
       "      <td>0.0</td>\n",
       "      <td>0.0</td>\n",
       "      <td>0.0</td>\n",
       "      <td>0.0</td>\n",
       "      <td>0.0</td>\n",
       "      <td>0.0</td>\n",
       "      <td>NaN</td>\n",
       "      <td>NaN</td>\n",
       "    </tr>\n",
       "    <tr>\n",
       "      <th>2016-01-01 08:30:00+00:00</th>\n",
       "      <td>7121.0</td>\n",
       "      <td>194.0</td>\n",
       "      <td>10948.0</td>\n",
       "      <td>71.0</td>\n",
       "      <td>33.0</td>\n",
       "      <td>1271.0</td>\n",
       "      <td>-1768.0</td>\n",
       "      <td>126.0</td>\n",
       "      <td>-3754.0</td>\n",
       "      <td>NaN</td>\n",
       "      <td>...</td>\n",
       "      <td>0.0</td>\n",
       "      <td>0.0</td>\n",
       "      <td>0.0</td>\n",
       "      <td>0.0</td>\n",
       "      <td>0.0</td>\n",
       "      <td>0.0</td>\n",
       "      <td>0.0</td>\n",
       "      <td>0.0</td>\n",
       "      <td>NaN</td>\n",
       "      <td>NaN</td>\n",
       "    </tr>\n",
       "    <tr>\n",
       "      <th>2016-01-01 09:00:00+00:00</th>\n",
       "      <td>7229.0</td>\n",
       "      <td>194.0</td>\n",
       "      <td>10913.0</td>\n",
       "      <td>61.0</td>\n",
       "      <td>70.0</td>\n",
       "      <td>1246.0</td>\n",
       "      <td>-1559.0</td>\n",
       "      <td>122.0</td>\n",
       "      <td>-3817.0</td>\n",
       "      <td>NaN</td>\n",
       "      <td>...</td>\n",
       "      <td>0.0</td>\n",
       "      <td>0.0</td>\n",
       "      <td>0.0</td>\n",
       "      <td>0.0</td>\n",
       "      <td>0.0</td>\n",
       "      <td>0.0</td>\n",
       "      <td>0.0</td>\n",
       "      <td>0.0</td>\n",
       "      <td>5.35</td>\n",
       "      <td>88.000000</td>\n",
       "    </tr>\n",
       "    <tr>\n",
       "      <th>2016-01-01 09:30:00+00:00</th>\n",
       "      <td>7300.0</td>\n",
       "      <td>194.0</td>\n",
       "      <td>10954.0</td>\n",
       "      <td>52.0</td>\n",
       "      <td>96.0</td>\n",
       "      <td>1247.0</td>\n",
       "      <td>-976.0</td>\n",
       "      <td>120.0</td>\n",
       "      <td>-4388.0</td>\n",
       "      <td>NaN</td>\n",
       "      <td>...</td>\n",
       "      <td>0.0</td>\n",
       "      <td>0.0</td>\n",
       "      <td>0.0</td>\n",
       "      <td>0.0</td>\n",
       "      <td>0.0</td>\n",
       "      <td>0.0</td>\n",
       "      <td>0.0</td>\n",
       "      <td>0.0</td>\n",
       "      <td>NaN</td>\n",
       "      <td>NaN</td>\n",
       "    </tr>\n",
       "  </tbody>\n",
       "</table>\n",
       "<p>20 rows × 25 columns</p>\n",
       "</div>"
      ],
      "text/plain": [
       "                                                conso_inter  prod_therm  \\\n",
       "region_nom           date                                                 \n",
       "Auvergne-Rhône-Alpes 2016-01-01 00:00:00+00:00       7789.0       193.0   \n",
       "                     2016-01-01 00:30:00+00:00       7749.0       193.0   \n",
       "                     2016-01-01 01:00:00+00:00       7724.0       193.0   \n",
       "                     2016-01-01 01:30:00+00:00       7775.0       193.0   \n",
       "                     2016-01-01 02:00:00+00:00       7580.0       194.0   \n",
       "                     2016-01-01 02:30:00+00:00       7475.0       193.0   \n",
       "                     2016-01-01 03:00:00+00:00       7312.0       193.0   \n",
       "                     2016-01-01 03:30:00+00:00       7196.0       193.0   \n",
       "                     2016-01-01 04:00:00+00:00       7109.0       193.0   \n",
       "                     2016-01-01 04:30:00+00:00       7123.0       193.0   \n",
       "                     2016-01-01 05:00:00+00:00       7084.0       189.0   \n",
       "                     2016-01-01 05:30:00+00:00       7013.0       189.0   \n",
       "                     2016-01-01 06:00:00+00:00       6964.0       190.0   \n",
       "                     2016-01-01 06:30:00+00:00       6904.0       193.0   \n",
       "                     2016-01-01 07:00:00+00:00       6952.0       193.0   \n",
       "                     2016-01-01 07:30:00+00:00       6839.0       193.0   \n",
       "                     2016-01-01 08:00:00+00:00       6902.0       194.0   \n",
       "                     2016-01-01 08:30:00+00:00       7121.0       194.0   \n",
       "                     2016-01-01 09:00:00+00:00       7229.0       194.0   \n",
       "                     2016-01-01 09:30:00+00:00       7300.0       194.0   \n",
       "\n",
       "                                                prod_nuc  prod_eol  prod_sol  \\\n",
       "region_nom           date                                                      \n",
       "Auvergne-Rhône-Alpes 2016-01-01 00:00:00+00:00   11472.0       5.0       0.0   \n",
       "                     2016-01-01 00:30:00+00:00   11541.0       6.0       0.0   \n",
       "                     2016-01-01 01:00:00+00:00   11479.0       7.0       0.0   \n",
       "                     2016-01-01 01:30:00+00:00   11547.0       7.0       0.0   \n",
       "                     2016-01-01 02:00:00+00:00   11428.0       7.0       0.0   \n",
       "                     2016-01-01 02:30:00+00:00   11014.0      10.0       0.0   \n",
       "                     2016-01-01 03:00:00+00:00   10985.0      19.0       0.0   \n",
       "                     2016-01-01 03:30:00+00:00   11024.0      25.0       0.0   \n",
       "                     2016-01-01 04:00:00+00:00   10947.0      40.0       0.0   \n",
       "                     2016-01-01 04:30:00+00:00   10985.0      44.0       0.0   \n",
       "                     2016-01-01 05:00:00+00:00   11009.0      44.0       0.0   \n",
       "                     2016-01-01 05:30:00+00:00   11049.0      48.0       0.0   \n",
       "                     2016-01-01 06:00:00+00:00   11031.0      49.0       0.0   \n",
       "                     2016-01-01 06:30:00+00:00   10973.0      54.0       0.0   \n",
       "                     2016-01-01 07:00:00+00:00   10916.0      54.0       0.0   \n",
       "                     2016-01-01 07:30:00+00:00   10597.0      66.0       0.0   \n",
       "                     2016-01-01 08:00:00+00:00   10630.0      72.0       9.0   \n",
       "                     2016-01-01 08:30:00+00:00   10948.0      71.0      33.0   \n",
       "                     2016-01-01 09:00:00+00:00   10913.0      61.0      70.0   \n",
       "                     2016-01-01 09:30:00+00:00   10954.0      52.0      96.0   \n",
       "\n",
       "                                                prod_hydro  conso_hydro  \\\n",
       "region_nom           date                                                 \n",
       "Auvergne-Rhône-Alpes 2016-01-01 00:00:00+00:00      1303.0         -3.0   \n",
       "                     2016-01-01 00:30:00+00:00      1747.0         -4.0   \n",
       "                     2016-01-01 01:00:00+00:00      1450.0         -4.0   \n",
       "                     2016-01-01 01:30:00+00:00      1022.0        -12.0   \n",
       "                     2016-01-01 02:00:00+00:00       802.0       -891.0   \n",
       "                     2016-01-01 02:30:00+00:00       810.0      -1775.0   \n",
       "                     2016-01-01 03:00:00+00:00       769.0      -2065.0   \n",
       "                     2016-01-01 03:30:00+00:00      1012.0      -1772.0   \n",
       "                     2016-01-01 04:00:00+00:00       975.0      -1692.0   \n",
       "                     2016-01-01 04:30:00+00:00       967.0       -977.0   \n",
       "                     2016-01-01 05:00:00+00:00       685.0       -976.0   \n",
       "                     2016-01-01 05:30:00+00:00       731.0       -816.0   \n",
       "                     2016-01-01 06:00:00+00:00       729.0       -846.0   \n",
       "                     2016-01-01 06:30:00+00:00       773.0      -1062.0   \n",
       "                     2016-01-01 07:00:00+00:00       851.0      -1690.0   \n",
       "                     2016-01-01 07:30:00+00:00       907.0      -1771.0   \n",
       "                     2016-01-01 08:00:00+00:00       982.0      -1996.0   \n",
       "                     2016-01-01 08:30:00+00:00      1271.0      -1768.0   \n",
       "                     2016-01-01 09:00:00+00:00      1246.0      -1559.0   \n",
       "                     2016-01-01 09:30:00+00:00      1247.0       -976.0   \n",
       "\n",
       "                                                prod_bio  echanges  \\\n",
       "region_nom           date                                            \n",
       "Auvergne-Rhône-Alpes 2016-01-01 00:00:00+00:00     130.0   -5311.0   \n",
       "                     2016-01-01 00:30:00+00:00     120.0   -5854.0   \n",
       "                     2016-01-01 01:00:00+00:00     131.0   -5533.0   \n",
       "                     2016-01-01 01:30:00+00:00     130.0   -5112.0   \n",
       "                     2016-01-01 02:00:00+00:00     130.0   -4089.0   \n",
       "                     2016-01-01 02:30:00+00:00     131.0   -2908.0   \n",
       "                     2016-01-01 03:00:00+00:00     130.0   -2719.0   \n",
       "                     2016-01-01 03:30:00+00:00     130.0   -3417.0   \n",
       "                     2016-01-01 04:00:00+00:00     130.0   -3484.0   \n",
       "                     2016-01-01 04:30:00+00:00     127.0   -4216.0   \n",
       "                     2016-01-01 05:00:00+00:00     126.0   -3993.0   \n",
       "                     2016-01-01 05:30:00+00:00     127.0   -4314.0   \n",
       "                     2016-01-01 06:00:00+00:00     127.0   -4316.0   \n",
       "                     2016-01-01 06:30:00+00:00     129.0   -4155.0   \n",
       "                     2016-01-01 07:00:00+00:00     130.0   -3501.0   \n",
       "                     2016-01-01 07:30:00+00:00     127.0   -3281.0   \n",
       "                     2016-01-01 08:00:00+00:00     127.0   -3116.0   \n",
       "                     2016-01-01 08:30:00+00:00     126.0   -3754.0   \n",
       "                     2016-01-01 09:00:00+00:00     122.0   -3817.0   \n",
       "                     2016-01-01 09:30:00+00:00     120.0   -4388.0   \n",
       "\n",
       "                                                Stockage batterie  ...  \\\n",
       "region_nom           date                                          ...   \n",
       "Auvergne-Rhône-Alpes 2016-01-01 00:00:00+00:00                NaN  ...   \n",
       "                     2016-01-01 00:30:00+00:00                NaN  ...   \n",
       "                     2016-01-01 01:00:00+00:00                NaN  ...   \n",
       "                     2016-01-01 01:30:00+00:00                NaN  ...   \n",
       "                     2016-01-01 02:00:00+00:00                NaN  ...   \n",
       "                     2016-01-01 02:30:00+00:00                NaN  ...   \n",
       "                     2016-01-01 03:00:00+00:00                NaN  ...   \n",
       "                     2016-01-01 03:30:00+00:00                NaN  ...   \n",
       "                     2016-01-01 04:00:00+00:00                NaN  ...   \n",
       "                     2016-01-01 04:30:00+00:00                NaN  ...   \n",
       "                     2016-01-01 05:00:00+00:00                NaN  ...   \n",
       "                     2016-01-01 05:30:00+00:00                NaN  ...   \n",
       "                     2016-01-01 06:00:00+00:00                NaN  ...   \n",
       "                     2016-01-01 06:30:00+00:00                NaN  ...   \n",
       "                     2016-01-01 07:00:00+00:00                NaN  ...   \n",
       "                     2016-01-01 07:30:00+00:00                NaN  ...   \n",
       "                     2016-01-01 08:00:00+00:00                NaN  ...   \n",
       "                     2016-01-01 08:30:00+00:00                NaN  ...   \n",
       "                     2016-01-01 09:00:00+00:00                NaN  ...   \n",
       "                     2016-01-01 09:30:00+00:00                NaN  ...   \n",
       "\n",
       "                                                tco_nuc  tch_nuc  tco_eol  \\\n",
       "region_nom           date                                                   \n",
       "Auvergne-Rhône-Alpes 2016-01-01 00:00:00+00:00      0.0      0.0      0.0   \n",
       "                     2016-01-01 00:30:00+00:00      0.0      0.0      0.0   \n",
       "                     2016-01-01 01:00:00+00:00      0.0      0.0      0.0   \n",
       "                     2016-01-01 01:30:00+00:00      0.0      0.0      0.0   \n",
       "                     2016-01-01 02:00:00+00:00      0.0      0.0      0.0   \n",
       "                     2016-01-01 02:30:00+00:00      0.0      0.0      0.0   \n",
       "                     2016-01-01 03:00:00+00:00      0.0      0.0      0.0   \n",
       "                     2016-01-01 03:30:00+00:00      0.0      0.0      0.0   \n",
       "                     2016-01-01 04:00:00+00:00      0.0      0.0      0.0   \n",
       "                     2016-01-01 04:30:00+00:00      0.0      0.0      0.0   \n",
       "                     2016-01-01 05:00:00+00:00      0.0      0.0      0.0   \n",
       "                     2016-01-01 05:30:00+00:00      0.0      0.0      0.0   \n",
       "                     2016-01-01 06:00:00+00:00      0.0      0.0      0.0   \n",
       "                     2016-01-01 06:30:00+00:00      0.0      0.0      0.0   \n",
       "                     2016-01-01 07:00:00+00:00      0.0      0.0      0.0   \n",
       "                     2016-01-01 07:30:00+00:00      0.0      0.0      0.0   \n",
       "                     2016-01-01 08:00:00+00:00      0.0      0.0      0.0   \n",
       "                     2016-01-01 08:30:00+00:00      0.0      0.0      0.0   \n",
       "                     2016-01-01 09:00:00+00:00      0.0      0.0      0.0   \n",
       "                     2016-01-01 09:30:00+00:00      0.0      0.0      0.0   \n",
       "\n",
       "                                                tch_eol  tco_sol  tch_sol  \\\n",
       "region_nom           date                                                   \n",
       "Auvergne-Rhône-Alpes 2016-01-01 00:00:00+00:00      0.0      0.0      0.0   \n",
       "                     2016-01-01 00:30:00+00:00      0.0      0.0      0.0   \n",
       "                     2016-01-01 01:00:00+00:00      0.0      0.0      0.0   \n",
       "                     2016-01-01 01:30:00+00:00      0.0      0.0      0.0   \n",
       "                     2016-01-01 02:00:00+00:00      0.0      0.0      0.0   \n",
       "                     2016-01-01 02:30:00+00:00      0.0      0.0      0.0   \n",
       "                     2016-01-01 03:00:00+00:00      0.0      0.0      0.0   \n",
       "                     2016-01-01 03:30:00+00:00      0.0      0.0      0.0   \n",
       "                     2016-01-01 04:00:00+00:00      0.0      0.0      0.0   \n",
       "                     2016-01-01 04:30:00+00:00      0.0      0.0      0.0   \n",
       "                     2016-01-01 05:00:00+00:00      0.0      0.0      0.0   \n",
       "                     2016-01-01 05:30:00+00:00      0.0      0.0      0.0   \n",
       "                     2016-01-01 06:00:00+00:00      0.0      0.0      0.0   \n",
       "                     2016-01-01 06:30:00+00:00      0.0      0.0      0.0   \n",
       "                     2016-01-01 07:00:00+00:00      0.0      0.0      0.0   \n",
       "                     2016-01-01 07:30:00+00:00      0.0      0.0      0.0   \n",
       "                     2016-01-01 08:00:00+00:00      0.0      0.0      0.0   \n",
       "                     2016-01-01 08:30:00+00:00      0.0      0.0      0.0   \n",
       "                     2016-01-01 09:00:00+00:00      0.0      0.0      0.0   \n",
       "                     2016-01-01 09:30:00+00:00      0.0      0.0      0.0   \n",
       "\n",
       "                                                tch_hydro  tch_bio  \\\n",
       "region_nom           date                                            \n",
       "Auvergne-Rhône-Alpes 2016-01-01 00:00:00+00:00        0.0      0.0   \n",
       "                     2016-01-01 00:30:00+00:00        0.0      0.0   \n",
       "                     2016-01-01 01:00:00+00:00        0.0      0.0   \n",
       "                     2016-01-01 01:30:00+00:00        0.0      0.0   \n",
       "                     2016-01-01 02:00:00+00:00        0.0      0.0   \n",
       "                     2016-01-01 02:30:00+00:00        0.0      0.0   \n",
       "                     2016-01-01 03:00:00+00:00        0.0      0.0   \n",
       "                     2016-01-01 03:30:00+00:00        0.0      0.0   \n",
       "                     2016-01-01 04:00:00+00:00        0.0      0.0   \n",
       "                     2016-01-01 04:30:00+00:00        0.0      0.0   \n",
       "                     2016-01-01 05:00:00+00:00        0.0      0.0   \n",
       "                     2016-01-01 05:30:00+00:00        0.0      0.0   \n",
       "                     2016-01-01 06:00:00+00:00        0.0      0.0   \n",
       "                     2016-01-01 06:30:00+00:00        0.0      0.0   \n",
       "                     2016-01-01 07:00:00+00:00        0.0      0.0   \n",
       "                     2016-01-01 07:30:00+00:00        0.0      0.0   \n",
       "                     2016-01-01 08:00:00+00:00        0.0      0.0   \n",
       "                     2016-01-01 08:30:00+00:00        0.0      0.0   \n",
       "                     2016-01-01 09:00:00+00:00        0.0      0.0   \n",
       "                     2016-01-01 09:30:00+00:00        0.0      0.0   \n",
       "\n",
       "                                                temperature  nebulosite_totale  \n",
       "region_nom           date                                                       \n",
       "Auvergne-Rhône-Alpes 2016-01-01 00:00:00+00:00         5.60          88.525215  \n",
       "                     2016-01-01 00:30:00+00:00          NaN                NaN  \n",
       "                     2016-01-01 01:00:00+00:00          NaN                NaN  \n",
       "                     2016-01-01 01:30:00+00:00          NaN                NaN  \n",
       "                     2016-01-01 02:00:00+00:00          NaN                NaN  \n",
       "                     2016-01-01 02:30:00+00:00          NaN                NaN  \n",
       "                     2016-01-01 03:00:00+00:00         4.95          94.762607  \n",
       "                     2016-01-01 03:30:00+00:00          NaN                NaN  \n",
       "                     2016-01-01 04:00:00+00:00          NaN                NaN  \n",
       "                     2016-01-01 04:30:00+00:00          NaN                NaN  \n",
       "                     2016-01-01 05:00:00+00:00          NaN                NaN  \n",
       "                     2016-01-01 05:30:00+00:00          NaN                NaN  \n",
       "                     2016-01-01 06:00:00+00:00         5.20          82.012607  \n",
       "                     2016-01-01 06:30:00+00:00          NaN                NaN  \n",
       "                     2016-01-01 07:00:00+00:00          NaN                NaN  \n",
       "                     2016-01-01 07:30:00+00:00          NaN                NaN  \n",
       "                     2016-01-01 08:00:00+00:00          NaN                NaN  \n",
       "                     2016-01-01 08:30:00+00:00          NaN                NaN  \n",
       "                     2016-01-01 09:00:00+00:00         5.35          88.000000  \n",
       "                     2016-01-01 09:30:00+00:00          NaN                NaN  \n",
       "\n",
       "[20 rows x 25 columns]"
      ]
     },
     "execution_count": 130,
     "metadata": {},
     "output_type": "execute_result"
    }
   ],
   "source": [
    "df.head(20)"
   ]
  },
  {
   "cell_type": "markdown",
   "metadata": {
    "id": "4F_nHzMmIXu3"
   },
   "source": [
    "### 1.4.2 Complétude"
   ]
  },
  {
   "cell_type": "code",
   "execution_count": 153,
   "metadata": {
    "colab": {
     "base_uri": "https://localhost:8080/"
    },
    "id": "e63lvKbNIdss",
    "outputId": "f2eea2a0-27c5-4438-e2be-40c83e15eed9"
   },
   "outputs": [],
   "source": [
    "df[df.columns[-2:]] = df.iloc[:, -2:].interpolate()"
   ]
  },
  {
   "cell_type": "code",
   "execution_count": 156,
   "metadata": {},
   "outputs": [
    {
     "data": {
      "text/plain": [
       "conso_inter                  0\n",
       "prod_therm                   0\n",
       "prod_nuc                     0\n",
       "prod_eol                     0\n",
       "prod_sol                     0\n",
       "prod_hydro                   0\n",
       "conso_hydro                  0\n",
       "prod_bio                     0\n",
       "echanges                     0\n",
       "Stockage batterie      1017076\n",
       "Déstockage batterie     999510\n",
       "Eolien terrestre       1139573\n",
       "Eolien offshore        1139573\n",
       "tco_therm                    0\n",
       "tch_therm                    0\n",
       "tco_nuc                      0\n",
       "tch_nuc                      0\n",
       "tco_eol                      0\n",
       "tch_eol                      0\n",
       "tco_sol                      0\n",
       "tch_sol                      0\n",
       "tch_hydro                    0\n",
       "tch_bio                      0\n",
       "temperature                  0\n",
       "nebulosite_totale            0\n",
       "dtype: int64"
      ]
     },
     "execution_count": 156,
     "metadata": {},
     "output_type": "execute_result"
    }
   ],
   "source": [
    "df.isna().sum()"
   ]
  },
  {
   "cell_type": "markdown",
   "metadata": {
    "id": "HCuGlSEt4H_u"
   },
   "source": [
    "# Partie 2 : Exploration et Story-telling <a class=\"anchor\" id=\"Partie02\"><a>"
   ]
  },
  {
   "cell_type": "markdown",
   "metadata": {
    "id": "wThpi0_f5lO_"
   },
   "source": [
    "## 2.1 Exploration sur la consommation d'energie"
   ]
  },
  {
   "cell_type": "markdown",
   "metadata": {
    "id": "uwurAfb05yAo"
   },
   "source": [
    "## 2.2 Exploration sur les sources de productions"
   ]
  },
  {
   "cell_type": "markdown",
   "metadata": {
    "id": "CFKAeLux5vpg"
   },
   "source": [
    "## 2.3 Relations Consommation & Production"
   ]
  },
  {
   "cell_type": "markdown",
   "metadata": {
    "id": "3rr1bBfUACrD"
   },
   "source": [
    "## 2.4 Relations consommation & Météo"
   ]
  },
  {
   "cell_type": "markdown",
   "metadata": {
    "id": "-1c_Vjvc4V4T"
   },
   "source": [
    "# Partie 3 : Problématique et analyse <a class=\"anchor\" id=\"Partie03\"><a>"
   ]
  },
  {
   "cell_type": "markdown",
   "metadata": {
    "id": "bc1En9JLApzS"
   },
   "source": [
    "## 3.1 Définition de la problématique"
   ]
  },
  {
   "cell_type": "markdown",
   "metadata": {
    "id": "SoxfCA9fAuOn"
   },
   "source": [
    "## 3.2 Construction d'indicateurs"
   ]
  },
  {
   "cell_type": "markdown",
   "metadata": {
    "id": "yH61Z-t6A1lV"
   },
   "source": [
    "## 3.3 Données pour Dashboard PowerBI"
   ]
  },
  {
   "cell_type": "markdown",
   "metadata": {
    "id": "ryurx4PnBFdT"
   },
   "source": [
    "## 3.4 Prédictions"
   ]
  },
  {
   "cell_type": "markdown",
   "metadata": {
    "id": "sVXrvPV345Jp"
   },
   "source": [
    "# Partie 4 : Conclusions  <a class=\"anchor\" id=\"Partie04\"><a>"
   ]
  },
  {
   "cell_type": "markdown",
   "metadata": {
    "id": "dMGwgbZiBSu3"
   },
   "source": [
    "## 4.1 Apports du projet en réponse à la problématique"
   ]
  },
  {
   "cell_type": "markdown",
   "metadata": {
    "id": "KEyUnPnKBbmL"
   },
   "source": [
    "## 4.2 Limites et axes d'amélioration"
   ]
  }
 ],
 "metadata": {
  "colab": {
   "collapsed_sections": [],
   "include_colab_link": true,
   "name": "Projet Net Elec - Equipe.ipynb",
   "provenance": [],
   "toc_visible": true
  },
  "kernelspec": {
   "display_name": "Python 3 (ipykernel)",
   "language": "python",
   "name": "python3"
  },
  "language_info": {
   "codemirror_mode": {
    "name": "ipython",
    "version": 3
   },
   "file_extension": ".py",
   "mimetype": "text/x-python",
   "name": "python",
   "nbconvert_exporter": "python",
   "pygments_lexer": "ipython3",
   "version": "3.8.11"
  }
 },
 "nbformat": 4,
 "nbformat_minor": 1
}
