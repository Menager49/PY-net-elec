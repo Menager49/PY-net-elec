{
  "nbformat": 4,
  "nbformat_minor": 0,
  "metadata": {
    "colab": {
      "name": "Projet Net Elec - Equipe.ipynb",
      "provenance": [],
      "toc_visible": true,
      "collapsed_sections": [],
      "include_colab_link": true
    },
    "kernelspec": {
      "name": "python3",
      "display_name": "Python 3"
    },
    "language_info": {
      "name": "python"
    }
  },
  "cells": [
    {
      "cell_type": "markdown",
      "metadata": {
        "id": "view-in-github",
        "colab_type": "text"
      },
      "source": [
        "<a href=\"https://colab.research.google.com/github/Menager49/PY-net-elec/blob/main/Projet_Net_Elec_Equipe.ipynb\" target=\"_parent\"><img src=\"https://colab.research.google.com/assets/colab-badge.svg\" alt=\"Open In Colab\"/></a>"
      ]
    },
    {
      "cell_type": "markdown",
      "source": [
        "# Projet Net Elec\n",
        "\n",
        "Promotion DA continue - Dec. 2021 \n",
        "Membres de l'équipe : Christine, Pierre-Emmanuel, Cédric\n",
        "Mentor : Pierre"
      ],
      "metadata": {
        "id": "tkruMttLSLhu"
      }
    },
    {
      "cell_type": "markdown",
      "source": [
        "# Partie 1 : Chargement et Preprocessing <a class=\"anchor\" id=\"Partie01\"><a>"
      ],
      "metadata": {
        "id": "-bH5v56R4C2E"
      }
    },
    {
      "cell_type": "markdown",
      "source": [
        "## 1.1 Chargements modules et connexion Google Drive"
      ],
      "metadata": {
        "id": "DBoX1BPE5ERY"
      }
    },
    {
      "cell_type": "code",
      "source": [
        "# Montage du Drive à Colab pour hebergé le dataset\n",
        "\n",
        "from google.colab import drive\n",
        "drive.mount('/content/drive')"
      ],
      "metadata": {
        "id": "XqlSIITF6xxx",
        "colab": {
          "base_uri": "https://localhost:8080/"
        },
        "outputId": "232c62fe-b2aa-46f5-8488-237e02400491"
      },
      "execution_count": null,
      "outputs": [
        {
          "output_type": "stream",
          "name": "stdout",
          "text": [
            "Mounted at /content/drive\n"
          ]
        }
      ]
    },
    {
      "cell_type": "code",
      "source": [
        "# Chargement des modules\n",
        "import numpy as np\n",
        "import pandas as pd\n",
        "import matplotlib.pyplot as plt\n",
        "import seaborn as sns\n",
        "%matplotlib inline\n",
        "\n",
        "from matplotlib.dates import DateFormatter\n",
        "import matplotlib.dates as mdates"
      ],
      "metadata": {
        "id": "VTbePGIf60kN"
      },
      "execution_count": null,
      "outputs": []
    },
    {
      "cell_type": "markdown",
      "source": [
        "## 1.2 Preprocessing DataSet Energie"
      ],
      "metadata": {
        "id": "4kFLRYvM5QLr"
      }
    },
    {
      "cell_type": "markdown",
      "source": [
        "### 1.2.1 Chargement"
      ],
      "metadata": {
        "id": "XEv0vlodDawq"
      }
    },
    {
      "cell_type": "code",
      "source": [
        "df_energie = pd.read_csv(filepath_or_buffer='/content/drive/MyDrive/DataScientest_Projet Net Elec/eco2mix-regional-cons-def.csv', \n",
        "                 sep=';', \n",
        "                 parse_dates = {'Date_Heure': ['Date', 'Heure'] })"
      ],
      "metadata": {
        "id": "Ph1s9mfTC-lk"
      },
      "execution_count": null,
      "outputs": []
    },
    {
      "cell_type": "code",
      "source": [
        "#df_energie.head(5)"
      ],
      "metadata": {
        "id": "yQRemd74YH4H"
      },
      "execution_count": null,
      "outputs": []
    },
    {
      "cell_type": "markdown",
      "source": [
        "### 1.2.2 Filtrage"
      ],
      "metadata": {
        "id": "J85j3Ba3DUJy"
      }
    },
    {
      "cell_type": "code",
      "source": [
        "#df_energie.info()"
      ],
      "metadata": {
        "id": "uaf6GrSVSwle"
      },
      "execution_count": null,
      "outputs": []
    },
    {
      "cell_type": "code",
      "source": [
        "### Liste de varaibles à supprimer\n",
        "col_to_drop = ['Column 26',\n",
        "              'Code INSEE région',\n",
        "              'Date_Heure'\n",
        "              ]\n",
        "### Suppression des varaibles inutiles\n",
        "df_energie = df_energie.drop(col_to_drop, axis=1)"
      ],
      "metadata": {
        "id": "vJpiCK8PDDTP"
      },
      "execution_count": null,
      "outputs": []
    },
    {
      "cell_type": "code",
      "source": [
        "# df_energie.info()"
      ],
      "metadata": {
        "id": "5_m_Q_ivTRXW"
      },
      "execution_count": null,
      "outputs": []
    },
    {
      "cell_type": "code",
      "source": [
        "# Filtrage temporel\n",
        "\n",
        "# Conversion du type pour le champs date\n",
        "df_energie['Date - Heure'] = pd.to_datetime(df_energie['Date - Heure'], utc=True)\n",
        "\n",
        "# Limites temporelles haute et basse\n",
        "df_energie = df_energie[(df_energie['Date - Heure'] >= '01/01/2016') & (df_energie['Date - Heure'] <= '31/12/2021')]"
      ],
      "metadata": {
        "id": "nw7IhA7wEAAr"
      },
      "execution_count": null,
      "outputs": []
    },
    {
      "cell_type": "markdown",
      "source": [
        "### 1.2.3 Standardisation"
      ],
      "metadata": {
        "id": "mKTD9ohQDrBp"
      }
    },
    {
      "cell_type": "code",
      "source": [
        "# Les champs sont renommés : \n",
        "Dic_Noms = {\n",
        "    'Région'             :'region_nom',\n",
        "    'Nature'             :'nature',\n",
        "    'Date - Heure'       :'date',\n",
        "    'Consommation (MW)'  :'conso_inter',\n",
        "    'Pompage (MW)'       :'conso_hydro',\n",
        "    'Thermique (MW)'     :'prod_therm',\n",
        "    'Nucléaire (MW)'     :'prod_nuc',\n",
        "    'Solaire (MW)'       :'prod_sol',\n",
        "    'Hydraulique (MW)'   :'prod_hydro',\n",
        "    'Bioénergies (MW)'   :'prod_bio',\n",
        "    'Eolien (MW)'        :'prod_eol',\n",
        "    'Ech. physiques (MW)':'echanges',\n",
        "    'TCO Thermique (%)'  :'tco_therm', \n",
        "    'TCO Nucléaire (%)'  :'tco_nuc',\n",
        "    'TCO Eolien (%)'     :'tco_eol', \n",
        "    'TCO Solaire (%)'    :'tco_sol', \n",
        "    'TCO Hydraulique (%)':'tco_hydro',\n",
        "    'TCO Bioénergies (%)':'tco_bio', \n",
        "    'TCH Nucléaire (%)'  :'tch_nuc', \n",
        "    'TCH Eolien (%)'     :'tch_eol',\n",
        "    'TCH Thermique (%)'  :'tch_therm', \n",
        "    'TCH Solaire (%)'    :'tch_sol', \n",
        "    'TCH Hydraulique (%)':'tch_hydro', \n",
        "    'TCH Bioénergies (%)':'tch_bio', \n",
        "            }\n",
        "\n",
        "df_energie = df_energie.rename(Dic_Noms, axis=1)"
      ],
      "metadata": {
        "id": "oMjp2J26Dlde"
      },
      "execution_count": null,
      "outputs": []
    },
    {
      "cell_type": "markdown",
      "source": [
        "### 1.2.4 Complétude (Doublons & NANs)"
      ],
      "metadata": {
        "id": "7GyyvFT3EKF0"
      }
    },
    {
      "cell_type": "code",
      "source": [
        "# Identification des lignes dupliquées\n",
        "df_energie.duplicated().sum()"
      ],
      "metadata": {
        "id": "dBgygt64Erve",
        "colab": {
          "base_uri": "https://localhost:8080/"
        },
        "outputId": "dfa438fa-c327-488e-c35d-4b20d51007db"
      },
      "execution_count": null,
      "outputs": [
        {
          "output_type": "execute_result",
          "data": {
            "text/plain": [
              "72"
            ]
          },
          "metadata": {},
          "execution_count": 33
        }
      ]
    },
    {
      "cell_type": "code",
      "source": [
        "# Traitement des lignes dupliquées\n",
        "df_energie = df_energie.drop_duplicates()"
      ],
      "metadata": {
        "id": "fW0kGH-QXmiv"
      },
      "execution_count": null,
      "outputs": []
    },
    {
      "cell_type": "code",
      "source": [
        "# Identification des NANs\n",
        "df_energie.isna().sum(axis = 0)"
      ],
      "metadata": {
        "id": "Wit8bVcNEqDO",
        "colab": {
          "base_uri": "https://localhost:8080/"
        },
        "outputId": "2aa86e85-f545-4466-f035-35d9a05545c6"
      },
      "execution_count": null,
      "outputs": [
        {
          "output_type": "execute_result",
          "data": {
            "text/plain": [
              "region_nom           0\n",
              "nature               0\n",
              "date                 0\n",
              "conso_inter          0\n",
              "prod_therm           0\n",
              "prod_nuc        525815\n",
              "prod_eol             0\n",
              "prod_sol             0\n",
              "prod_hydro           0\n",
              "conso_hydro     525815\n",
              "prod_bio             0\n",
              "echanges             0\n",
              "tco_therm       841464\n",
              "tch_therm       841464\n",
              "tco_nuc        1016669\n",
              "tch_nuc        1016669\n",
              "tco_eol         841464\n",
              "tch_eol         841464\n",
              "tco_sol         841464\n",
              "tch_sol         841464\n",
              "tco_hydro       841464\n",
              "tch_hydro       841464\n",
              "tco_bio         841464\n",
              "tch_bio         841464\n",
              "dtype: int64"
            ]
          },
          "metadata": {},
          "execution_count": 35
        }
      ]
    },
    {
      "cell_type": "code",
      "source": [
        "# Traitement des NANs:\n",
        "\n",
        "# Cas 1 : Suppression des lignes\n",
        "df_energie.dropna(subset = ['conso_inter'], axis=0, inplace = True)\n",
        "\n",
        "# Cas 2 : Remplacement par zéro\n",
        "list_fillzero=['prod_nuc', 'prod_therm', 'prod_eol', 'prod_sol', 'prod_hydro', 'prod_bio', 'conso_hydro']\n",
        "\n",
        "for i in list_fillzero:\n",
        "    df_energie[i] = df_energie[i].fillna(0)\n",
        "\n",
        "# Cas 3 : Remplacement par zéro\n",
        "list_fillzero=['tco_therm', 'tch_therm', 'tco_nuc', 'tch_nuc', 'tco_eol', 'tch_eol', 'tco_sol','tch_sol','tco_hydro','tch_hydro','tco_bio','tch_bio']\n",
        "\n",
        "for i in list_fillzero:\n",
        "    df_energie[i] = df_energie[i].fillna(0)\n",
        "    "
      ],
      "metadata": {
        "id": "5zQGTbXJEy57"
      },
      "execution_count": null,
      "outputs": []
    },
    {
      "cell_type": "code",
      "source": [
        "df_energie.isna().sum(axis = 0)"
      ],
      "metadata": {
        "colab": {
          "base_uri": "https://localhost:8080/"
        },
        "id": "2nV7etx1Wl97",
        "outputId": "236524ae-3f18-4142-dccf-7040af62590c"
      },
      "execution_count": null,
      "outputs": [
        {
          "output_type": "execute_result",
          "data": {
            "text/plain": [
              "region_nom     0\n",
              "nature         0\n",
              "date           0\n",
              "conso_inter    0\n",
              "prod_therm     0\n",
              "prod_nuc       0\n",
              "prod_eol       0\n",
              "prod_sol       0\n",
              "prod_hydro     0\n",
              "conso_hydro    0\n",
              "prod_bio       0\n",
              "echanges       0\n",
              "tco_therm      0\n",
              "tch_therm      0\n",
              "tco_nuc        0\n",
              "tch_nuc        0\n",
              "tco_eol        0\n",
              "tch_eol        0\n",
              "tco_sol        0\n",
              "tch_sol        0\n",
              "tco_hydro      0\n",
              "tch_hydro      0\n",
              "tco_bio        0\n",
              "tch_bio        0\n",
              "dtype: int64"
            ]
          },
          "metadata": {},
          "execution_count": 37
        }
      ]
    },
    {
      "cell_type": "markdown",
      "source": [
        "### 1.2.5 Standardisation temporelle avec le DataSet Météo"
      ],
      "metadata": {
        "id": "RfPYscq7FAHh"
      }
    },
    {
      "cell_type": "markdown",
      "source": [
        "Probleme : pour grouper les TCO et TCH il faut les convertir de % en MW"
      ],
      "metadata": {
        "id": "P5Y2IxJdY7T3"
      }
    },
    {
      "cell_type": "code",
      "source": [
        "# Groupby : Afin d'avoir la même granularité que la variable temps du dataset météo.\n",
        "# Nous perdons de l'information, mais je ne sais pas comment ré-echantillonner le DF météo afin de dedoubler les lignes.\n",
        "\n",
        "df_energie['date_index'] = df_energie['date']\n",
        "df_energie = df_energie.set_index('date_index')\n",
        "\n",
        "df_energie = df_energie.groupby( ['region_nom','nature', pd.Grouper(key = 'date' , freq = 'H')]).agg({\n",
        "    'conso_inter' : 'sum', \n",
        "    'prod_therm'  : 'sum', \n",
        "    'prod_nuc'    : 'sum', \n",
        "    'prod_eol'    : 'sum', \n",
        "    'prod_sol'    : 'sum',\n",
        "    'prod_hydro'  : 'sum', \n",
        "    'conso_hydro' : 'sum', \n",
        "    'prod_bio'    : 'sum', \n",
        "    'echanges'    : 'sum',\n",
        "})\n",
        "\n",
        "\n",
        "df_energie = df_energie.reset_index()\n",
        "\n",
        "df_energie = df_energie.sort_values(by = ['date'], ascending = True)"
      ],
      "metadata": {
        "id": "v0jVvYG_E4kQ"
      },
      "execution_count": null,
      "outputs": []
    },
    {
      "cell_type": "markdown",
      "source": [
        "## 1.3 Preprocessing DataSet Meteo"
      ],
      "metadata": {
        "id": "1W8jVNn65Up4"
      }
    },
    {
      "cell_type": "markdown",
      "source": [
        "### 1.3.1 Chargement"
      ],
      "metadata": {
        "id": "JZ_IWEvJFWMd"
      }
    },
    {
      "cell_type": "code",
      "source": [
        "df_meteo = pd.read_csv(filepath_or_buffer='/content/drive/MyDrive/DataScientest_Projet Net Elec/donnees-synop-essentielles-omm.csv', \n",
        "                 sep=';')"
      ],
      "metadata": {
        "id": "bSoCQNAnFvAD"
      },
      "execution_count": null,
      "outputs": []
    },
    {
      "cell_type": "code",
      "source": [
        "#df_meteo.head(5)"
      ],
      "metadata": {
        "id": "5GJ8g-9Aa_dr"
      },
      "execution_count": null,
      "outputs": []
    },
    {
      "cell_type": "markdown",
      "source": [
        "### 1.3.2 Filtrage"
      ],
      "metadata": {
        "id": "__Vax_duFbyE"
      }
    },
    {
      "cell_type": "code",
      "source": [
        "# Suppression des colonnes inutiles\n",
        "# Dans un premier temps on ne conserve que la temperature pour simplifier le dataset\n",
        "\n",
        "List_cols = {'ID OMM station', \n",
        "             'Pression au niveau mer',\n",
        "             'Variation de pression en 3 heures', \n",
        "             'Type de tendance barométrique',\n",
        "             'Direction du vent moyen 10 mn', \n",
        "             'Point de rosée', \n",
        "             'Humidité', \n",
        "             'Visibilité horizontale',\n",
        "             'Temps présent', \n",
        "             'Temps passé 1', \n",
        "             'Temps passé 2', \n",
        "             \"Nébulosité  des nuages de l' étage inférieur\",\n",
        "             \"Hauteur de la base des nuages de l'étage inférieur\",\n",
        "             \"Type des nuages de l'étage inférieur\",\n",
        "             \"Type des nuages de l'étage moyen\",\n",
        "             \"Type des nuages de l'étage supérieur\", \n",
        "             'Pression station',\n",
        "             'Niveau barométrique', \n",
        "             'Géopotentiel',\n",
        "             'Variation de pression en 24 heures',\n",
        "             'Température minimale sur 12 heures',\n",
        "             'Température minimale sur 24 heures',\n",
        "             'Température maximale sur 12 heures',\n",
        "             'Température maximale sur 24 heures',\n",
        "             'Température minimale du sol sur 12 heures',\n",
        "             'Méthode de mesure Température du thermomètre mouillé',\n",
        "             'Température du thermomètre mouillé',\n",
        "             'Rafale sur les 10 dernières minutes', \n",
        "             'Rafales sur une période',\n",
        "             'Periode de mesure de la rafale', \n",
        "             'Etat du sol',\n",
        "             'Hauteur totale de la couche de neige, glace, autre au sol',\n",
        "             'Hauteur de la neige fraîche', \n",
        "             'Periode de mesure de la neige fraiche',\n",
        "             'Précipitations dans la dernière heure',\n",
        "             'Précipitations dans les 3 dernières heures',\n",
        "             'Précipitations dans les 6 dernières heures',\n",
        "             'Précipitations dans les 12 dernières heures',\n",
        "             'Précipitations dans les 24 dernières heures', \n",
        "             'Phénomène spécial 1',\n",
        "             'Phénomène spécial 2', \n",
        "             'Phénomène spécial 3', \n",
        "             'Phénomène spécial 4',\n",
        "             'Nébulosité couche nuageuse 1', \n",
        "             'Type nuage 1', \n",
        "             'Hauteur de base 1',\n",
        "             'Nébulosité couche nuageuse 2', \n",
        "             'Type nuage 2', \n",
        "             'Hauteur de base 2',\n",
        "             'Nébulosité couche nuageuse 3', \n",
        "             'Type nuage 3', \n",
        "             'Hauteur de base 3',\n",
        "             'Nébulosité couche nuageuse 4', \n",
        "             'Type nuage 4', \n",
        "             'Hauteur de base 4',\n",
        "             'Coordonnees', \n",
        "             'Nom', \n",
        "             'Type de tendance barométrique.1',\n",
        "             'Temps passé 1.1', \n",
        "             'Temps présent.1', \n",
        "             'Température (°C)',\n",
        "             'Température minimale sur 12 heures (°C)',\n",
        "             'Température minimale sur 24 heures (°C)',\n",
        "             'Température maximale sur 12 heures (°C)',\n",
        "             'Température maximale sur 24 heures (°C)',\n",
        "             'Température minimale du sol sur 12 heures (en °C)', 'Latitude',\n",
        "             'Longitude', \n",
        "             'Altitude', \n",
        "             'communes (name)', \n",
        "             'communes (code)',\n",
        "             'EPCI (name)', \n",
        "             'EPCI (code)', \n",
        "             'department (name)', \n",
        "             'department (code)',\n",
        "             'region (code)',\n",
        "             'mois_de_l_annee'\n",
        "            }\n",
        "\n",
        "df_meteo = df_meteo.drop(List_cols, axis=1)"
      ],
      "metadata": {
        "id": "l6gzLPJuFz9i"
      },
      "execution_count": null,
      "outputs": []
    },
    {
      "cell_type": "code",
      "source": [
        "# Identification des région à supprimer\n",
        "# df_meteo['region (name)'].unique()"
      ],
      "metadata": {
        "id": "A2PV93uUbbkc"
      },
      "execution_count": null,
      "outputs": []
    },
    {
      "cell_type": "code",
      "source": [
        "# Suppression des région qui sont en dehors du dataset energie\n",
        "region_to_drop = ['Martinique',\n",
        "                  'Guyane',\n",
        "                  'La Réunion',\n",
        "                  'Guadeloupe',\n",
        "                  'Mayotte',\n",
        "                  'Terres australes et antarctiques françaises',\n",
        "                  'Saint-Pierre-et-Miquelon',\n",
        "                  'Saint-Barthélemy',\n",
        "                   'Corse'\n",
        "                 ]\n",
        "\n",
        "for j in region_to_drop:\n",
        "    df_meteo = df_meteo[df_meteo['region (name)'] != j]"
      ],
      "metadata": {
        "id": "2-hifAIfGddH"
      },
      "execution_count": null,
      "outputs": []
    },
    {
      "cell_type": "code",
      "source": [
        "# Contrôle\n",
        "# df_meteo['region (name)'].unique()"
      ],
      "metadata": {
        "id": "lWsJllngb5Zg"
      },
      "execution_count": null,
      "outputs": []
    },
    {
      "cell_type": "markdown",
      "source": [
        "### 1.3.3 Standardisation"
      ],
      "metadata": {
        "id": "h3uEEZPIF6HV"
      }
    },
    {
      "cell_type": "code",
      "source": [
        "# Les variables sont renommées pour plus d'homogénéité avec le 1er DataFrame\n",
        "\n",
        "Dic_Noms_meteo = {'Date'             : 'date',\n",
        "                 'Température'       : 'temperature',\n",
        "                 'region (name)'     : 'region_nom', \n",
        "                 'Vitesse du vent moyen 10 mn': 'vitesse_vent_10min',\n",
        "                 'Nebulosité totale' : 'nebulosite_totale'\n",
        "                }\n",
        "    \n",
        "df_meteo = df_meteo.rename(Dic_Noms_meteo, axis=1)\n",
        "df_meteo.columns"
      ],
      "metadata": {
        "id": "q8RU61RWGDHf",
        "colab": {
          "base_uri": "https://localhost:8080/"
        },
        "outputId": "851b18e0-54dd-459c-bc4f-4a5d19b047ca"
      },
      "execution_count": null,
      "outputs": [
        {
          "output_type": "execute_result",
          "data": {
            "text/plain": [
              "Index(['date', 'vitesse_vent_10min', 'temperature', 'nebulosite_totale',\n",
              "       'region_nom'],\n",
              "      dtype='object')"
            ]
          },
          "metadata": {},
          "execution_count": 48
        }
      ]
    },
    {
      "cell_type": "code",
      "source": [
        "# Temperature : conversion degrès Kevin => degrès Celsius\n",
        "df_meteo['temperature'] = df_meteo['temperature'] - 273.15"
      ],
      "metadata": {
        "id": "De8JcFETGGUz"
      },
      "execution_count": null,
      "outputs": []
    },
    {
      "cell_type": "code",
      "source": [
        "# date : Conversion du type de variable temps\n",
        "df_meteo['date'] = pd.to_datetime(df_meteo['date'], utc=True)"
      ],
      "metadata": {
        "id": "_lCsRqZwGXOy"
      },
      "execution_count": null,
      "outputs": []
    },
    {
      "cell_type": "code",
      "source": [
        "# Standardisation des noms des régions\n",
        "dico_df_meteo = {'Occitanie'           :'Occitanie',\n",
        "                 'Normandie'           :'Normandie', \n",
        "                 'Bretagne'            :'Bretagne',\n",
        "                 \"Provence-Alpes-Côte d'Azur\":\"Provence-Alpes-Côte d'Azur\", \n",
        "                 'Hauts-de-France'     :'Hauts-de-France', \n",
        "                 'Île-de-France'       :'Île-de-France',\n",
        "                 'Grand Est'           :'Grand Est', \n",
        "                 'Nouvelle-Aquitaine'  :'Nouvelle-Aquitaine',\n",
        "                 'Bourgogne-Franche-Comté':'Bourgogne-Franche-Comté', \n",
        "                 'Pays de la Loire'    :'Centre-Val de Loire',\n",
        "                 'Auvergne-Rhône-Alpes':'Auvergne-Rhône-Alpes', \n",
        "                 'Centre-Val de Loire' :'Centre-Val de Loire'}\n",
        "\n",
        "df_meteo = df_meteo.rename(dico_df_meteo, axis = 1)"
      ],
      "metadata": {
        "id": "QT6B5xc_G3Hn"
      },
      "execution_count": null,
      "outputs": []
    },
    {
      "cell_type": "markdown",
      "source": [
        "### 1.3.4 Complétude"
      ],
      "metadata": {
        "id": "yogcakFiFgZq"
      }
    },
    {
      "cell_type": "markdown",
      "source": [
        "**Doublons**"
      ],
      "metadata": {
        "id": "LQ4oWuzsdNwW"
      }
    },
    {
      "cell_type": "code",
      "source": [
        "# Recherche de lignes dupliquées\n",
        "df_meteo.duplicated().sum()"
      ],
      "metadata": {
        "colab": {
          "base_uri": "https://localhost:8080/"
        },
        "id": "1lDjSIlhcmsn",
        "outputId": "1a384282-12e9-4fac-fb6f-aad52e7a68c9"
      },
      "execution_count": null,
      "outputs": [
        {
          "output_type": "execute_result",
          "data": {
            "text/plain": [
              "762"
            ]
          },
          "metadata": {},
          "execution_count": 52
        }
      ]
    },
    {
      "cell_type": "code",
      "source": [
        "# Traitement des lignes en doublons\n",
        "df_meteo = df_meteo.drop_duplicates()"
      ],
      "metadata": {
        "id": "T_9U8i7Xc6Nl"
      },
      "execution_count": null,
      "outputs": []
    },
    {
      "cell_type": "markdown",
      "source": [
        "**Region NAN**"
      ],
      "metadata": {
        "id": "v0zJoyABdRxG"
      }
    },
    {
      "cell_type": "code",
      "source": [
        "# Correction de la région 'nan'\n",
        "df_meteo[df_meteo['region_nom'].isna()==True].head(5)"
      ],
      "metadata": {
        "id": "9EtCL2PIGsLb",
        "colab": {
          "base_uri": "https://localhost:8080/",
          "height": 206
        },
        "outputId": "981d7645-e866-4f87-96dd-13f20850f7b7"
      },
      "execution_count": null,
      "outputs": [
        {
          "output_type": "execute_result",
          "data": {
            "text/plain": [
              "                        date  vitesse_vent_10min  temperature  \\\n",
              "1  2010-01-05 09:00:00+00:00                 NaN         32.3   \n",
              "5  2010-01-05 12:00:00+00:00                 9.8          1.9   \n",
              "10 2010-01-05 15:00:00+00:00                 4.1         -1.9   \n",
              "17 2010-01-05 21:00:00+00:00                 7.2          2.0   \n",
              "19 2010-01-06 00:00:00+00:00                 5.1         26.6   \n",
              "\n",
              "    nebulosite_totale region_nom  \n",
              "1                60.0        NaN  \n",
              "5                90.0        NaN  \n",
              "10                NaN        NaN  \n",
              "17              100.0        NaN  \n",
              "19                NaN        NaN  "
            ],
            "text/html": [
              "\n",
              "  <div id=\"df-fee66067-b5c6-4816-bfed-f0abc9e236db\">\n",
              "    <div class=\"colab-df-container\">\n",
              "      <div>\n",
              "<style scoped>\n",
              "    .dataframe tbody tr th:only-of-type {\n",
              "        vertical-align: middle;\n",
              "    }\n",
              "\n",
              "    .dataframe tbody tr th {\n",
              "        vertical-align: top;\n",
              "    }\n",
              "\n",
              "    .dataframe thead th {\n",
              "        text-align: right;\n",
              "    }\n",
              "</style>\n",
              "<table border=\"1\" class=\"dataframe\">\n",
              "  <thead>\n",
              "    <tr style=\"text-align: right;\">\n",
              "      <th></th>\n",
              "      <th>date</th>\n",
              "      <th>vitesse_vent_10min</th>\n",
              "      <th>temperature</th>\n",
              "      <th>nebulosite_totale</th>\n",
              "      <th>region_nom</th>\n",
              "    </tr>\n",
              "  </thead>\n",
              "  <tbody>\n",
              "    <tr>\n",
              "      <th>1</th>\n",
              "      <td>2010-01-05 09:00:00+00:00</td>\n",
              "      <td>NaN</td>\n",
              "      <td>32.3</td>\n",
              "      <td>60.0</td>\n",
              "      <td>NaN</td>\n",
              "    </tr>\n",
              "    <tr>\n",
              "      <th>5</th>\n",
              "      <td>2010-01-05 12:00:00+00:00</td>\n",
              "      <td>9.8</td>\n",
              "      <td>1.9</td>\n",
              "      <td>90.0</td>\n",
              "      <td>NaN</td>\n",
              "    </tr>\n",
              "    <tr>\n",
              "      <th>10</th>\n",
              "      <td>2010-01-05 15:00:00+00:00</td>\n",
              "      <td>4.1</td>\n",
              "      <td>-1.9</td>\n",
              "      <td>NaN</td>\n",
              "      <td>NaN</td>\n",
              "    </tr>\n",
              "    <tr>\n",
              "      <th>17</th>\n",
              "      <td>2010-01-05 21:00:00+00:00</td>\n",
              "      <td>7.2</td>\n",
              "      <td>2.0</td>\n",
              "      <td>100.0</td>\n",
              "      <td>NaN</td>\n",
              "    </tr>\n",
              "    <tr>\n",
              "      <th>19</th>\n",
              "      <td>2010-01-06 00:00:00+00:00</td>\n",
              "      <td>5.1</td>\n",
              "      <td>26.6</td>\n",
              "      <td>NaN</td>\n",
              "      <td>NaN</td>\n",
              "    </tr>\n",
              "  </tbody>\n",
              "</table>\n",
              "</div>\n",
              "      <button class=\"colab-df-convert\" onclick=\"convertToInteractive('df-fee66067-b5c6-4816-bfed-f0abc9e236db')\"\n",
              "              title=\"Convert this dataframe to an interactive table.\"\n",
              "              style=\"display:none;\">\n",
              "        \n",
              "  <svg xmlns=\"http://www.w3.org/2000/svg\" height=\"24px\"viewBox=\"0 0 24 24\"\n",
              "       width=\"24px\">\n",
              "    <path d=\"M0 0h24v24H0V0z\" fill=\"none\"/>\n",
              "    <path d=\"M18.56 5.44l.94 2.06.94-2.06 2.06-.94-2.06-.94-.94-2.06-.94 2.06-2.06.94zm-11 1L8.5 8.5l.94-2.06 2.06-.94-2.06-.94L8.5 2.5l-.94 2.06-2.06.94zm10 10l.94 2.06.94-2.06 2.06-.94-2.06-.94-.94-2.06-.94 2.06-2.06.94z\"/><path d=\"M17.41 7.96l-1.37-1.37c-.4-.4-.92-.59-1.43-.59-.52 0-1.04.2-1.43.59L10.3 9.45l-7.72 7.72c-.78.78-.78 2.05 0 2.83L4 21.41c.39.39.9.59 1.41.59.51 0 1.02-.2 1.41-.59l7.78-7.78 2.81-2.81c.8-.78.8-2.07 0-2.86zM5.41 20L4 18.59l7.72-7.72 1.47 1.35L5.41 20z\"/>\n",
              "  </svg>\n",
              "      </button>\n",
              "      \n",
              "  <style>\n",
              "    .colab-df-container {\n",
              "      display:flex;\n",
              "      flex-wrap:wrap;\n",
              "      gap: 12px;\n",
              "    }\n",
              "\n",
              "    .colab-df-convert {\n",
              "      background-color: #E8F0FE;\n",
              "      border: none;\n",
              "      border-radius: 50%;\n",
              "      cursor: pointer;\n",
              "      display: none;\n",
              "      fill: #1967D2;\n",
              "      height: 32px;\n",
              "      padding: 0 0 0 0;\n",
              "      width: 32px;\n",
              "    }\n",
              "\n",
              "    .colab-df-convert:hover {\n",
              "      background-color: #E2EBFA;\n",
              "      box-shadow: 0px 1px 2px rgba(60, 64, 67, 0.3), 0px 1px 3px 1px rgba(60, 64, 67, 0.15);\n",
              "      fill: #174EA6;\n",
              "    }\n",
              "\n",
              "    [theme=dark] .colab-df-convert {\n",
              "      background-color: #3B4455;\n",
              "      fill: #D2E3FC;\n",
              "    }\n",
              "\n",
              "    [theme=dark] .colab-df-convert:hover {\n",
              "      background-color: #434B5C;\n",
              "      box-shadow: 0px 1px 3px 1px rgba(0, 0, 0, 0.15);\n",
              "      filter: drop-shadow(0px 1px 2px rgba(0, 0, 0, 0.3));\n",
              "      fill: #FFFFFF;\n",
              "    }\n",
              "  </style>\n",
              "\n",
              "      <script>\n",
              "        const buttonEl =\n",
              "          document.querySelector('#df-fee66067-b5c6-4816-bfed-f0abc9e236db button.colab-df-convert');\n",
              "        buttonEl.style.display =\n",
              "          google.colab.kernel.accessAllowed ? 'block' : 'none';\n",
              "\n",
              "        async function convertToInteractive(key) {\n",
              "          const element = document.querySelector('#df-fee66067-b5c6-4816-bfed-f0abc9e236db');\n",
              "          const dataTable =\n",
              "            await google.colab.kernel.invokeFunction('convertToInteractive',\n",
              "                                                     [key], {});\n",
              "          if (!dataTable) return;\n",
              "\n",
              "          const docLinkHtml = 'Like what you see? Visit the ' +\n",
              "            '<a target=\"_blank\" href=https://colab.research.google.com/notebooks/data_table.ipynb>data table notebook</a>'\n",
              "            + ' to learn more about interactive tables.';\n",
              "          element.innerHTML = '';\n",
              "          dataTable['output_type'] = 'display_data';\n",
              "          await google.colab.output.renderOutput(dataTable, element);\n",
              "          const docLink = document.createElement('div');\n",
              "          docLink.innerHTML = docLinkHtml;\n",
              "          element.appendChild(docLink);\n",
              "        }\n",
              "      </script>\n",
              "    </div>\n",
              "  </div>\n",
              "  "
            ]
          },
          "metadata": {},
          "execution_count": 54
        }
      ]
    },
    {
      "cell_type": "code",
      "source": [
        "# suppression de la région NAN\n",
        "df_meteo.dropna(subset = ['region_nom'], axis=0, inplace = True)"
      ],
      "metadata": {
        "id": "Qt-J8RFMGvwT"
      },
      "execution_count": null,
      "outputs": []
    },
    {
      "cell_type": "markdown",
      "source": [
        "**Autres NANs**"
      ],
      "metadata": {
        "id": "uOEdjY5BdV78"
      }
    },
    {
      "cell_type": "code",
      "source": [
        "df_meteo.isna().sum(axis = 0)"
      ],
      "metadata": {
        "id": "VkiaI6h1G-w5",
        "colab": {
          "base_uri": "https://localhost:8080/"
        },
        "outputId": "9ac348e2-7362-44f8-bb44-33c2dd1aa48c"
      },
      "execution_count": null,
      "outputs": [
        {
          "output_type": "execute_result",
          "data": {
            "text/plain": [
              "date                       0\n",
              "vitesse_vent_10min      3448\n",
              "temperature             8077\n",
              "nebulosite_totale     569446\n",
              "region_nom                 0\n",
              "dtype: int64"
            ]
          },
          "metadata": {},
          "execution_count": 56
        }
      ]
    },
    {
      "cell_type": "code",
      "source": [
        "# Traitement des NANs des variables quantitatives\n",
        "\n",
        "df_meteo['temperature']        = df_meteo['temperature'].fillna(method='pad') #Remplacement par la valeur précédente\n",
        "df_meteo['vitesse_vent_10min'] = df_meteo['vitesse_vent_10min'].fillna(method='pad') #Remplacement par la valeur précédente\n",
        "df_meteo['nebulosite_totale']  = df_meteo['nebulosite_totale'].fillna(method='pad') #Remplacement par la valeur précédente\n",
        "\n",
        "#df_meteo['temperature']        = df_meteo['temperature'].fillna(df_meteo['temperature'].mean())\n",
        "#df_meteo['vitesse_vent_10min'] = df_meteo['vitesse_vent_10min'].fillna(df_meteo['vitesse_vent_10min'].mean())\n",
        "#df_meteo['nebulosite_totale']  = df_meteo['nebulosite_totale'].fillna(df_meteo['nebulosite_totale'].mean())"
      ],
      "metadata": {
        "id": "aJR0kuf6HBjG"
      },
      "execution_count": null,
      "outputs": []
    },
    {
      "cell_type": "code",
      "source": [
        "df_meteo.isna().sum(axis = 0)"
      ],
      "metadata": {
        "colab": {
          "base_uri": "https://localhost:8080/"
        },
        "id": "otJAreARdwl2",
        "outputId": "d3a4894d-ec60-4468-9e92-93d9b64b9766"
      },
      "execution_count": null,
      "outputs": [
        {
          "output_type": "execute_result",
          "data": {
            "text/plain": [
              "date                  0\n",
              "vitesse_vent_10min    0\n",
              "temperature           0\n",
              "nebulosite_totale     0\n",
              "region_nom            0\n",
              "dtype: int64"
            ]
          },
          "metadata": {},
          "execution_count": 58
        }
      ]
    },
    {
      "cell_type": "markdown",
      "source": [
        "## 1.4 Fusion des deux DataSet"
      ],
      "metadata": {
        "id": "SEcfzJhm5YcG"
      }
    },
    {
      "cell_type": "markdown",
      "source": [
        "### 1.4.1 Merge"
      ],
      "metadata": {
        "id": "XoOY5TtjHrZz"
      }
    },
    {
      "cell_type": "code",
      "source": [
        "# jointure des deux dataset\n",
        "\n",
        "df = df_energie.merge(df_meteo, how='left', left_on=['date', 'region_nom'], right_on=['date', 'region_nom'])"
      ],
      "metadata": {
        "id": "r_isWp5QHiAk"
      },
      "execution_count": null,
      "outputs": []
    },
    {
      "cell_type": "code",
      "source": [
        "df.info()"
      ],
      "metadata": {
        "id": "_Soeyw6XHmNl",
        "colab": {
          "base_uri": "https://localhost:8080/"
        },
        "outputId": "dc7f865b-9017-4c11-a87c-f2526202dde3"
      },
      "execution_count": null,
      "outputs": [
        {
          "output_type": "stream",
          "name": "stdout",
          "text": [
            "<class 'pandas.core.frame.DataFrame'>\n",
            "Int64Index: 1115645 entries, 0 to 1115644\n",
            "Data columns (total 15 columns):\n",
            " #   Column              Non-Null Count    Dtype              \n",
            "---  ------              --------------    -----              \n",
            " 0   region_nom          1115645 non-null  object             \n",
            " 1   nature              1115645 non-null  object             \n",
            " 2   date                1115645 non-null  datetime64[ns, UTC]\n",
            " 3   conso_inter         1115645 non-null  float64            \n",
            " 4   prod_therm          1115645 non-null  float64            \n",
            " 5   prod_nuc            1115645 non-null  float64            \n",
            " 6   prod_eol            1115645 non-null  float64            \n",
            " 7   prod_sol            1115645 non-null  float64            \n",
            " 8   prod_hydro          1115645 non-null  float64            \n",
            " 9   conso_hydro         1115645 non-null  float64            \n",
            " 10  prod_bio            1115645 non-null  float64            \n",
            " 11  echanges            1115645 non-null  float64            \n",
            " 12  vitesse_vent_10min  694603 non-null   float64            \n",
            " 13  temperature         694603 non-null   float64            \n",
            " 14  nebulosite_totale   694603 non-null   float64            \n",
            "dtypes: datetime64[ns, UTC](1), float64(12), object(2)\n",
            "memory usage: 136.2+ MB\n"
          ]
        }
      ]
    },
    {
      "cell_type": "markdown",
      "source": [
        "### 1.4.2 Complétude"
      ],
      "metadata": {
        "id": "4F_nHzMmIXu3"
      }
    },
    {
      "cell_type": "code",
      "source": [
        "df.isna().sum(axis = 0)"
      ],
      "metadata": {
        "id": "e63lvKbNIdss",
        "colab": {
          "base_uri": "https://localhost:8080/"
        },
        "outputId": "f2eea2a0-27c5-4438-e2be-40c83e15eed9"
      },
      "execution_count": null,
      "outputs": [
        {
          "output_type": "execute_result",
          "data": {
            "text/plain": [
              "region_nom                 0\n",
              "nature                     0\n",
              "date                       0\n",
              "conso_inter                0\n",
              "prod_therm                 0\n",
              "prod_nuc                   0\n",
              "prod_eol                   0\n",
              "prod_sol                   0\n",
              "prod_hydro                 0\n",
              "conso_hydro                0\n",
              "prod_bio                   0\n",
              "echanges                   0\n",
              "vitesse_vent_10min    421042\n",
              "temperature           421042\n",
              "nebulosite_totale     421042\n",
              "dtype: int64"
            ]
          },
          "metadata": {},
          "execution_count": 61
        }
      ]
    },
    {
      "cell_type": "markdown",
      "source": [
        "# Partie 2 : Exploration et Story-telling <a class=\"anchor\" id=\"Partie02\"><a>"
      ],
      "metadata": {
        "id": "HCuGlSEt4H_u"
      }
    },
    {
      "cell_type": "markdown",
      "source": [
        "## 2.1 Exploration sur la consommation d'energie"
      ],
      "metadata": {
        "id": "wThpi0_f5lO_"
      }
    },
    {
      "cell_type": "markdown",
      "source": [
        "## 2.2 Exploration sur les sources de productions"
      ],
      "metadata": {
        "id": "uwurAfb05yAo"
      }
    },
    {
      "cell_type": "markdown",
      "source": [
        "## 2.3 Relations Consommation & Production"
      ],
      "metadata": {
        "id": "CFKAeLux5vpg"
      }
    },
    {
      "cell_type": "markdown",
      "source": [
        "## 2.4 Relations consommation & Météo"
      ],
      "metadata": {
        "id": "3rr1bBfUACrD"
      }
    },
    {
      "cell_type": "markdown",
      "source": [
        "# Partie 3 : Problématique et analyse <a class=\"anchor\" id=\"Partie03\"><a>"
      ],
      "metadata": {
        "id": "-1c_Vjvc4V4T"
      }
    },
    {
      "cell_type": "markdown",
      "source": [
        "## 3.1 Définition de la problématique"
      ],
      "metadata": {
        "id": "bc1En9JLApzS"
      }
    },
    {
      "cell_type": "markdown",
      "source": [
        "## 3.2 Construction d'indicateurs"
      ],
      "metadata": {
        "id": "SoxfCA9fAuOn"
      }
    },
    {
      "cell_type": "markdown",
      "source": [
        "## 3.3 Données pour Dashboard PowerBI"
      ],
      "metadata": {
        "id": "yH61Z-t6A1lV"
      }
    },
    {
      "cell_type": "markdown",
      "source": [
        "## 3.4 Prédictions"
      ],
      "metadata": {
        "id": "ryurx4PnBFdT"
      }
    },
    {
      "cell_type": "markdown",
      "source": [
        "# Partie 4 : Conclusions  <a class=\"anchor\" id=\"Partie04\"><a>"
      ],
      "metadata": {
        "id": "sVXrvPV345Jp"
      }
    },
    {
      "cell_type": "markdown",
      "source": [
        "## 4.1 Apports du projet en réponse à la problématique"
      ],
      "metadata": {
        "id": "dMGwgbZiBSu3"
      }
    },
    {
      "cell_type": "markdown",
      "source": [
        "## 4.2 Limites et axes d'amélioration"
      ],
      "metadata": {
        "id": "KEyUnPnKBbmL"
      }
    }
  ]
}