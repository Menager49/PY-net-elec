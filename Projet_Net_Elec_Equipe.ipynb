{
  "cells": [
    {
      "cell_type": "markdown",
      "metadata": {
        "id": "view-in-github",
        "colab_type": "text"
      },
      "source": [
        "<a href=\"https://colab.research.google.com/github/Menager49/PY-net-elec/blob/main/Projet_Net_Elec_Equipe.ipynb\" target=\"_parent\"><img src=\"https://colab.research.google.com/assets/colab-badge.svg\" alt=\"Open In Colab\"/></a>"
      ]
    },
    {
      "cell_type": "markdown",
      "metadata": {
        "id": "tkruMttLSLhu"
      },
      "source": [
        "# Projet Net Elec\n",
        "\n",
        "Promotion DA continue - Dec. 2021 \n",
        "Membres de l'équipe : Christine, Pierre-Emmanuel, Cédric\n",
        "Mentor : Pierre"
      ]
    },
    {
      "cell_type": "markdown",
      "metadata": {
        "id": "-bH5v56R4C2E"
      },
      "source": [
        "# Partie 1 : Chargement et Preprocessing <a class=\"anchor\" id=\"Partie01\"><a>"
      ]
    },
    {
      "cell_type": "markdown",
      "metadata": {
        "id": "DBoX1BPE5ERY"
      },
      "source": [
        "## 1.1 Chargements modules et connexion Google Drive"
      ]
    },
    {
      "cell_type": "code",
      "execution_count": 6,
      "metadata": {
        "colab": {
          "base_uri": "https://localhost:8080/"
        },
        "id": "XqlSIITF6xxx",
        "outputId": "b8a86658-bd5c-4240-9107-32275372141a"
      },
      "outputs": [
        {
          "output_type": "stream",
          "name": "stdout",
          "text": [
            "Mounted at /content/drive\n"
          ]
        }
      ],
      "source": [
        "# Montage du Drive à Colab pour hebergé le dataset\n",
        "\n",
        "from google.colab import drive\n",
        "drive.mount('/content/drive')"
      ]
    },
    {
      "cell_type": "code",
      "source": [
        "#from google.colab import drive\n",
        "#drive.mount('/content/drive')"
      ],
      "metadata": {
        "id": "LPGSucH6qiTS"
      },
      "execution_count": null,
      "outputs": []
    },
    {
      "cell_type": "code",
      "source": [
        "%cd /content/drive/MyDrive/Github/"
      ],
      "metadata": {
        "colab": {
          "base_uri": "https://localhost:8080/"
        },
        "id": "VNwYtVeuqTMq",
        "outputId": "438f5b28-6ebf-4fcb-89c4-6333227bf4e7"
      },
      "execution_count": 74,
      "outputs": [
        {
          "output_type": "stream",
          "name": "stdout",
          "text": [
            "[Errno 2] No such file or directory: '/content/drive/MyDrive/Github/'\n",
            "/content\n"
          ]
        }
      ]
    },
    {
      "cell_type": "code",
      "execution_count": 58,
      "metadata": {
        "id": "VTbePGIf60kN"
      },
      "outputs": [],
      "source": [
        "# Chargement des modules\n",
        "import numpy as np\n",
        "import pandas as pd\n",
        "import matplotlib.pyplot as plt\n",
        "import seaborn as sns\n",
        "%matplotlib inline\n",
        "\n",
        "from matplotlib.dates import DateFormatter\n",
        "import datetime as dt\n",
        "import matplotlib.dates as mdates\n",
        "import missingno as msno"
      ]
    },
    {
      "cell_type": "code",
      "source": [
        "print('Nombre de lignes sur 5 ans : ',365*5*24*2*12)"
      ],
      "metadata": {
        "colab": {
          "base_uri": "https://localhost:8080/"
        },
        "id": "04sWqJUbNgAP",
        "outputId": "034775c9-8db0-4fc5-93b8-3368f51d88d2"
      },
      "execution_count": 2,
      "outputs": [
        {
          "output_type": "stream",
          "name": "stdout",
          "text": [
            "Nombre de lignes sur 5 ans :  1051200\n"
          ]
        }
      ]
    },
    {
      "cell_type": "markdown",
      "source": [
        "## 1.2 PreProcessing : création du Dataset Date-Region"
      ],
      "metadata": {
        "id": "8sEPSSetKZL3"
      }
    },
    {
      "cell_type": "code",
      "source": [
        "# Limites temporelles:\n",
        "Date_debut = '01/01/2016'\n",
        "Date_fin = '31/12/2021'\n",
        "\n",
        "#Date_debut = '2016-01-01T00:00:00+01:00'\n",
        "#Date_fin = '2021-12-31T00:00:00+01:00'\n"
      ],
      "metadata": {
        "id": "m50DhZ3MKioW"
      },
      "execution_count": 3,
      "outputs": []
    },
    {
      "cell_type": "code",
      "source": [
        "# Construction d'un DF structure de DF propre\n",
        "\n",
        "# Génération d'un array de date\n",
        "time = pd.date_range(start=Date_debut, end=Date_fin, freq='30min', tz='Europe/Paris') # Renvoi un Datetimeindex\n",
        "time = np.array(time) # Transform from timeseries-index in numpy arrays\n",
        "\n",
        "# Liste de région\n",
        "region = ['Occitanie',\n",
        "          'Normandie', \n",
        "          'Bretagne',\n",
        "          \"Provence-Alpes-Côte d'Azur\", \n",
        "          'Hauts-de-France', \n",
        "          'Île-de-France',\n",
        "          'Grand Est', \n",
        "          'Nouvelle-Aquitaine',\n",
        "          'Bourgogne-Franche-Comté', \n",
        "          'Centre-Val de Loire',\n",
        "          'Auvergne-Rhône-Alpes', \n",
        "          'Centre-Val de Loire']\n",
        "\n",
        "# Construction d'une liste de tuple['Date','region_nom']\n",
        "dateregion = []\n",
        "\n",
        "for i in region:\n",
        "    for j in time:\n",
        "        dateregion.append([j,i])\n",
        "\n",
        "# Conversion de la liste de Tuple en DataFrame:\n",
        "dateregion = pd.DataFrame(dateregion, columns=['date','region_nom'])\n",
        "dateregion.head(5)"
      ],
      "metadata": {
        "colab": {
          "base_uri": "https://localhost:8080/",
          "height": 206
        },
        "id": "4wRcvhq2KsSv",
        "outputId": "b4cdb85f-6e6b-4c02-a536-383ba84a6dd0"
      },
      "execution_count": 4,
      "outputs": [
        {
          "output_type": "execute_result",
          "data": {
            "text/plain": [
              "                       date region_nom\n",
              "0 2016-01-01 00:00:00+01:00  Occitanie\n",
              "1 2016-01-01 00:30:00+01:00  Occitanie\n",
              "2 2016-01-01 01:00:00+01:00  Occitanie\n",
              "3 2016-01-01 01:30:00+01:00  Occitanie\n",
              "4 2016-01-01 02:00:00+01:00  Occitanie"
            ],
            "text/html": [
              "\n",
              "  <div id=\"df-4f29e090-695a-43fd-b0f4-1a8c29d4f52d\">\n",
              "    <div class=\"colab-df-container\">\n",
              "      <div>\n",
              "<style scoped>\n",
              "    .dataframe tbody tr th:only-of-type {\n",
              "        vertical-align: middle;\n",
              "    }\n",
              "\n",
              "    .dataframe tbody tr th {\n",
              "        vertical-align: top;\n",
              "    }\n",
              "\n",
              "    .dataframe thead th {\n",
              "        text-align: right;\n",
              "    }\n",
              "</style>\n",
              "<table border=\"1\" class=\"dataframe\">\n",
              "  <thead>\n",
              "    <tr style=\"text-align: right;\">\n",
              "      <th></th>\n",
              "      <th>date</th>\n",
              "      <th>region_nom</th>\n",
              "    </tr>\n",
              "  </thead>\n",
              "  <tbody>\n",
              "    <tr>\n",
              "      <th>0</th>\n",
              "      <td>2016-01-01 00:00:00+01:00</td>\n",
              "      <td>Occitanie</td>\n",
              "    </tr>\n",
              "    <tr>\n",
              "      <th>1</th>\n",
              "      <td>2016-01-01 00:30:00+01:00</td>\n",
              "      <td>Occitanie</td>\n",
              "    </tr>\n",
              "    <tr>\n",
              "      <th>2</th>\n",
              "      <td>2016-01-01 01:00:00+01:00</td>\n",
              "      <td>Occitanie</td>\n",
              "    </tr>\n",
              "    <tr>\n",
              "      <th>3</th>\n",
              "      <td>2016-01-01 01:30:00+01:00</td>\n",
              "      <td>Occitanie</td>\n",
              "    </tr>\n",
              "    <tr>\n",
              "      <th>4</th>\n",
              "      <td>2016-01-01 02:00:00+01:00</td>\n",
              "      <td>Occitanie</td>\n",
              "    </tr>\n",
              "  </tbody>\n",
              "</table>\n",
              "</div>\n",
              "      <button class=\"colab-df-convert\" onclick=\"convertToInteractive('df-4f29e090-695a-43fd-b0f4-1a8c29d4f52d')\"\n",
              "              title=\"Convert this dataframe to an interactive table.\"\n",
              "              style=\"display:none;\">\n",
              "        \n",
              "  <svg xmlns=\"http://www.w3.org/2000/svg\" height=\"24px\"viewBox=\"0 0 24 24\"\n",
              "       width=\"24px\">\n",
              "    <path d=\"M0 0h24v24H0V0z\" fill=\"none\"/>\n",
              "    <path d=\"M18.56 5.44l.94 2.06.94-2.06 2.06-.94-2.06-.94-.94-2.06-.94 2.06-2.06.94zm-11 1L8.5 8.5l.94-2.06 2.06-.94-2.06-.94L8.5 2.5l-.94 2.06-2.06.94zm10 10l.94 2.06.94-2.06 2.06-.94-2.06-.94-.94-2.06-.94 2.06-2.06.94z\"/><path d=\"M17.41 7.96l-1.37-1.37c-.4-.4-.92-.59-1.43-.59-.52 0-1.04.2-1.43.59L10.3 9.45l-7.72 7.72c-.78.78-.78 2.05 0 2.83L4 21.41c.39.39.9.59 1.41.59.51 0 1.02-.2 1.41-.59l7.78-7.78 2.81-2.81c.8-.78.8-2.07 0-2.86zM5.41 20L4 18.59l7.72-7.72 1.47 1.35L5.41 20z\"/>\n",
              "  </svg>\n",
              "      </button>\n",
              "      \n",
              "  <style>\n",
              "    .colab-df-container {\n",
              "      display:flex;\n",
              "      flex-wrap:wrap;\n",
              "      gap: 12px;\n",
              "    }\n",
              "\n",
              "    .colab-df-convert {\n",
              "      background-color: #E8F0FE;\n",
              "      border: none;\n",
              "      border-radius: 50%;\n",
              "      cursor: pointer;\n",
              "      display: none;\n",
              "      fill: #1967D2;\n",
              "      height: 32px;\n",
              "      padding: 0 0 0 0;\n",
              "      width: 32px;\n",
              "    }\n",
              "\n",
              "    .colab-df-convert:hover {\n",
              "      background-color: #E2EBFA;\n",
              "      box-shadow: 0px 1px 2px rgba(60, 64, 67, 0.3), 0px 1px 3px 1px rgba(60, 64, 67, 0.15);\n",
              "      fill: #174EA6;\n",
              "    }\n",
              "\n",
              "    [theme=dark] .colab-df-convert {\n",
              "      background-color: #3B4455;\n",
              "      fill: #D2E3FC;\n",
              "    }\n",
              "\n",
              "    [theme=dark] .colab-df-convert:hover {\n",
              "      background-color: #434B5C;\n",
              "      box-shadow: 0px 1px 3px 1px rgba(0, 0, 0, 0.15);\n",
              "      filter: drop-shadow(0px 1px 2px rgba(0, 0, 0, 0.3));\n",
              "      fill: #FFFFFF;\n",
              "    }\n",
              "  </style>\n",
              "\n",
              "      <script>\n",
              "        const buttonEl =\n",
              "          document.querySelector('#df-4f29e090-695a-43fd-b0f4-1a8c29d4f52d button.colab-df-convert');\n",
              "        buttonEl.style.display =\n",
              "          google.colab.kernel.accessAllowed ? 'block' : 'none';\n",
              "\n",
              "        async function convertToInteractive(key) {\n",
              "          const element = document.querySelector('#df-4f29e090-695a-43fd-b0f4-1a8c29d4f52d');\n",
              "          const dataTable =\n",
              "            await google.colab.kernel.invokeFunction('convertToInteractive',\n",
              "                                                     [key], {});\n",
              "          if (!dataTable) return;\n",
              "\n",
              "          const docLinkHtml = 'Like what you see? Visit the ' +\n",
              "            '<a target=\"_blank\" href=https://colab.research.google.com/notebooks/data_table.ipynb>data table notebook</a>'\n",
              "            + ' to learn more about interactive tables.';\n",
              "          element.innerHTML = '';\n",
              "          dataTable['output_type'] = 'display_data';\n",
              "          await google.colab.output.renderOutput(dataTable, element);\n",
              "          const docLink = document.createElement('div');\n",
              "          docLink.innerHTML = docLinkHtml;\n",
              "          element.appendChild(docLink);\n",
              "        }\n",
              "      </script>\n",
              "    </div>\n",
              "  </div>\n",
              "  "
            ]
          },
          "metadata": {},
          "execution_count": 4
        }
      ]
    },
    {
      "cell_type": "markdown",
      "metadata": {
        "id": "4kFLRYvM5QLr"
      },
      "source": [
        "## 1.3 Preprocessing DataSet Energie"
      ]
    },
    {
      "cell_type": "markdown",
      "metadata": {
        "id": "XEv0vlodDawq"
      },
      "source": [
        "### 1.3.1 Chargement"
      ]
    },
    {
      "cell_type": "code",
      "execution_count": 33,
      "metadata": {
        "id": "Ph1s9mfTC-lk"
      },
      "outputs": [],
      "source": [
        "df_energie = pd.read_csv(filepath_or_buffer='/content/drive/MyDrive/DataScientest_Projet Net Elec/eco2mix-regional-cons-def.csv', \n",
        "                 sep=';', \n",
        "                 parse_dates = {'Date_Heure': ['Date', 'Heure'] })"
      ]
    },
    {
      "cell_type": "code",
      "execution_count": null,
      "metadata": {
        "id": "yQRemd74YH4H"
      },
      "outputs": [],
      "source": [
        "#df_energie.head(5)"
      ]
    },
    {
      "cell_type": "markdown",
      "metadata": {
        "id": "J85j3Ba3DUJy"
      },
      "source": [
        "### 1.3.2 Filtrage"
      ]
    },
    {
      "cell_type": "code",
      "execution_count": null,
      "metadata": {
        "id": "uaf6GrSVSwle"
      },
      "outputs": [],
      "source": [
        "#df_energie.info()"
      ]
    },
    {
      "cell_type": "code",
      "execution_count": 34,
      "metadata": {
        "id": "vJpiCK8PDDTP"
      },
      "outputs": [],
      "source": [
        "### Liste de varaibles à supprimer\n",
        "col_to_drop = ['Column 26',\n",
        "              'Code INSEE région',\n",
        "              'Date_Heure'\n",
        "              ]\n",
        "### Suppression des varaibles inutiles\n",
        "df_energie = df_energie.drop(col_to_drop, axis=1)"
      ]
    },
    {
      "cell_type": "code",
      "execution_count": null,
      "metadata": {
        "id": "5_m_Q_ivTRXW"
      },
      "outputs": [],
      "source": [
        "# df_energie.info()"
      ]
    },
    {
      "cell_type": "code",
      "execution_count": 35,
      "metadata": {
        "id": "nw7IhA7wEAAr"
      },
      "outputs": [],
      "source": [
        "# Filtrage temporel\n",
        "\n",
        "# Conversion du type pour le champs date\n",
        "df_energie['Date - Heure'] = pd.to_datetime(df_energie['Date - Heure'], utc=True)\n",
        "\n",
        "# Limites temporelles haute et basse\n",
        "df_energie = df_energie[(df_energie['Date - Heure'] >= Date_debut) & (df_energie['Date - Heure'] <= Date_fin)]"
      ]
    },
    {
      "cell_type": "markdown",
      "metadata": {
        "id": "mKTD9ohQDrBp"
      },
      "source": [
        "### 1.3.3 Standardisation"
      ]
    },
    {
      "cell_type": "code",
      "execution_count": 36,
      "metadata": {
        "id": "oMjp2J26Dlde"
      },
      "outputs": [],
      "source": [
        "# Les champs sont renommés : \n",
        "Dic_Noms = {\n",
        "    'Région'             :'region_nom',\n",
        "    'Nature'             :'nature',\n",
        "    'Date - Heure'       :'date',\n",
        "    'Consommation (MW)'  :'conso_inter',\n",
        "    'Pompage (MW)'       :'conso_hydro',\n",
        "    'Thermique (MW)'     :'prod_therm',\n",
        "    'Nucléaire (MW)'     :'prod_nuc',\n",
        "    'Solaire (MW)'       :'prod_sol',\n",
        "    'Hydraulique (MW)'   :'prod_hydro',\n",
        "    'Bioénergies (MW)'   :'prod_bio',\n",
        "    'Eolien (MW)'        :'prod_eol',\n",
        "    'Ech. physiques (MW)':'echanges',\n",
        "    'TCO Thermique (%)'  :'tco_therm', \n",
        "    'TCO Nucléaire (%)'  :'tco_nuc',\n",
        "    'TCO Eolien (%)'     :'tco_eol', \n",
        "    'TCO Solaire (%)'    :'tco_sol', \n",
        "    'TCO Hydraulique (%)':'tco_hydro',\n",
        "    'TCO Bioénergies (%)':'tco_bio', \n",
        "    'TCH Nucléaire (%)'  :'tch_nuc', \n",
        "    'TCH Eolien (%)'     :'tch_eol',\n",
        "    'TCH Thermique (%)'  :'tch_therm', \n",
        "    'TCH Solaire (%)'    :'tch_sol', \n",
        "    'TCH Hydraulique (%)':'tch_hydro', \n",
        "    'TCH Bioénergies (%)':'tch_bio', \n",
        "            }\n",
        "\n",
        "df_energie = df_energie.rename(Dic_Noms, axis=1)"
      ]
    },
    {
      "cell_type": "markdown",
      "metadata": {
        "id": "7GyyvFT3EKF0"
      },
      "source": [
        "### 1.3.4 Complétude"
      ]
    },
    {
      "cell_type": "markdown",
      "source": [
        "#### **Doublons**"
      ],
      "metadata": {
        "id": "-sp54dD3a_jd"
      }
    },
    {
      "cell_type": "code",
      "execution_count": 37,
      "metadata": {
        "colab": {
          "base_uri": "https://localhost:8080/"
        },
        "id": "dBgygt64Erve",
        "outputId": "9cabeaa3-b9ec-46e7-f7b9-68941263e5c1"
      },
      "outputs": [
        {
          "output_type": "execute_result",
          "data": {
            "text/plain": [
              "72"
            ]
          },
          "metadata": {},
          "execution_count": 37
        }
      ],
      "source": [
        "# Identification des lignes dupliquées\n",
        "df_energie.duplicated().sum()"
      ]
    },
    {
      "cell_type": "code",
      "execution_count": 38,
      "metadata": {
        "id": "fW0kGH-QXmiv",
        "colab": {
          "base_uri": "https://localhost:8080/"
        },
        "outputId": "b457213d-3d2c-4d15-c20b-588194f09aff"
      },
      "outputs": [
        {
          "output_type": "execute_result",
          "data": {
            "text/plain": [
              "0"
            ]
          },
          "metadata": {},
          "execution_count": 38
        }
      ],
      "source": [
        "# Traitement des lignes dupliquées\n",
        "df_energie = df_energie.drop_duplicates()\n",
        "df_energie.duplicated().sum()"
      ]
    },
    {
      "cell_type": "markdown",
      "source": [
        "#### **NANs**"
      ],
      "metadata": {
        "id": "iGdEfJRAbBnN"
      }
    },
    {
      "cell_type": "code",
      "source": [
        "# Trie du DF par région\n",
        "df_energie.sort_values(by=['region_nom'],inplace=True)\n",
        "\n",
        "# Visualisation des NANs\n",
        "msno.matrix(df_energie);"
      ],
      "metadata": {
        "colab": {
          "base_uri": "https://localhost:8080/",
          "height": 670
        },
        "id": "3fdESeJYcEt0",
        "outputId": "3b6afe42-d9c5-47e0-8433-bb20f2936476"
      },
      "execution_count": 39,
      "outputs": [
        {
          "output_type": "display_data",
          "data": {
            "text/plain": [
              "<Figure size 1800x720 with 2 Axes>"
            ],
            "image/png": "[encoded data removed]"
          },
          "metadata": {
            "needs_background": "light"
          }
        }
      ]
    },
    {
      "cell_type": "code",
      "source": [
        "df_nuc_NAN = df_energie[df_energie['prod_nuc'].isnull()==True].groupby(['region_nom']).agg({'prod_nuc':'sum'})\n",
        "df_nuc_NAN.head(6)"
      ],
      "metadata": {
        "colab": {
          "base_uri": "https://localhost:8080/",
          "height": 238
        },
        "id": "UeFt68mpgJCe",
        "outputId": "223d3d38-123e-419c-cf62-dfa6f92b28c2"
      },
      "execution_count": 42,
      "outputs": [
        {
          "output_type": "execute_result",
          "data": {
            "text/plain": [
              "                            prod_nuc\n",
              "region_nom                          \n",
              "Bourgogne-Franche-Comté          0.0\n",
              "Bretagne                         0.0\n",
              "Pays de la Loire                 0.0\n",
              "Provence-Alpes-Côte d'Azur       0.0\n",
              "Île-de-France                    0.0"
            ],
            "text/html": [
              "\n",
              "  <div id=\"df-d5563a7f-e6f5-44d5-b45e-54c7806cc237\">\n",
              "    <div class=\"colab-df-container\">\n",
              "      <div>\n",
              "<style scoped>\n",
              "    .dataframe tbody tr th:only-of-type {\n",
              "        vertical-align: middle;\n",
              "    }\n",
              "\n",
              "    .dataframe tbody tr th {\n",
              "        vertical-align: top;\n",
              "    }\n",
              "\n",
              "    .dataframe thead th {\n",
              "        text-align: right;\n",
              "    }\n",
              "</style>\n",
              "<table border=\"1\" class=\"dataframe\">\n",
              "  <thead>\n",
              "    <tr style=\"text-align: right;\">\n",
              "      <th></th>\n",
              "      <th>prod_nuc</th>\n",
              "    </tr>\n",
              "    <tr>\n",
              "      <th>region_nom</th>\n",
              "      <th></th>\n",
              "    </tr>\n",
              "  </thead>\n",
              "  <tbody>\n",
              "    <tr>\n",
              "      <th>Bourgogne-Franche-Comté</th>\n",
              "      <td>0.0</td>\n",
              "    </tr>\n",
              "    <tr>\n",
              "      <th>Bretagne</th>\n",
              "      <td>0.0</td>\n",
              "    </tr>\n",
              "    <tr>\n",
              "      <th>Pays de la Loire</th>\n",
              "      <td>0.0</td>\n",
              "    </tr>\n",
              "    <tr>\n",
              "      <th>Provence-Alpes-Côte d'Azur</th>\n",
              "      <td>0.0</td>\n",
              "    </tr>\n",
              "    <tr>\n",
              "      <th>Île-de-France</th>\n",
              "      <td>0.0</td>\n",
              "    </tr>\n",
              "  </tbody>\n",
              "</table>\n",
              "</div>\n",
              "      <button class=\"colab-df-convert\" onclick=\"convertToInteractive('df-d5563a7f-e6f5-44d5-b45e-54c7806cc237')\"\n",
              "              title=\"Convert this dataframe to an interactive table.\"\n",
              "              style=\"display:none;\">\n",
              "        \n",
              "  <svg xmlns=\"http://www.w3.org/2000/svg\" height=\"24px\"viewBox=\"0 0 24 24\"\n",
              "       width=\"24px\">\n",
              "    <path d=\"M0 0h24v24H0V0z\" fill=\"none\"/>\n",
              "    <path d=\"M18.56 5.44l.94 2.06.94-2.06 2.06-.94-2.06-.94-.94-2.06-.94 2.06-2.06.94zm-11 1L8.5 8.5l.94-2.06 2.06-.94-2.06-.94L8.5 2.5l-.94 2.06-2.06.94zm10 10l.94 2.06.94-2.06 2.06-.94-2.06-.94-.94-2.06-.94 2.06-2.06.94z\"/><path d=\"M17.41 7.96l-1.37-1.37c-.4-.4-.92-.59-1.43-.59-.52 0-1.04.2-1.43.59L10.3 9.45l-7.72 7.72c-.78.78-.78 2.05 0 2.83L4 21.41c.39.39.9.59 1.41.59.51 0 1.02-.2 1.41-.59l7.78-7.78 2.81-2.81c.8-.78.8-2.07 0-2.86zM5.41 20L4 18.59l7.72-7.72 1.47 1.35L5.41 20z\"/>\n",
              "  </svg>\n",
              "      </button>\n",
              "      \n",
              "  <style>\n",
              "    .colab-df-container {\n",
              "      display:flex;\n",
              "      flex-wrap:wrap;\n",
              "      gap: 12px;\n",
              "    }\n",
              "\n",
              "    .colab-df-convert {\n",
              "      background-color: #E8F0FE;\n",
              "      border: none;\n",
              "      border-radius: 50%;\n",
              "      cursor: pointer;\n",
              "      display: none;\n",
              "      fill: #1967D2;\n",
              "      height: 32px;\n",
              "      padding: 0 0 0 0;\n",
              "      width: 32px;\n",
              "    }\n",
              "\n",
              "    .colab-df-convert:hover {\n",
              "      background-color: #E2EBFA;\n",
              "      box-shadow: 0px 1px 2px rgba(60, 64, 67, 0.3), 0px 1px 3px 1px rgba(60, 64, 67, 0.15);\n",
              "      fill: #174EA6;\n",
              "    }\n",
              "\n",
              "    [theme=dark] .colab-df-convert {\n",
              "      background-color: #3B4455;\n",
              "      fill: #D2E3FC;\n",
              "    }\n",
              "\n",
              "    [theme=dark] .colab-df-convert:hover {\n",
              "      background-color: #434B5C;\n",
              "      box-shadow: 0px 1px 3px 1px rgba(0, 0, 0, 0.15);\n",
              "      filter: drop-shadow(0px 1px 2px rgba(0, 0, 0, 0.3));\n",
              "      fill: #FFFFFF;\n",
              "    }\n",
              "  </style>\n",
              "\n",
              "      <script>\n",
              "        const buttonEl =\n",
              "          document.querySelector('#df-d5563a7f-e6f5-44d5-b45e-54c7806cc237 button.colab-df-convert');\n",
              "        buttonEl.style.display =\n",
              "          google.colab.kernel.accessAllowed ? 'block' : 'none';\n",
              "\n",
              "        async function convertToInteractive(key) {\n",
              "          const element = document.querySelector('#df-d5563a7f-e6f5-44d5-b45e-54c7806cc237');\n",
              "          const dataTable =\n",
              "            await google.colab.kernel.invokeFunction('convertToInteractive',\n",
              "                                                     [key], {});\n",
              "          if (!dataTable) return;\n",
              "\n",
              "          const docLinkHtml = 'Like what you see? Visit the ' +\n",
              "            '<a target=\"_blank\" href=https://colab.research.google.com/notebooks/data_table.ipynb>data table notebook</a>'\n",
              "            + ' to learn more about interactive tables.';\n",
              "          element.innerHTML = '';\n",
              "          dataTable['output_type'] = 'display_data';\n",
              "          await google.colab.output.renderOutput(dataTable, element);\n",
              "          const docLink = document.createElement('div');\n",
              "          docLink.innerHTML = docLinkHtml;\n",
              "          element.appendChild(docLink);\n",
              "        }\n",
              "      </script>\n",
              "    </div>\n",
              "  </div>\n",
              "  "
            ]
          },
          "metadata": {},
          "execution_count": 42
        }
      ]
    },
    {
      "cell_type": "code",
      "source": [
        "df_nuc_VAL = df_energie[df_energie['prod_nuc'].isnull()==False].groupby(['region_nom']).agg({'prod_nuc':'sum'})\n",
        "df_nuc_VAL.head(6)"
      ],
      "metadata": {
        "colab": {
          "base_uri": "https://localhost:8080/",
          "height": 269
        },
        "id": "ofUA9KM5icm1",
        "outputId": "510d6ec4-6611-4ba1-ddae-cf77ee836633"
      },
      "execution_count": 43,
      "outputs": [
        {
          "output_type": "execute_result",
          "data": {
            "text/plain": [
              "                         prod_nuc\n",
              "region_nom                       \n",
              "Auvergne-Rhône-Alpes  963985940.0\n",
              "Centre-Val de Loire   861552904.0\n",
              "Grand Est             881484568.0\n",
              "Hauts-de-France       383171739.0\n",
              "Normandie             653323578.0\n",
              "Nouvelle-Aquitaine    510262402.0"
            ],
            "text/html": [
              "\n",
              "  <div id=\"df-c19aafa8-584f-4967-841e-a92efc82aeba\">\n",
              "    <div class=\"colab-df-container\">\n",
              "      <div>\n",
              "<style scoped>\n",
              "    .dataframe tbody tr th:only-of-type {\n",
              "        vertical-align: middle;\n",
              "    }\n",
              "\n",
              "    .dataframe tbody tr th {\n",
              "        vertical-align: top;\n",
              "    }\n",
              "\n",
              "    .dataframe thead th {\n",
              "        text-align: right;\n",
              "    }\n",
              "</style>\n",
              "<table border=\"1\" class=\"dataframe\">\n",
              "  <thead>\n",
              "    <tr style=\"text-align: right;\">\n",
              "      <th></th>\n",
              "      <th>prod_nuc</th>\n",
              "    </tr>\n",
              "    <tr>\n",
              "      <th>region_nom</th>\n",
              "      <th></th>\n",
              "    </tr>\n",
              "  </thead>\n",
              "  <tbody>\n",
              "    <tr>\n",
              "      <th>Auvergne-Rhône-Alpes</th>\n",
              "      <td>963985940.0</td>\n",
              "    </tr>\n",
              "    <tr>\n",
              "      <th>Centre-Val de Loire</th>\n",
              "      <td>861552904.0</td>\n",
              "    </tr>\n",
              "    <tr>\n",
              "      <th>Grand Est</th>\n",
              "      <td>881484568.0</td>\n",
              "    </tr>\n",
              "    <tr>\n",
              "      <th>Hauts-de-France</th>\n",
              "      <td>383171739.0</td>\n",
              "    </tr>\n",
              "    <tr>\n",
              "      <th>Normandie</th>\n",
              "      <td>653323578.0</td>\n",
              "    </tr>\n",
              "    <tr>\n",
              "      <th>Nouvelle-Aquitaine</th>\n",
              "      <td>510262402.0</td>\n",
              "    </tr>\n",
              "  </tbody>\n",
              "</table>\n",
              "</div>\n",
              "      <button class=\"colab-df-convert\" onclick=\"convertToInteractive('df-c19aafa8-584f-4967-841e-a92efc82aeba')\"\n",
              "              title=\"Convert this dataframe to an interactive table.\"\n",
              "              style=\"display:none;\">\n",
              "        \n",
              "  <svg xmlns=\"http://www.w3.org/2000/svg\" height=\"24px\"viewBox=\"0 0 24 24\"\n",
              "       width=\"24px\">\n",
              "    <path d=\"M0 0h24v24H0V0z\" fill=\"none\"/>\n",
              "    <path d=\"M18.56 5.44l.94 2.06.94-2.06 2.06-.94-2.06-.94-.94-2.06-.94 2.06-2.06.94zm-11 1L8.5 8.5l.94-2.06 2.06-.94-2.06-.94L8.5 2.5l-.94 2.06-2.06.94zm10 10l.94 2.06.94-2.06 2.06-.94-2.06-.94-.94-2.06-.94 2.06-2.06.94z\"/><path d=\"M17.41 7.96l-1.37-1.37c-.4-.4-.92-.59-1.43-.59-.52 0-1.04.2-1.43.59L10.3 9.45l-7.72 7.72c-.78.78-.78 2.05 0 2.83L4 21.41c.39.39.9.59 1.41.59.51 0 1.02-.2 1.41-.59l7.78-7.78 2.81-2.81c.8-.78.8-2.07 0-2.86zM5.41 20L4 18.59l7.72-7.72 1.47 1.35L5.41 20z\"/>\n",
              "  </svg>\n",
              "      </button>\n",
              "      \n",
              "  <style>\n",
              "    .colab-df-container {\n",
              "      display:flex;\n",
              "      flex-wrap:wrap;\n",
              "      gap: 12px;\n",
              "    }\n",
              "\n",
              "    .colab-df-convert {\n",
              "      background-color: #E8F0FE;\n",
              "      border: none;\n",
              "      border-radius: 50%;\n",
              "      cursor: pointer;\n",
              "      display: none;\n",
              "      fill: #1967D2;\n",
              "      height: 32px;\n",
              "      padding: 0 0 0 0;\n",
              "      width: 32px;\n",
              "    }\n",
              "\n",
              "    .colab-df-convert:hover {\n",
              "      background-color: #E2EBFA;\n",
              "      box-shadow: 0px 1px 2px rgba(60, 64, 67, 0.3), 0px 1px 3px 1px rgba(60, 64, 67, 0.15);\n",
              "      fill: #174EA6;\n",
              "    }\n",
              "\n",
              "    [theme=dark] .colab-df-convert {\n",
              "      background-color: #3B4455;\n",
              "      fill: #D2E3FC;\n",
              "    }\n",
              "\n",
              "    [theme=dark] .colab-df-convert:hover {\n",
              "      background-color: #434B5C;\n",
              "      box-shadow: 0px 1px 3px 1px rgba(0, 0, 0, 0.15);\n",
              "      filter: drop-shadow(0px 1px 2px rgba(0, 0, 0, 0.3));\n",
              "      fill: #FFFFFF;\n",
              "    }\n",
              "  </style>\n",
              "\n",
              "      <script>\n",
              "        const buttonEl =\n",
              "          document.querySelector('#df-c19aafa8-584f-4967-841e-a92efc82aeba button.colab-df-convert');\n",
              "        buttonEl.style.display =\n",
              "          google.colab.kernel.accessAllowed ? 'block' : 'none';\n",
              "\n",
              "        async function convertToInteractive(key) {\n",
              "          const element = document.querySelector('#df-c19aafa8-584f-4967-841e-a92efc82aeba');\n",
              "          const dataTable =\n",
              "            await google.colab.kernel.invokeFunction('convertToInteractive',\n",
              "                                                     [key], {});\n",
              "          if (!dataTable) return;\n",
              "\n",
              "          const docLinkHtml = 'Like what you see? Visit the ' +\n",
              "            '<a target=\"_blank\" href=https://colab.research.google.com/notebooks/data_table.ipynb>data table notebook</a>'\n",
              "            + ' to learn more about interactive tables.';\n",
              "          element.innerHTML = '';\n",
              "          dataTable['output_type'] = 'display_data';\n",
              "          await google.colab.output.renderOutput(dataTable, element);\n",
              "          const docLink = document.createElement('div');\n",
              "          docLink.innerHTML = docLinkHtml;\n",
              "          element.appendChild(docLink);\n",
              "        }\n",
              "      </script>\n",
              "    </div>\n",
              "  </div>\n",
              "  "
            ]
          },
          "metadata": {},
          "execution_count": 43
        }
      ]
    },
    {
      "cell_type": "code",
      "source": [
        "df_hydro_NAN = df_energie[df_energie['conso_hydro'].isnull()==True].groupby(['region_nom']).agg({'conso_hydro':'sum'})\n",
        "df_hydro_NAN.head(12)"
      ],
      "metadata": {
        "colab": {
          "base_uri": "https://localhost:8080/",
          "height": 238
        },
        "id": "ktr13LHZh9i2",
        "outputId": "0bef2f9d-82c2-4415-e62e-59fb8d543705"
      },
      "execution_count": 44,
      "outputs": [
        {
          "output_type": "execute_result",
          "data": {
            "text/plain": [
              "                     conso_hydro\n",
              "region_nom                      \n",
              "Centre-Val de Loire          0.0\n",
              "Normandie                    0.0\n",
              "Nouvelle-Aquitaine           0.0\n",
              "Pays de la Loire             0.0\n",
              "Île-de-France                0.0"
            ],
            "text/html": [
              "\n",
              "  <div id=\"df-ccc37795-7881-4e3c-8d6b-7b148ea258e2\">\n",
              "    <div class=\"colab-df-container\">\n",
              "      <div>\n",
              "<style scoped>\n",
              "    .dataframe tbody tr th:only-of-type {\n",
              "        vertical-align: middle;\n",
              "    }\n",
              "\n",
              "    .dataframe tbody tr th {\n",
              "        vertical-align: top;\n",
              "    }\n",
              "\n",
              "    .dataframe thead th {\n",
              "        text-align: right;\n",
              "    }\n",
              "</style>\n",
              "<table border=\"1\" class=\"dataframe\">\n",
              "  <thead>\n",
              "    <tr style=\"text-align: right;\">\n",
              "      <th></th>\n",
              "      <th>conso_hydro</th>\n",
              "    </tr>\n",
              "    <tr>\n",
              "      <th>region_nom</th>\n",
              "      <th></th>\n",
              "    </tr>\n",
              "  </thead>\n",
              "  <tbody>\n",
              "    <tr>\n",
              "      <th>Centre-Val de Loire</th>\n",
              "      <td>0.0</td>\n",
              "    </tr>\n",
              "    <tr>\n",
              "      <th>Normandie</th>\n",
              "      <td>0.0</td>\n",
              "    </tr>\n",
              "    <tr>\n",
              "      <th>Nouvelle-Aquitaine</th>\n",
              "      <td>0.0</td>\n",
              "    </tr>\n",
              "    <tr>\n",
              "      <th>Pays de la Loire</th>\n",
              "      <td>0.0</td>\n",
              "    </tr>\n",
              "    <tr>\n",
              "      <th>Île-de-France</th>\n",
              "      <td>0.0</td>\n",
              "    </tr>\n",
              "  </tbody>\n",
              "</table>\n",
              "</div>\n",
              "      <button class=\"colab-df-convert\" onclick=\"convertToInteractive('df-ccc37795-7881-4e3c-8d6b-7b148ea258e2')\"\n",
              "              title=\"Convert this dataframe to an interactive table.\"\n",
              "              style=\"display:none;\">\n",
              "        \n",
              "  <svg xmlns=\"http://www.w3.org/2000/svg\" height=\"24px\"viewBox=\"0 0 24 24\"\n",
              "       width=\"24px\">\n",
              "    <path d=\"M0 0h24v24H0V0z\" fill=\"none\"/>\n",
              "    <path d=\"M18.56 5.44l.94 2.06.94-2.06 2.06-.94-2.06-.94-.94-2.06-.94 2.06-2.06.94zm-11 1L8.5 8.5l.94-2.06 2.06-.94-2.06-.94L8.5 2.5l-.94 2.06-2.06.94zm10 10l.94 2.06.94-2.06 2.06-.94-2.06-.94-.94-2.06-.94 2.06-2.06.94z\"/><path d=\"M17.41 7.96l-1.37-1.37c-.4-.4-.92-.59-1.43-.59-.52 0-1.04.2-1.43.59L10.3 9.45l-7.72 7.72c-.78.78-.78 2.05 0 2.83L4 21.41c.39.39.9.59 1.41.59.51 0 1.02-.2 1.41-.59l7.78-7.78 2.81-2.81c.8-.78.8-2.07 0-2.86zM5.41 20L4 18.59l7.72-7.72 1.47 1.35L5.41 20z\"/>\n",
              "  </svg>\n",
              "      </button>\n",
              "      \n",
              "  <style>\n",
              "    .colab-df-container {\n",
              "      display:flex;\n",
              "      flex-wrap:wrap;\n",
              "      gap: 12px;\n",
              "    }\n",
              "\n",
              "    .colab-df-convert {\n",
              "      background-color: #E8F0FE;\n",
              "      border: none;\n",
              "      border-radius: 50%;\n",
              "      cursor: pointer;\n",
              "      display: none;\n",
              "      fill: #1967D2;\n",
              "      height: 32px;\n",
              "      padding: 0 0 0 0;\n",
              "      width: 32px;\n",
              "    }\n",
              "\n",
              "    .colab-df-convert:hover {\n",
              "      background-color: #E2EBFA;\n",
              "      box-shadow: 0px 1px 2px rgba(60, 64, 67, 0.3), 0px 1px 3px 1px rgba(60, 64, 67, 0.15);\n",
              "      fill: #174EA6;\n",
              "    }\n",
              "\n",
              "    [theme=dark] .colab-df-convert {\n",
              "      background-color: #3B4455;\n",
              "      fill: #D2E3FC;\n",
              "    }\n",
              "\n",
              "    [theme=dark] .colab-df-convert:hover {\n",
              "      background-color: #434B5C;\n",
              "      box-shadow: 0px 1px 3px 1px rgba(0, 0, 0, 0.15);\n",
              "      filter: drop-shadow(0px 1px 2px rgba(0, 0, 0, 0.3));\n",
              "      fill: #FFFFFF;\n",
              "    }\n",
              "  </style>\n",
              "\n",
              "      <script>\n",
              "        const buttonEl =\n",
              "          document.querySelector('#df-ccc37795-7881-4e3c-8d6b-7b148ea258e2 button.colab-df-convert');\n",
              "        buttonEl.style.display =\n",
              "          google.colab.kernel.accessAllowed ? 'block' : 'none';\n",
              "\n",
              "        async function convertToInteractive(key) {\n",
              "          const element = document.querySelector('#df-ccc37795-7881-4e3c-8d6b-7b148ea258e2');\n",
              "          const dataTable =\n",
              "            await google.colab.kernel.invokeFunction('convertToInteractive',\n",
              "                                                     [key], {});\n",
              "          if (!dataTable) return;\n",
              "\n",
              "          const docLinkHtml = 'Like what you see? Visit the ' +\n",
              "            '<a target=\"_blank\" href=https://colab.research.google.com/notebooks/data_table.ipynb>data table notebook</a>'\n",
              "            + ' to learn more about interactive tables.';\n",
              "          element.innerHTML = '';\n",
              "          dataTable['output_type'] = 'display_data';\n",
              "          await google.colab.output.renderOutput(dataTable, element);\n",
              "          const docLink = document.createElement('div');\n",
              "          docLink.innerHTML = docLinkHtml;\n",
              "          element.appendChild(docLink);\n",
              "        }\n",
              "      </script>\n",
              "    </div>\n",
              "  </div>\n",
              "  "
            ]
          },
          "metadata": {},
          "execution_count": 44
        }
      ]
    },
    {
      "cell_type": "code",
      "source": [
        "df_hydro_VAL = df_energie[df_energie['conso_hydro'].isnull()==False].groupby(['region_nom']).agg({'conso_hydro':'sum'})\n",
        "df_hydro_VAL.head(12)"
      ],
      "metadata": {
        "colab": {
          "base_uri": "https://localhost:8080/",
          "height": 300
        },
        "id": "3m-M34zfjs4C",
        "outputId": "31cd7e10-9a07-4b00-cd67-5934ea69b0e6"
      },
      "execution_count": 45,
      "outputs": [
        {
          "output_type": "execute_result",
          "data": {
            "text/plain": [
              "                            conso_hydro\n",
              "region_nom                             \n",
              "Auvergne-Rhône-Alpes        -46348906.0\n",
              "Bourgogne-Franche-Comté       -447440.0\n",
              "Bretagne                      -757982.0\n",
              "Grand Est                    -9837371.0\n",
              "Hauts-de-France                     0.0\n",
              "Occitanie                   -21989815.0\n",
              "Provence-Alpes-Côte d'Azur    -561004.0"
            ],
            "text/html": [
              "\n",
              "  <div id=\"df-a3791390-b698-4f57-bbf7-34d36d4a7b14\">\n",
              "    <div class=\"colab-df-container\">\n",
              "      <div>\n",
              "<style scoped>\n",
              "    .dataframe tbody tr th:only-of-type {\n",
              "        vertical-align: middle;\n",
              "    }\n",
              "\n",
              "    .dataframe tbody tr th {\n",
              "        vertical-align: top;\n",
              "    }\n",
              "\n",
              "    .dataframe thead th {\n",
              "        text-align: right;\n",
              "    }\n",
              "</style>\n",
              "<table border=\"1\" class=\"dataframe\">\n",
              "  <thead>\n",
              "    <tr style=\"text-align: right;\">\n",
              "      <th></th>\n",
              "      <th>conso_hydro</th>\n",
              "    </tr>\n",
              "    <tr>\n",
              "      <th>region_nom</th>\n",
              "      <th></th>\n",
              "    </tr>\n",
              "  </thead>\n",
              "  <tbody>\n",
              "    <tr>\n",
              "      <th>Auvergne-Rhône-Alpes</th>\n",
              "      <td>-46348906.0</td>\n",
              "    </tr>\n",
              "    <tr>\n",
              "      <th>Bourgogne-Franche-Comté</th>\n",
              "      <td>-447440.0</td>\n",
              "    </tr>\n",
              "    <tr>\n",
              "      <th>Bretagne</th>\n",
              "      <td>-757982.0</td>\n",
              "    </tr>\n",
              "    <tr>\n",
              "      <th>Grand Est</th>\n",
              "      <td>-9837371.0</td>\n",
              "    </tr>\n",
              "    <tr>\n",
              "      <th>Hauts-de-France</th>\n",
              "      <td>0.0</td>\n",
              "    </tr>\n",
              "    <tr>\n",
              "      <th>Occitanie</th>\n",
              "      <td>-21989815.0</td>\n",
              "    </tr>\n",
              "    <tr>\n",
              "      <th>Provence-Alpes-Côte d'Azur</th>\n",
              "      <td>-561004.0</td>\n",
              "    </tr>\n",
              "  </tbody>\n",
              "</table>\n",
              "</div>\n",
              "      <button class=\"colab-df-convert\" onclick=\"convertToInteractive('df-a3791390-b698-4f57-bbf7-34d36d4a7b14')\"\n",
              "              title=\"Convert this dataframe to an interactive table.\"\n",
              "              style=\"display:none;\">\n",
              "        \n",
              "  <svg xmlns=\"http://www.w3.org/2000/svg\" height=\"24px\"viewBox=\"0 0 24 24\"\n",
              "       width=\"24px\">\n",
              "    <path d=\"M0 0h24v24H0V0z\" fill=\"none\"/>\n",
              "    <path d=\"M18.56 5.44l.94 2.06.94-2.06 2.06-.94-2.06-.94-.94-2.06-.94 2.06-2.06.94zm-11 1L8.5 8.5l.94-2.06 2.06-.94-2.06-.94L8.5 2.5l-.94 2.06-2.06.94zm10 10l.94 2.06.94-2.06 2.06-.94-2.06-.94-.94-2.06-.94 2.06-2.06.94z\"/><path d=\"M17.41 7.96l-1.37-1.37c-.4-.4-.92-.59-1.43-.59-.52 0-1.04.2-1.43.59L10.3 9.45l-7.72 7.72c-.78.78-.78 2.05 0 2.83L4 21.41c.39.39.9.59 1.41.59.51 0 1.02-.2 1.41-.59l7.78-7.78 2.81-2.81c.8-.78.8-2.07 0-2.86zM5.41 20L4 18.59l7.72-7.72 1.47 1.35L5.41 20z\"/>\n",
              "  </svg>\n",
              "      </button>\n",
              "      \n",
              "  <style>\n",
              "    .colab-df-container {\n",
              "      display:flex;\n",
              "      flex-wrap:wrap;\n",
              "      gap: 12px;\n",
              "    }\n",
              "\n",
              "    .colab-df-convert {\n",
              "      background-color: #E8F0FE;\n",
              "      border: none;\n",
              "      border-radius: 50%;\n",
              "      cursor: pointer;\n",
              "      display: none;\n",
              "      fill: #1967D2;\n",
              "      height: 32px;\n",
              "      padding: 0 0 0 0;\n",
              "      width: 32px;\n",
              "    }\n",
              "\n",
              "    .colab-df-convert:hover {\n",
              "      background-color: #E2EBFA;\n",
              "      box-shadow: 0px 1px 2px rgba(60, 64, 67, 0.3), 0px 1px 3px 1px rgba(60, 64, 67, 0.15);\n",
              "      fill: #174EA6;\n",
              "    }\n",
              "\n",
              "    [theme=dark] .colab-df-convert {\n",
              "      background-color: #3B4455;\n",
              "      fill: #D2E3FC;\n",
              "    }\n",
              "\n",
              "    [theme=dark] .colab-df-convert:hover {\n",
              "      background-color: #434B5C;\n",
              "      box-shadow: 0px 1px 3px 1px rgba(0, 0, 0, 0.15);\n",
              "      filter: drop-shadow(0px 1px 2px rgba(0, 0, 0, 0.3));\n",
              "      fill: #FFFFFF;\n",
              "    }\n",
              "  </style>\n",
              "\n",
              "      <script>\n",
              "        const buttonEl =\n",
              "          document.querySelector('#df-a3791390-b698-4f57-bbf7-34d36d4a7b14 button.colab-df-convert');\n",
              "        buttonEl.style.display =\n",
              "          google.colab.kernel.accessAllowed ? 'block' : 'none';\n",
              "\n",
              "        async function convertToInteractive(key) {\n",
              "          const element = document.querySelector('#df-a3791390-b698-4f57-bbf7-34d36d4a7b14');\n",
              "          const dataTable =\n",
              "            await google.colab.kernel.invokeFunction('convertToInteractive',\n",
              "                                                     [key], {});\n",
              "          if (!dataTable) return;\n",
              "\n",
              "          const docLinkHtml = 'Like what you see? Visit the ' +\n",
              "            '<a target=\"_blank\" href=https://colab.research.google.com/notebooks/data_table.ipynb>data table notebook</a>'\n",
              "            + ' to learn more about interactive tables.';\n",
              "          element.innerHTML = '';\n",
              "          dataTable['output_type'] = 'display_data';\n",
              "          await google.colab.output.renderOutput(dataTable, element);\n",
              "          const docLink = document.createElement('div');\n",
              "          docLink.innerHTML = docLinkHtml;\n",
              "          element.appendChild(docLink);\n",
              "        }\n",
              "      </script>\n",
              "    </div>\n",
              "  </div>\n",
              "  "
            ]
          },
          "metadata": {},
          "execution_count": 45
        }
      ]
    },
    {
      "cell_type": "code",
      "source": [
        "# Cas 3 : Remplacement par zéro sur le champs nucléaire pour les région n'ayant pas de nucléaire\n",
        "list_fillzero=['prod_nuc', 'conso_hydro']\n",
        "\n",
        "for i in list_fillzero:\n",
        "    df_energie[i].fillna(0, inplace=True)\n",
        "\n",
        "del df_nuc_NAN\n",
        "del df_nuc_VAL\n",
        "del df_hydro_NAN \n",
        "del df_hydro_VAL "
      ],
      "metadata": {
        "id": "jUYAueQjjSHk"
      },
      "execution_count": 46,
      "outputs": []
    },
    {
      "cell_type": "code",
      "source": [
        "# Trie du DF par date\n",
        "df_energie.sort_values(by=['date'],inplace=True)\n",
        "\n",
        "# Visualisation des NANs\n",
        "msno.matrix(df_energie);"
      ],
      "metadata": {
        "colab": {
          "base_uri": "https://localhost:8080/",
          "height": 670
        },
        "id": "ry6Us7oMkPh6",
        "outputId": "1d7e5c65-e668-488d-fea5-13d92416fe9e"
      },
      "execution_count": 47,
      "outputs": [
        {
          "output_type": "display_data",
          "data": {
            "text/plain": [
              "<Figure size 1800x720 with 2 Axes>"
            ],
            "image/png": "[encoded data removed]"
          },
          "metadata": {
            "needs_background": "light"
          }
        }
      ]
    },
    {
      "cell_type": "code",
      "source": [
        "df_tco_therm_NAN = df_energie[df_energie['tco_therm'].isnull()==True].groupby(pd.Grouper(key = 'date', freq = 'Y')).agg({'date':'count'})\n",
        "df_tco_therm_NAN.head(24)"
      ],
      "metadata": {
        "colab": {
          "base_uri": "https://localhost:8080/",
          "height": 206
        },
        "id": "y7Ug5YL_kjqn",
        "outputId": "5602fdfd-6f3e-45fe-f6fe-3a6c3f59fa2f"
      },
      "execution_count": 52,
      "outputs": [
        {
          "output_type": "execute_result",
          "data": {
            "text/plain": [
              "                             date\n",
              "date                             \n",
              "2016-12-31 00:00:00+00:00  210804\n",
              "2017-12-31 00:00:00+00:00  210228\n",
              "2018-12-31 00:00:00+00:00  210228\n",
              "2019-12-31 00:00:00+00:00  210204"
            ],
            "text/html": [
              "\n",
              "  <div id=\"df-01e23e3b-5184-4a80-9caa-0cb8d7a0bdc3\">\n",
              "    <div class=\"colab-df-container\">\n",
              "      <div>\n",
              "<style scoped>\n",
              "    .dataframe tbody tr th:only-of-type {\n",
              "        vertical-align: middle;\n",
              "    }\n",
              "\n",
              "    .dataframe tbody tr th {\n",
              "        vertical-align: top;\n",
              "    }\n",
              "\n",
              "    .dataframe thead th {\n",
              "        text-align: right;\n",
              "    }\n",
              "</style>\n",
              "<table border=\"1\" class=\"dataframe\">\n",
              "  <thead>\n",
              "    <tr style=\"text-align: right;\">\n",
              "      <th></th>\n",
              "      <th>date</th>\n",
              "    </tr>\n",
              "    <tr>\n",
              "      <th>date</th>\n",
              "      <th></th>\n",
              "    </tr>\n",
              "  </thead>\n",
              "  <tbody>\n",
              "    <tr>\n",
              "      <th>2016-12-31 00:00:00+00:00</th>\n",
              "      <td>210804</td>\n",
              "    </tr>\n",
              "    <tr>\n",
              "      <th>2017-12-31 00:00:00+00:00</th>\n",
              "      <td>210228</td>\n",
              "    </tr>\n",
              "    <tr>\n",
              "      <th>2018-12-31 00:00:00+00:00</th>\n",
              "      <td>210228</td>\n",
              "    </tr>\n",
              "    <tr>\n",
              "      <th>2019-12-31 00:00:00+00:00</th>\n",
              "      <td>210204</td>\n",
              "    </tr>\n",
              "  </tbody>\n",
              "</table>\n",
              "</div>\n",
              "      <button class=\"colab-df-convert\" onclick=\"convertToInteractive('df-01e23e3b-5184-4a80-9caa-0cb8d7a0bdc3')\"\n",
              "              title=\"Convert this dataframe to an interactive table.\"\n",
              "              style=\"display:none;\">\n",
              "        \n",
              "  <svg xmlns=\"http://www.w3.org/2000/svg\" height=\"24px\"viewBox=\"0 0 24 24\"\n",
              "       width=\"24px\">\n",
              "    <path d=\"M0 0h24v24H0V0z\" fill=\"none\"/>\n",
              "    <path d=\"M18.56 5.44l.94 2.06.94-2.06 2.06-.94-2.06-.94-.94-2.06-.94 2.06-2.06.94zm-11 1L8.5 8.5l.94-2.06 2.06-.94-2.06-.94L8.5 2.5l-.94 2.06-2.06.94zm10 10l.94 2.06.94-2.06 2.06-.94-2.06-.94-.94-2.06-.94 2.06-2.06.94z\"/><path d=\"M17.41 7.96l-1.37-1.37c-.4-.4-.92-.59-1.43-.59-.52 0-1.04.2-1.43.59L10.3 9.45l-7.72 7.72c-.78.78-.78 2.05 0 2.83L4 21.41c.39.39.9.59 1.41.59.51 0 1.02-.2 1.41-.59l7.78-7.78 2.81-2.81c.8-.78.8-2.07 0-2.86zM5.41 20L4 18.59l7.72-7.72 1.47 1.35L5.41 20z\"/>\n",
              "  </svg>\n",
              "      </button>\n",
              "      \n",
              "  <style>\n",
              "    .colab-df-container {\n",
              "      display:flex;\n",
              "      flex-wrap:wrap;\n",
              "      gap: 12px;\n",
              "    }\n",
              "\n",
              "    .colab-df-convert {\n",
              "      background-color: #E8F0FE;\n",
              "      border: none;\n",
              "      border-radius: 50%;\n",
              "      cursor: pointer;\n",
              "      display: none;\n",
              "      fill: #1967D2;\n",
              "      height: 32px;\n",
              "      padding: 0 0 0 0;\n",
              "      width: 32px;\n",
              "    }\n",
              "\n",
              "    .colab-df-convert:hover {\n",
              "      background-color: #E2EBFA;\n",
              "      box-shadow: 0px 1px 2px rgba(60, 64, 67, 0.3), 0px 1px 3px 1px rgba(60, 64, 67, 0.15);\n",
              "      fill: #174EA6;\n",
              "    }\n",
              "\n",
              "    [theme=dark] .colab-df-convert {\n",
              "      background-color: #3B4455;\n",
              "      fill: #D2E3FC;\n",
              "    }\n",
              "\n",
              "    [theme=dark] .colab-df-convert:hover {\n",
              "      background-color: #434B5C;\n",
              "      box-shadow: 0px 1px 3px 1px rgba(0, 0, 0, 0.15);\n",
              "      filter: drop-shadow(0px 1px 2px rgba(0, 0, 0, 0.3));\n",
              "      fill: #FFFFFF;\n",
              "    }\n",
              "  </style>\n",
              "\n",
              "      <script>\n",
              "        const buttonEl =\n",
              "          document.querySelector('#df-01e23e3b-5184-4a80-9caa-0cb8d7a0bdc3 button.colab-df-convert');\n",
              "        buttonEl.style.display =\n",
              "          google.colab.kernel.accessAllowed ? 'block' : 'none';\n",
              "\n",
              "        async function convertToInteractive(key) {\n",
              "          const element = document.querySelector('#df-01e23e3b-5184-4a80-9caa-0cb8d7a0bdc3');\n",
              "          const dataTable =\n",
              "            await google.colab.kernel.invokeFunction('convertToInteractive',\n",
              "                                                     [key], {});\n",
              "          if (!dataTable) return;\n",
              "\n",
              "          const docLinkHtml = 'Like what you see? Visit the ' +\n",
              "            '<a target=\"_blank\" href=https://colab.research.google.com/notebooks/data_table.ipynb>data table notebook</a>'\n",
              "            + ' to learn more about interactive tables.';\n",
              "          element.innerHTML = '';\n",
              "          dataTable['output_type'] = 'display_data';\n",
              "          await google.colab.output.renderOutput(dataTable, element);\n",
              "          const docLink = document.createElement('div');\n",
              "          docLink.innerHTML = docLinkHtml;\n",
              "          element.appendChild(docLink);\n",
              "        }\n",
              "      </script>\n",
              "    </div>\n",
              "  </div>\n",
              "  "
            ]
          },
          "metadata": {},
          "execution_count": 52
        }
      ]
    },
    {
      "cell_type": "code",
      "source": [
        "df_tco_therm_VAL = df_energie[df_energie['tco_therm'].isnull()==False].groupby(pd.Grouper(key = 'date', freq = 'Y')).agg({'date':'count'})\n",
        "df_tco_therm_VAL.head(24)"
      ],
      "metadata": {
        "colab": {
          "base_uri": "https://localhost:8080/",
          "height": 175
        },
        "id": "TCHWD5MgmCvL",
        "outputId": "87c6f463-d9fa-423e-9bd7-45325bc330b6"
      },
      "execution_count": 62,
      "outputs": [
        {
          "output_type": "execute_result",
          "data": {
            "text/plain": [
              "                             date\n",
              "date                             \n",
              "2019-12-31 00:00:00+00:00      24\n",
              "2020-12-31 00:00:00+00:00  210804\n",
              "2021-12-31 00:00:00+00:00  209664"
            ],
            "text/html": [
              "\n",
              "  <div id=\"df-32361675-cf69-4395-a278-5f9ada1bda99\">\n",
              "    <div class=\"colab-df-container\">\n",
              "      <div>\n",
              "<style scoped>\n",
              "    .dataframe tbody tr th:only-of-type {\n",
              "        vertical-align: middle;\n",
              "    }\n",
              "\n",
              "    .dataframe tbody tr th {\n",
              "        vertical-align: top;\n",
              "    }\n",
              "\n",
              "    .dataframe thead th {\n",
              "        text-align: right;\n",
              "    }\n",
              "</style>\n",
              "<table border=\"1\" class=\"dataframe\">\n",
              "  <thead>\n",
              "    <tr style=\"text-align: right;\">\n",
              "      <th></th>\n",
              "      <th>date</th>\n",
              "    </tr>\n",
              "    <tr>\n",
              "      <th>date</th>\n",
              "      <th></th>\n",
              "    </tr>\n",
              "  </thead>\n",
              "  <tbody>\n",
              "    <tr>\n",
              "      <th>2019-12-31 00:00:00+00:00</th>\n",
              "      <td>24</td>\n",
              "    </tr>\n",
              "    <tr>\n",
              "      <th>2020-12-31 00:00:00+00:00</th>\n",
              "      <td>210804</td>\n",
              "    </tr>\n",
              "    <tr>\n",
              "      <th>2021-12-31 00:00:00+00:00</th>\n",
              "      <td>209664</td>\n",
              "    </tr>\n",
              "  </tbody>\n",
              "</table>\n",
              "</div>\n",
              "      <button class=\"colab-df-convert\" onclick=\"convertToInteractive('df-32361675-cf69-4395-a278-5f9ada1bda99')\"\n",
              "              title=\"Convert this dataframe to an interactive table.\"\n",
              "              style=\"display:none;\">\n",
              "        \n",
              "  <svg xmlns=\"http://www.w3.org/2000/svg\" height=\"24px\"viewBox=\"0 0 24 24\"\n",
              "       width=\"24px\">\n",
              "    <path d=\"M0 0h24v24H0V0z\" fill=\"none\"/>\n",
              "    <path d=\"M18.56 5.44l.94 2.06.94-2.06 2.06-.94-2.06-.94-.94-2.06-.94 2.06-2.06.94zm-11 1L8.5 8.5l.94-2.06 2.06-.94-2.06-.94L8.5 2.5l-.94 2.06-2.06.94zm10 10l.94 2.06.94-2.06 2.06-.94-2.06-.94-.94-2.06-.94 2.06-2.06.94z\"/><path d=\"M17.41 7.96l-1.37-1.37c-.4-.4-.92-.59-1.43-.59-.52 0-1.04.2-1.43.59L10.3 9.45l-7.72 7.72c-.78.78-.78 2.05 0 2.83L4 21.41c.39.39.9.59 1.41.59.51 0 1.02-.2 1.41-.59l7.78-7.78 2.81-2.81c.8-.78.8-2.07 0-2.86zM5.41 20L4 18.59l7.72-7.72 1.47 1.35L5.41 20z\"/>\n",
              "  </svg>\n",
              "      </button>\n",
              "      \n",
              "  <style>\n",
              "    .colab-df-container {\n",
              "      display:flex;\n",
              "      flex-wrap:wrap;\n",
              "      gap: 12px;\n",
              "    }\n",
              "\n",
              "    .colab-df-convert {\n",
              "      background-color: #E8F0FE;\n",
              "      border: none;\n",
              "      border-radius: 50%;\n",
              "      cursor: pointer;\n",
              "      display: none;\n",
              "      fill: #1967D2;\n",
              "      height: 32px;\n",
              "      padding: 0 0 0 0;\n",
              "      width: 32px;\n",
              "    }\n",
              "\n",
              "    .colab-df-convert:hover {\n",
              "      background-color: #E2EBFA;\n",
              "      box-shadow: 0px 1px 2px rgba(60, 64, 67, 0.3), 0px 1px 3px 1px rgba(60, 64, 67, 0.15);\n",
              "      fill: #174EA6;\n",
              "    }\n",
              "\n",
              "    [theme=dark] .colab-df-convert {\n",
              "      background-color: #3B4455;\n",
              "      fill: #D2E3FC;\n",
              "    }\n",
              "\n",
              "    [theme=dark] .colab-df-convert:hover {\n",
              "      background-color: #434B5C;\n",
              "      box-shadow: 0px 1px 3px 1px rgba(0, 0, 0, 0.15);\n",
              "      filter: drop-shadow(0px 1px 2px rgba(0, 0, 0, 0.3));\n",
              "      fill: #FFFFFF;\n",
              "    }\n",
              "  </style>\n",
              "\n",
              "      <script>\n",
              "        const buttonEl =\n",
              "          document.querySelector('#df-32361675-cf69-4395-a278-5f9ada1bda99 button.colab-df-convert');\n",
              "        buttonEl.style.display =\n",
              "          google.colab.kernel.accessAllowed ? 'block' : 'none';\n",
              "\n",
              "        async function convertToInteractive(key) {\n",
              "          const element = document.querySelector('#df-32361675-cf69-4395-a278-5f9ada1bda99');\n",
              "          const dataTable =\n",
              "            await google.colab.kernel.invokeFunction('convertToInteractive',\n",
              "                                                     [key], {});\n",
              "          if (!dataTable) return;\n",
              "\n",
              "          const docLinkHtml = 'Like what you see? Visit the ' +\n",
              "            '<a target=\"_blank\" href=https://colab.research.google.com/notebooks/data_table.ipynb>data table notebook</a>'\n",
              "            + ' to learn more about interactive tables.';\n",
              "          element.innerHTML = '';\n",
              "          dataTable['output_type'] = 'display_data';\n",
              "          await google.colab.output.renderOutput(dataTable, element);\n",
              "          const docLink = document.createElement('div');\n",
              "          docLink.innerHTML = docLinkHtml;\n",
              "          element.appendChild(docLink);\n",
              "        }\n",
              "      </script>\n",
              "    </div>\n",
              "  </div>\n",
              "  "
            ]
          },
          "metadata": {},
          "execution_count": 62
        }
      ]
    },
    {
      "cell_type": "code",
      "source": [
        "df_tco_therm_VAL.index.min()"
      ],
      "metadata": {
        "colab": {
          "base_uri": "https://localhost:8080/"
        },
        "id": "zF9zKar3nsZL",
        "outputId": "f8b6c813-2e87-45c4-868b-ca031568cc4d"
      },
      "execution_count": 73,
      "outputs": [
        {
          "output_type": "execute_result",
          "data": {
            "text/plain": [
              "Timestamp('2019-12-31 00:00:00+0000', tz='UTC', freq='A-DEC')"
            ]
          },
          "metadata": {},
          "execution_count": 73
        }
      ]
    },
    {
      "cell_type": "code",
      "source": [
        "# Traitement des NANs:\n",
        "\n",
        "# Cas 5 : Remplacement par zéro\n",
        "list_fillzero=['tco_therm', 'tch_therm', 'tco_nuc', 'tch_nuc', 'tco_eol', 'tch_eol', 'tco_sol','tch_sol','tco_hydro','tch_hydro','tco_bio','tch_bio']\n",
        "\n",
        "for i in list_fillzero:\n",
        "    df_energie[i] = df_energie[i].fillna(0)"
      ],
      "metadata": {
        "id": "ncmo1U7nbEJg"
      },
      "execution_count": null,
      "outputs": []
    },
    {
      "cell_type": "code",
      "source": [
        "# Cas 4 : Remplacement par zéro\n",
        "list_fillzero=['prod_therm', 'prod_eol', 'prod_sol', 'prod_hydro', 'prod_bio']"
      ],
      "metadata": {
        "id": "a1aLCkCyo8DA"
      },
      "execution_count": null,
      "outputs": []
    },
    {
      "cell_type": "markdown",
      "source": [
        "### 1.3.5 Restructuration du DF"
      ],
      "metadata": {
        "id": "fW7ZcQ4Y-j-L"
      }
    },
    {
      "cell_type": "code",
      "execution_count": 12,
      "metadata": {
        "colab": {
          "base_uri": "https://localhost:8080/"
        },
        "id": "Wit8bVcNEqDO",
        "outputId": "e457fb7e-21bb-4118-f91a-e5a2961711a4"
      },
      "outputs": [
        {
          "output_type": "execute_result",
          "data": {
            "text/plain": [
              "region_nom           0\n",
              "nature               0\n",
              "date                 0\n",
              "conso_inter          0\n",
              "prod_therm           0\n",
              "prod_nuc        525815\n",
              "prod_eol             0\n",
              "prod_sol             0\n",
              "prod_hydro           0\n",
              "conso_hydro     525815\n",
              "prod_bio             0\n",
              "echanges             0\n",
              "tco_therm       841464\n",
              "tch_therm       841464\n",
              "tco_nuc        1016669\n",
              "tch_nuc        1016669\n",
              "tco_eol         841464\n",
              "tch_eol         841464\n",
              "tco_sol         841464\n",
              "tch_sol         841464\n",
              "tco_hydro       841464\n",
              "tch_hydro       841464\n",
              "tco_bio         841464\n",
              "tch_bio         841464\n",
              "dtype: int64"
            ]
          },
          "metadata": {},
          "execution_count": 12
        }
      ],
      "source": [
        "# Identification des NANs\n",
        "df_energie.isna().sum(axis = 0)"
      ]
    },
    {
      "cell_type": "code",
      "source": [
        "# Fusion du nouveau DF avec le DF Energie, avec un jointure gauche (donc sur le nouveau DF)\n",
        "df_energie = dateregion.merge(df_energie, \n",
        "                              how='left', \n",
        "                              left_on=['date', 'region_nom'], \n",
        "                              right_on=['date', 'region_nom'])\n",
        "\n",
        "df_energie['date'] = pd.to_datetime(df_energie['date'], utc=True)"
      ],
      "metadata": {
        "id": "_VNswzih_jbK"
      },
      "execution_count": 13,
      "outputs": []
    },
    {
      "cell_type": "code",
      "execution_count": 14,
      "metadata": {
        "colab": {
          "base_uri": "https://localhost:8080/"
        },
        "id": "2nV7etx1Wl97",
        "outputId": "eaa96032-1b21-4671-c2df-f664936b94ca"
      },
      "outputs": [
        {
          "output_type": "execute_result",
          "data": {
            "text/plain": [
              "date                0\n",
              "region_nom          0\n",
              "nature            168\n",
              "conso_inter       168\n",
              "prod_therm        168\n",
              "prod_nuc       420812\n",
              "prod_eol          168\n",
              "prod_sol          168\n",
              "prod_hydro        168\n",
              "conso_hydro    525973\n",
              "prod_bio          168\n",
              "echanges          168\n",
              "tco_therm      841632\n",
              "tch_therm      841632\n",
              "tco_nuc        981788\n",
              "tch_nuc        981788\n",
              "tco_eol        841632\n",
              "tch_eol        841632\n",
              "tco_sol        841632\n",
              "tch_sol        841632\n",
              "tco_hydro      841632\n",
              "tch_hydro      841632\n",
              "tco_bio        841632\n",
              "tch_bio        841632\n",
              "dtype: int64"
            ]
          },
          "metadata": {},
          "execution_count": 14
        }
      ],
      "source": [
        "df_energie.isna().sum(axis = 0)"
      ]
    },
    {
      "cell_type": "markdown",
      "metadata": {
        "id": "1W8jVNn65Up4"
      },
      "source": [
        "## 1.4 Preprocessing DataSet Meteo"
      ]
    },
    {
      "cell_type": "markdown",
      "metadata": {
        "id": "JZ_IWEvJFWMd"
      },
      "source": [
        "### 1.4.1 Chargement"
      ]
    },
    {
      "cell_type": "code",
      "execution_count": 15,
      "metadata": {
        "id": "bSoCQNAnFvAD"
      },
      "outputs": [],
      "source": [
        "df_meteo = pd.read_csv(filepath_or_buffer='/content/drive/MyDrive/DataScientest_Projet Net Elec/donnees-synop-essentielles-omm.csv', \n",
        "                 sep=';',\n",
        "                 parse_dates = {'date': ['Date'] })"
      ]
    },
    {
      "cell_type": "code",
      "execution_count": 16,
      "metadata": {
        "id": "5GJ8g-9Aa_dr",
        "colab": {
          "base_uri": "https://localhost:8080/",
          "height": 525
        },
        "outputId": "2917754e-519c-4e87-de88-8df08c443174"
      },
      "outputs": [
        {
          "output_type": "execute_result",
          "data": {
            "text/plain": [
              "                        date  ID OMM station  Pression au niveau mer  \\\n",
              "0  2010-01-05 10:00:00+01:00            7558                100280.0   \n",
              "1  2010-01-05 10:00:00+01:00           61976                100990.0   \n",
              "2  2010-01-05 13:00:00+01:00            7027                100720.0   \n",
              "3  2010-01-05 13:00:00+01:00            7110                100750.0   \n",
              "4  2010-01-05 13:00:00+01:00            7591                     NaN   \n",
              "\n",
              "   Variation de pression en 3 heures  Type de tendance barométrique  \\\n",
              "0                              -50.0                            5.0   \n",
              "1                                NaN                            NaN   \n",
              "2                             -190.0                            8.0   \n",
              "3                             -230.0                            8.0   \n",
              "4                                NaN                            NaN   \n",
              "\n",
              "   Direction du vent moyen 10 mn  Vitesse du vent moyen 10 mn  Température  \\\n",
              "0                          260.0                          1.5       275.75   \n",
              "1                            NaN                          NaN       305.45   \n",
              "2                          200.0                          3.6       273.65   \n",
              "3                          210.0                          4.1       276.95   \n",
              "4                            NaN                          NaN       274.45   \n",
              "\n",
              "   Point de rosée  Humidité  ...  Altitude  communes (name)  communes (code)  \\\n",
              "0          275.75     100.0  ...       712           Millau            12145   \n",
              "1          299.05      69.0  ...         7              NaN              NaN   \n",
              "2          271.75      87.0  ...        67        Carpiquet            14137   \n",
              "3          272.55      73.0  ...        94         Guipavas            29075   \n",
              "4          269.05      67.0  ...       871           Embrun            05046   \n",
              "\n",
              "                   EPCI (name)  EPCI (code)  department (name)  \\\n",
              "0  CC de Millau Grands Causses  241200567.0            Aveyron   \n",
              "1                          NaN          NaN                NaN   \n",
              "2               CU Caen la Mer  200065597.0           Calvados   \n",
              "3              Brest Métropole  242900314.0          Finistère   \n",
              "4              CC Serre-Ponçon  200067742.0       Hautes-Alpes   \n",
              "\n",
              "   department (code)               region (name)  region (code)  \\\n",
              "0                 12                   Occitanie           76.0   \n",
              "1                NaN                         NaN            NaN   \n",
              "2                 14                   Normandie           28.0   \n",
              "3                 29                    Bretagne           53.0   \n",
              "4                 05  Provence-Alpes-Côte d'Azur           93.0   \n",
              "\n",
              "   mois_de_l_annee  \n",
              "0                1  \n",
              "1                1  \n",
              "2                1  \n",
              "3                1  \n",
              "4                1  \n",
              "\n",
              "[5 rows x 82 columns]"
            ],
            "text/html": [
              "\n",
              "  <div id=\"df-95397395-40c6-4ca0-98e8-3b14afe26f73\">\n",
              "    <div class=\"colab-df-container\">\n",
              "      <div>\n",
              "<style scoped>\n",
              "    .dataframe tbody tr th:only-of-type {\n",
              "        vertical-align: middle;\n",
              "    }\n",
              "\n",
              "    .dataframe tbody tr th {\n",
              "        vertical-align: top;\n",
              "    }\n",
              "\n",
              "    .dataframe thead th {\n",
              "        text-align: right;\n",
              "    }\n",
              "</style>\n",
              "<table border=\"1\" class=\"dataframe\">\n",
              "  <thead>\n",
              "    <tr style=\"text-align: right;\">\n",
              "      <th></th>\n",
              "      <th>date</th>\n",
              "      <th>ID OMM station</th>\n",
              "      <th>Pression au niveau mer</th>\n",
              "      <th>Variation de pression en 3 heures</th>\n",
              "      <th>Type de tendance barométrique</th>\n",
              "      <th>Direction du vent moyen 10 mn</th>\n",
              "      <th>Vitesse du vent moyen 10 mn</th>\n",
              "      <th>Température</th>\n",
              "      <th>Point de rosée</th>\n",
              "      <th>Humidité</th>\n",
              "      <th>...</th>\n",
              "      <th>Altitude</th>\n",
              "      <th>communes (name)</th>\n",
              "      <th>communes (code)</th>\n",
              "      <th>EPCI (name)</th>\n",
              "      <th>EPCI (code)</th>\n",
              "      <th>department (name)</th>\n",
              "      <th>department (code)</th>\n",
              "      <th>region (name)</th>\n",
              "      <th>region (code)</th>\n",
              "      <th>mois_de_l_annee</th>\n",
              "    </tr>\n",
              "  </thead>\n",
              "  <tbody>\n",
              "    <tr>\n",
              "      <th>0</th>\n",
              "      <td>2010-01-05 10:00:00+01:00</td>\n",
              "      <td>7558</td>\n",
              "      <td>100280.0</td>\n",
              "      <td>-50.0</td>\n",
              "      <td>5.0</td>\n",
              "      <td>260.0</td>\n",
              "      <td>1.5</td>\n",
              "      <td>275.75</td>\n",
              "      <td>275.75</td>\n",
              "      <td>100.0</td>\n",
              "      <td>...</td>\n",
              "      <td>712</td>\n",
              "      <td>Millau</td>\n",
              "      <td>12145</td>\n",
              "      <td>CC de Millau Grands Causses</td>\n",
              "      <td>241200567.0</td>\n",
              "      <td>Aveyron</td>\n",
              "      <td>12</td>\n",
              "      <td>Occitanie</td>\n",
              "      <td>76.0</td>\n",
              "      <td>1</td>\n",
              "    </tr>\n",
              "    <tr>\n",
              "      <th>1</th>\n",
              "      <td>2010-01-05 10:00:00+01:00</td>\n",
              "      <td>61976</td>\n",
              "      <td>100990.0</td>\n",
              "      <td>NaN</td>\n",
              "      <td>NaN</td>\n",
              "      <td>NaN</td>\n",
              "      <td>NaN</td>\n",
              "      <td>305.45</td>\n",
              "      <td>299.05</td>\n",
              "      <td>69.0</td>\n",
              "      <td>...</td>\n",
              "      <td>7</td>\n",
              "      <td>NaN</td>\n",
              "      <td>NaN</td>\n",
              "      <td>NaN</td>\n",
              "      <td>NaN</td>\n",
              "      <td>NaN</td>\n",
              "      <td>NaN</td>\n",
              "      <td>NaN</td>\n",
              "      <td>NaN</td>\n",
              "      <td>1</td>\n",
              "    </tr>\n",
              "    <tr>\n",
              "      <th>2</th>\n",
              "      <td>2010-01-05 13:00:00+01:00</td>\n",
              "      <td>7027</td>\n",
              "      <td>100720.0</td>\n",
              "      <td>-190.0</td>\n",
              "      <td>8.0</td>\n",
              "      <td>200.0</td>\n",
              "      <td>3.6</td>\n",
              "      <td>273.65</td>\n",
              "      <td>271.75</td>\n",
              "      <td>87.0</td>\n",
              "      <td>...</td>\n",
              "      <td>67</td>\n",
              "      <td>Carpiquet</td>\n",
              "      <td>14137</td>\n",
              "      <td>CU Caen la Mer</td>\n",
              "      <td>200065597.0</td>\n",
              "      <td>Calvados</td>\n",
              "      <td>14</td>\n",
              "      <td>Normandie</td>\n",
              "      <td>28.0</td>\n",
              "      <td>1</td>\n",
              "    </tr>\n",
              "    <tr>\n",
              "      <th>3</th>\n",
              "      <td>2010-01-05 13:00:00+01:00</td>\n",
              "      <td>7110</td>\n",
              "      <td>100750.0</td>\n",
              "      <td>-230.0</td>\n",
              "      <td>8.0</td>\n",
              "      <td>210.0</td>\n",
              "      <td>4.1</td>\n",
              "      <td>276.95</td>\n",
              "      <td>272.55</td>\n",
              "      <td>73.0</td>\n",
              "      <td>...</td>\n",
              "      <td>94</td>\n",
              "      <td>Guipavas</td>\n",
              "      <td>29075</td>\n",
              "      <td>Brest Métropole</td>\n",
              "      <td>242900314.0</td>\n",
              "      <td>Finistère</td>\n",
              "      <td>29</td>\n",
              "      <td>Bretagne</td>\n",
              "      <td>53.0</td>\n",
              "      <td>1</td>\n",
              "    </tr>\n",
              "    <tr>\n",
              "      <th>4</th>\n",
              "      <td>2010-01-05 13:00:00+01:00</td>\n",
              "      <td>7591</td>\n",
              "      <td>NaN</td>\n",
              "      <td>NaN</td>\n",
              "      <td>NaN</td>\n",
              "      <td>NaN</td>\n",
              "      <td>NaN</td>\n",
              "      <td>274.45</td>\n",
              "      <td>269.05</td>\n",
              "      <td>67.0</td>\n",
              "      <td>...</td>\n",
              "      <td>871</td>\n",
              "      <td>Embrun</td>\n",
              "      <td>05046</td>\n",
              "      <td>CC Serre-Ponçon</td>\n",
              "      <td>200067742.0</td>\n",
              "      <td>Hautes-Alpes</td>\n",
              "      <td>05</td>\n",
              "      <td>Provence-Alpes-Côte d'Azur</td>\n",
              "      <td>93.0</td>\n",
              "      <td>1</td>\n",
              "    </tr>\n",
              "  </tbody>\n",
              "</table>\n",
              "<p>5 rows × 82 columns</p>\n",
              "</div>\n",
              "      <button class=\"colab-df-convert\" onclick=\"convertToInteractive('df-95397395-40c6-4ca0-98e8-3b14afe26f73')\"\n",
              "              title=\"Convert this dataframe to an interactive table.\"\n",
              "              style=\"display:none;\">\n",
              "        \n",
              "  <svg xmlns=\"http://www.w3.org/2000/svg\" height=\"24px\"viewBox=\"0 0 24 24\"\n",
              "       width=\"24px\">\n",
              "    <path d=\"M0 0h24v24H0V0z\" fill=\"none\"/>\n",
              "    <path d=\"M18.56 5.44l.94 2.06.94-2.06 2.06-.94-2.06-.94-.94-2.06-.94 2.06-2.06.94zm-11 1L8.5 8.5l.94-2.06 2.06-.94-2.06-.94L8.5 2.5l-.94 2.06-2.06.94zm10 10l.94 2.06.94-2.06 2.06-.94-2.06-.94-.94-2.06-.94 2.06-2.06.94z\"/><path d=\"M17.41 7.96l-1.37-1.37c-.4-.4-.92-.59-1.43-.59-.52 0-1.04.2-1.43.59L10.3 9.45l-7.72 7.72c-.78.78-.78 2.05 0 2.83L4 21.41c.39.39.9.59 1.41.59.51 0 1.02-.2 1.41-.59l7.78-7.78 2.81-2.81c.8-.78.8-2.07 0-2.86zM5.41 20L4 18.59l7.72-7.72 1.47 1.35L5.41 20z\"/>\n",
              "  </svg>\n",
              "      </button>\n",
              "      \n",
              "  <style>\n",
              "    .colab-df-container {\n",
              "      display:flex;\n",
              "      flex-wrap:wrap;\n",
              "      gap: 12px;\n",
              "    }\n",
              "\n",
              "    .colab-df-convert {\n",
              "      background-color: #E8F0FE;\n",
              "      border: none;\n",
              "      border-radius: 50%;\n",
              "      cursor: pointer;\n",
              "      display: none;\n",
              "      fill: #1967D2;\n",
              "      height: 32px;\n",
              "      padding: 0 0 0 0;\n",
              "      width: 32px;\n",
              "    }\n",
              "\n",
              "    .colab-df-convert:hover {\n",
              "      background-color: #E2EBFA;\n",
              "      box-shadow: 0px 1px 2px rgba(60, 64, 67, 0.3), 0px 1px 3px 1px rgba(60, 64, 67, 0.15);\n",
              "      fill: #174EA6;\n",
              "    }\n",
              "\n",
              "    [theme=dark] .colab-df-convert {\n",
              "      background-color: #3B4455;\n",
              "      fill: #D2E3FC;\n",
              "    }\n",
              "\n",
              "    [theme=dark] .colab-df-convert:hover {\n",
              "      background-color: #434B5C;\n",
              "      box-shadow: 0px 1px 3px 1px rgba(0, 0, 0, 0.15);\n",
              "      filter: drop-shadow(0px 1px 2px rgba(0, 0, 0, 0.3));\n",
              "      fill: #FFFFFF;\n",
              "    }\n",
              "  </style>\n",
              "\n",
              "      <script>\n",
              "        const buttonEl =\n",
              "          document.querySelector('#df-95397395-40c6-4ca0-98e8-3b14afe26f73 button.colab-df-convert');\n",
              "        buttonEl.style.display =\n",
              "          google.colab.kernel.accessAllowed ? 'block' : 'none';\n",
              "\n",
              "        async function convertToInteractive(key) {\n",
              "          const element = document.querySelector('#df-95397395-40c6-4ca0-98e8-3b14afe26f73');\n",
              "          const dataTable =\n",
              "            await google.colab.kernel.invokeFunction('convertToInteractive',\n",
              "                                                     [key], {});\n",
              "          if (!dataTable) return;\n",
              "\n",
              "          const docLinkHtml = 'Like what you see? Visit the ' +\n",
              "            '<a target=\"_blank\" href=https://colab.research.google.com/notebooks/data_table.ipynb>data table notebook</a>'\n",
              "            + ' to learn more about interactive tables.';\n",
              "          element.innerHTML = '';\n",
              "          dataTable['output_type'] = 'display_data';\n",
              "          await google.colab.output.renderOutput(dataTable, element);\n",
              "          const docLink = document.createElement('div');\n",
              "          docLink.innerHTML = docLinkHtml;\n",
              "          element.appendChild(docLink);\n",
              "        }\n",
              "      </script>\n",
              "    </div>\n",
              "  </div>\n",
              "  "
            ]
          },
          "metadata": {},
          "execution_count": 16
        }
      ],
      "source": [
        " df_meteo.head(5)"
      ]
    },
    {
      "cell_type": "markdown",
      "source": [
        "### 1.4.2 Info sur des doublons"
      ],
      "metadata": {
        "id": "txscqeHUIW72"
      }
    },
    {
      "cell_type": "code",
      "source": [
        "df_meteo.duplicated().sum()\n",
        "\n",
        "# Il n'y à pas de doublons dans la base météo"
      ],
      "metadata": {
        "colab": {
          "base_uri": "https://localhost:8080/"
        },
        "id": "Efchgt1RInZZ",
        "outputId": "b9489028-f118-427d-f259-ed2a0f1d437e"
      },
      "execution_count": 17,
      "outputs": [
        {
          "output_type": "execute_result",
          "data": {
            "text/plain": [
              "0"
            ]
          },
          "metadata": {},
          "execution_count": 17
        }
      ]
    },
    {
      "cell_type": "markdown",
      "metadata": {
        "id": "__Vax_duFbyE"
      },
      "source": [
        "### 1.4.2 Filtrage"
      ]
    },
    {
      "cell_type": "code",
      "execution_count": 18,
      "metadata": {
        "id": "l6gzLPJuFz9i"
      },
      "outputs": [],
      "source": [
        "# Suppression des colonnes inutiles\n",
        "\n",
        "List_cols = {'Pression au niveau mer',\n",
        "             'Variation de pression en 3 heures', \n",
        "             'Type de tendance barométrique',\n",
        "             'Direction du vent moyen 10 mn', \n",
        "             'Point de rosée', \n",
        "             'Humidité', \n",
        "             'Visibilité horizontale',\n",
        "             'Temps présent', \n",
        "             'Temps passé 1', \n",
        "             'Temps passé 2', \n",
        "             \"Nébulosité  des nuages de l' étage inférieur\",\n",
        "             \"Hauteur de la base des nuages de l'étage inférieur\",\n",
        "             \"Type des nuages de l'étage inférieur\",\n",
        "             \"Type des nuages de l'étage moyen\",\n",
        "             \"Type des nuages de l'étage supérieur\", \n",
        "             'Pression station',\n",
        "             'Niveau barométrique', \n",
        "             'Géopotentiel',\n",
        "             'Variation de pression en 24 heures',\n",
        "             'Température minimale sur 12 heures',\n",
        "             'Température minimale sur 24 heures',\n",
        "             'Température maximale sur 12 heures',\n",
        "             'Température maximale sur 24 heures',\n",
        "             'Température minimale du sol sur 12 heures',\n",
        "             'Méthode de mesure Température du thermomètre mouillé',\n",
        "             'Température du thermomètre mouillé',\n",
        "             'Rafale sur les 10 dernières minutes', \n",
        "             'Rafales sur une période',\n",
        "             'Periode de mesure de la rafale', \n",
        "             'Etat du sol',\n",
        "             'Hauteur totale de la couche de neige, glace, autre au sol',\n",
        "             'Hauteur de la neige fraîche', \n",
        "             'Periode de mesure de la neige fraiche',\n",
        "             'Précipitations dans la dernière heure',\n",
        "             'Précipitations dans les 3 dernières heures',\n",
        "             'Précipitations dans les 6 dernières heures',\n",
        "             'Précipitations dans les 12 dernières heures',\n",
        "             'Précipitations dans les 24 dernières heures', \n",
        "             'Phénomène spécial 1',\n",
        "             'Phénomène spécial 2', \n",
        "             'Phénomène spécial 3', \n",
        "             'Phénomène spécial 4',\n",
        "             'Nébulosité couche nuageuse 1', \n",
        "             'Type nuage 1', \n",
        "             'Hauteur de base 1',\n",
        "             'Nébulosité couche nuageuse 2', \n",
        "             'Type nuage 2', \n",
        "             'Hauteur de base 2',\n",
        "             'Nébulosité couche nuageuse 3', \n",
        "             'Type nuage 3', \n",
        "             'Hauteur de base 3',\n",
        "             'Nébulosité couche nuageuse 4', \n",
        "             'Type nuage 4', \n",
        "             'Hauteur de base 4',\n",
        "             'Coordonnees', \n",
        "             'Nom', \n",
        "             'Type de tendance barométrique.1',\n",
        "             'Temps passé 1.1', \n",
        "             'Temps présent.1', \n",
        "             'Température (°C)',\n",
        "             'Température minimale sur 12 heures (°C)',\n",
        "             'Température minimale sur 24 heures (°C)',\n",
        "             'Température maximale sur 12 heures (°C)',\n",
        "             'Température maximale sur 24 heures (°C)',\n",
        "             'Température minimale du sol sur 12 heures (en °C)', 'Latitude',\n",
        "             'Longitude', \n",
        "             'Altitude', \n",
        "             'communes (name)', \n",
        "             'communes (code)',\n",
        "             'EPCI (name)', \n",
        "             'EPCI (code)', \n",
        "             'department (name)', \n",
        "             'department (code)',\n",
        "             'region (code)',\n",
        "             'mois_de_l_annee'\n",
        "            }\n",
        "\n",
        "df_meteo = df_meteo.drop(List_cols, axis=1)"
      ]
    },
    {
      "cell_type": "code",
      "execution_count": null,
      "metadata": {
        "id": "A2PV93uUbbkc"
      },
      "outputs": [],
      "source": [
        "# Identification des région à supprimer\n",
        "# df_meteo['region (name)'].unique()"
      ]
    },
    {
      "cell_type": "code",
      "execution_count": 19,
      "metadata": {
        "id": "2-hifAIfGddH",
        "colab": {
          "base_uri": "https://localhost:8080/"
        },
        "outputId": "007f409e-5c02-4015-dc96-42e094610169"
      },
      "outputs": [
        {
          "output_type": "execute_result",
          "data": {
            "text/plain": [
              "array(['Occitanie', nan, 'Normandie', 'Bretagne',\n",
              "       \"Provence-Alpes-Côte d'Azur\", 'Hauts-de-France', 'Île-de-France',\n",
              "       'Grand Est', 'Nouvelle-Aquitaine', 'Bourgogne-Franche-Comté',\n",
              "       'Pays de la Loire', 'Auvergne-Rhône-Alpes', 'Centre-Val de Loire'],\n",
              "      dtype=object)"
            ]
          },
          "metadata": {},
          "execution_count": 19
        }
      ],
      "source": [
        "# Suppression des région qui sont en dehors du dataset energie\n",
        "region_to_drop = ['Martinique',\n",
        "                  'Guyane',\n",
        "                  'La Réunion',\n",
        "                  'Guadeloupe',\n",
        "                  'Mayotte',\n",
        "                  'Terres australes et antarctiques françaises',\n",
        "                  'Saint-Pierre-et-Miquelon',\n",
        "                  'Saint-Barthélemy',\n",
        "                   'Corse'\n",
        "                 ]\n",
        "\n",
        "for j in region_to_drop:\n",
        "    df_meteo = df_meteo[df_meteo['region (name)'] != j]\n",
        "\n",
        "df_meteo['region (name)'].unique()"
      ]
    },
    {
      "cell_type": "code",
      "execution_count": 20,
      "metadata": {
        "id": "bL6ux2uFeRSY"
      },
      "outputs": [],
      "source": [
        "# Filtrage temporel\n",
        "\n",
        "# Conversion du type pour le champs date\n",
        "df_meteo['date'] = pd.to_datetime(df_meteo['date'], utc=True)\n",
        "#df_meteo['date'] = df_meteo['date'].tz_convert('Europe/Paris')\n",
        "\n",
        "# Limites temporelles haute et basse\n",
        "df_meteo = df_meteo[(df_meteo['date'] >= Date_debut) & (df_meteo['date'] <= Date_fin)]"
      ]
    },
    {
      "cell_type": "markdown",
      "metadata": {
        "id": "h3uEEZPIF6HV"
      },
      "source": [
        "### 1.4.3 Standardisation"
      ]
    },
    {
      "cell_type": "code",
      "execution_count": 21,
      "metadata": {
        "colab": {
          "base_uri": "https://localhost:8080/"
        },
        "id": "q8RU61RWGDHf",
        "outputId": "5e65780b-d83a-43c2-aad0-c7959ad340cb"
      },
      "outputs": [
        {
          "output_type": "execute_result",
          "data": {
            "text/plain": [
              "Index(['date', 'Station', 'vitesse_vent', 'temperature', 'nebulosite',\n",
              "       'region_nom'],\n",
              "      dtype='object')"
            ]
          },
          "metadata": {},
          "execution_count": 21
        }
      ],
      "source": [
        "# Les variables sont renommées pour plus d'homogénéité avec le 1er DataFrame\n",
        "\n",
        "Dic_Noms_meteo = {'Date'             : 'date',\n",
        "                 'ID OMM station'    : 'Station',\n",
        "                 'Température'       : 'temperature',\n",
        "                 'region (name)'     : 'region_nom', \n",
        "                 'Vitesse du vent moyen 10 mn': 'vitesse_vent',\n",
        "                 'Nebulosité totale' : 'nebulosite'\n",
        "                }\n",
        "    \n",
        "df_meteo = df_meteo.rename(Dic_Noms_meteo, axis=1)\n",
        "df_meteo.columns"
      ]
    },
    {
      "cell_type": "code",
      "execution_count": 22,
      "metadata": {
        "id": "De8JcFETGGUz"
      },
      "outputs": [],
      "source": [
        "# Temperature : conversion degrès Kevin => degrès Celsius\n",
        "df_meteo['temperature'] = df_meteo['temperature'] - 273.15"
      ]
    },
    {
      "cell_type": "code",
      "execution_count": 23,
      "metadata": {
        "id": "QT6B5xc_G3Hn"
      },
      "outputs": [],
      "source": [
        "# Standardisation des noms des régions\n",
        "dico_df_meteo = {'Occitanie'           :'Occitanie',\n",
        "                 'Normandie'           :'Normandie', \n",
        "                 'Bretagne'            :'Bretagne',\n",
        "                 \"Provence-Alpes-Côte d'Azur\":\"Provence-Alpes-Côte d'Azur\", \n",
        "                 'Hauts-de-France'     :'Hauts-de-France', \n",
        "                 'Île-de-France'       :'Île-de-France',\n",
        "                 'Grand Est'           :'Grand Est', \n",
        "                 'Nouvelle-Aquitaine'  :'Nouvelle-Aquitaine',\n",
        "                 'Bourgogne-Franche-Comté':'Bourgogne-Franche-Comté', \n",
        "                 'Pays de la Loire'    :'Centre-Val de Loire',\n",
        "                 'Auvergne-Rhône-Alpes':'Auvergne-Rhône-Alpes', \n",
        "                 'Centre-Val de Loire' :'Centre-Val de Loire'}\n",
        "\n",
        "df_meteo = df_meteo.rename(dico_df_meteo, axis = 1)"
      ]
    },
    {
      "cell_type": "markdown",
      "metadata": {
        "id": "yogcakFiFgZq"
      },
      "source": [
        "### 1.4.4 Complétude"
      ]
    },
    {
      "cell_type": "markdown",
      "metadata": {
        "id": "v0zJoyABdRxG"
      },
      "source": [
        "#### **Region NAN**"
      ]
    },
    {
      "cell_type": "code",
      "execution_count": 24,
      "metadata": {
        "id": "9EtCL2PIGsLb",
        "colab": {
          "base_uri": "https://localhost:8080/",
          "height": 206
        },
        "outputId": "a285e432-8328-44b5-93dd-9083afa2e779"
      },
      "outputs": [
        {
          "output_type": "execute_result",
          "data": {
            "text/plain": [
              "                           date  Station  vitesse_vent  temperature  \\\n",
              "25517 2016-03-30 09:00:00+00:00    61976           5.4         30.4   \n",
              "25518 2016-03-30 09:00:00+00:00    61998           0.5         13.7   \n",
              "25529 2016-03-30 21:00:00+00:00    71805          11.4          0.4   \n",
              "25535 2016-03-31 06:00:00+00:00    61998          12.9         10.6   \n",
              "25536 2016-03-31 06:00:00+00:00    71805           6.2          0.7   \n",
              "\n",
              "       nebulosite region_nom  \n",
              "25517         NaN        NaN  \n",
              "25518         0.0        NaN  \n",
              "25529         0.0        NaN  \n",
              "25535        90.0        NaN  \n",
              "25536       100.0        NaN  "
            ],
            "text/html": [
              "\n",
              "  <div id=\"df-42caf3ef-b6db-46dd-92c5-5a447d05d593\">\n",
              "    <div class=\"colab-df-container\">\n",
              "      <div>\n",
              "<style scoped>\n",
              "    .dataframe tbody tr th:only-of-type {\n",
              "        vertical-align: middle;\n",
              "    }\n",
              "\n",
              "    .dataframe tbody tr th {\n",
              "        vertical-align: top;\n",
              "    }\n",
              "\n",
              "    .dataframe thead th {\n",
              "        text-align: right;\n",
              "    }\n",
              "</style>\n",
              "<table border=\"1\" class=\"dataframe\">\n",
              "  <thead>\n",
              "    <tr style=\"text-align: right;\">\n",
              "      <th></th>\n",
              "      <th>date</th>\n",
              "      <th>Station</th>\n",
              "      <th>vitesse_vent</th>\n",
              "      <th>temperature</th>\n",
              "      <th>nebulosite</th>\n",
              "      <th>region_nom</th>\n",
              "    </tr>\n",
              "  </thead>\n",
              "  <tbody>\n",
              "    <tr>\n",
              "      <th>25517</th>\n",
              "      <td>2016-03-30 09:00:00+00:00</td>\n",
              "      <td>61976</td>\n",
              "      <td>5.4</td>\n",
              "      <td>30.4</td>\n",
              "      <td>NaN</td>\n",
              "      <td>NaN</td>\n",
              "    </tr>\n",
              "    <tr>\n",
              "      <th>25518</th>\n",
              "      <td>2016-03-30 09:00:00+00:00</td>\n",
              "      <td>61998</td>\n",
              "      <td>0.5</td>\n",
              "      <td>13.7</td>\n",
              "      <td>0.0</td>\n",
              "      <td>NaN</td>\n",
              "    </tr>\n",
              "    <tr>\n",
              "      <th>25529</th>\n",
              "      <td>2016-03-30 21:00:00+00:00</td>\n",
              "      <td>71805</td>\n",
              "      <td>11.4</td>\n",
              "      <td>0.4</td>\n",
              "      <td>0.0</td>\n",
              "      <td>NaN</td>\n",
              "    </tr>\n",
              "    <tr>\n",
              "      <th>25535</th>\n",
              "      <td>2016-03-31 06:00:00+00:00</td>\n",
              "      <td>61998</td>\n",
              "      <td>12.9</td>\n",
              "      <td>10.6</td>\n",
              "      <td>90.0</td>\n",
              "      <td>NaN</td>\n",
              "    </tr>\n",
              "    <tr>\n",
              "      <th>25536</th>\n",
              "      <td>2016-03-31 06:00:00+00:00</td>\n",
              "      <td>71805</td>\n",
              "      <td>6.2</td>\n",
              "      <td>0.7</td>\n",
              "      <td>100.0</td>\n",
              "      <td>NaN</td>\n",
              "    </tr>\n",
              "  </tbody>\n",
              "</table>\n",
              "</div>\n",
              "      <button class=\"colab-df-convert\" onclick=\"convertToInteractive('df-42caf3ef-b6db-46dd-92c5-5a447d05d593')\"\n",
              "              title=\"Convert this dataframe to an interactive table.\"\n",
              "              style=\"display:none;\">\n",
              "        \n",
              "  <svg xmlns=\"http://www.w3.org/2000/svg\" height=\"24px\"viewBox=\"0 0 24 24\"\n",
              "       width=\"24px\">\n",
              "    <path d=\"M0 0h24v24H0V0z\" fill=\"none\"/>\n",
              "    <path d=\"M18.56 5.44l.94 2.06.94-2.06 2.06-.94-2.06-.94-.94-2.06-.94 2.06-2.06.94zm-11 1L8.5 8.5l.94-2.06 2.06-.94-2.06-.94L8.5 2.5l-.94 2.06-2.06.94zm10 10l.94 2.06.94-2.06 2.06-.94-2.06-.94-.94-2.06-.94 2.06-2.06.94z\"/><path d=\"M17.41 7.96l-1.37-1.37c-.4-.4-.92-.59-1.43-.59-.52 0-1.04.2-1.43.59L10.3 9.45l-7.72 7.72c-.78.78-.78 2.05 0 2.83L4 21.41c.39.39.9.59 1.41.59.51 0 1.02-.2 1.41-.59l7.78-7.78 2.81-2.81c.8-.78.8-2.07 0-2.86zM5.41 20L4 18.59l7.72-7.72 1.47 1.35L5.41 20z\"/>\n",
              "  </svg>\n",
              "      </button>\n",
              "      \n",
              "  <style>\n",
              "    .colab-df-container {\n",
              "      display:flex;\n",
              "      flex-wrap:wrap;\n",
              "      gap: 12px;\n",
              "    }\n",
              "\n",
              "    .colab-df-convert {\n",
              "      background-color: #E8F0FE;\n",
              "      border: none;\n",
              "      border-radius: 50%;\n",
              "      cursor: pointer;\n",
              "      display: none;\n",
              "      fill: #1967D2;\n",
              "      height: 32px;\n",
              "      padding: 0 0 0 0;\n",
              "      width: 32px;\n",
              "    }\n",
              "\n",
              "    .colab-df-convert:hover {\n",
              "      background-color: #E2EBFA;\n",
              "      box-shadow: 0px 1px 2px rgba(60, 64, 67, 0.3), 0px 1px 3px 1px rgba(60, 64, 67, 0.15);\n",
              "      fill: #174EA6;\n",
              "    }\n",
              "\n",
              "    [theme=dark] .colab-df-convert {\n",
              "      background-color: #3B4455;\n",
              "      fill: #D2E3FC;\n",
              "    }\n",
              "\n",
              "    [theme=dark] .colab-df-convert:hover {\n",
              "      background-color: #434B5C;\n",
              "      box-shadow: 0px 1px 3px 1px rgba(0, 0, 0, 0.15);\n",
              "      filter: drop-shadow(0px 1px 2px rgba(0, 0, 0, 0.3));\n",
              "      fill: #FFFFFF;\n",
              "    }\n",
              "  </style>\n",
              "\n",
              "      <script>\n",
              "        const buttonEl =\n",
              "          document.querySelector('#df-42caf3ef-b6db-46dd-92c5-5a447d05d593 button.colab-df-convert');\n",
              "        buttonEl.style.display =\n",
              "          google.colab.kernel.accessAllowed ? 'block' : 'none';\n",
              "\n",
              "        async function convertToInteractive(key) {\n",
              "          const element = document.querySelector('#df-42caf3ef-b6db-46dd-92c5-5a447d05d593');\n",
              "          const dataTable =\n",
              "            await google.colab.kernel.invokeFunction('convertToInteractive',\n",
              "                                                     [key], {});\n",
              "          if (!dataTable) return;\n",
              "\n",
              "          const docLinkHtml = 'Like what you see? Visit the ' +\n",
              "            '<a target=\"_blank\" href=https://colab.research.google.com/notebooks/data_table.ipynb>data table notebook</a>'\n",
              "            + ' to learn more about interactive tables.';\n",
              "          element.innerHTML = '';\n",
              "          dataTable['output_type'] = 'display_data';\n",
              "          await google.colab.output.renderOutput(dataTable, element);\n",
              "          const docLink = document.createElement('div');\n",
              "          docLink.innerHTML = docLinkHtml;\n",
              "          element.appendChild(docLink);\n",
              "        }\n",
              "      </script>\n",
              "    </div>\n",
              "  </div>\n",
              "  "
            ]
          },
          "metadata": {},
          "execution_count": 24
        }
      ],
      "source": [
        "# Correction de la région 'nan'\n",
        "df_meteo[df_meteo['region_nom'].isna()==True].head(5)"
      ]
    },
    {
      "cell_type": "code",
      "execution_count": 25,
      "metadata": {
        "id": "Qt-J8RFMGvwT"
      },
      "outputs": [],
      "source": [
        "# suppression de la région NAN\n",
        "df_meteo.dropna(subset = ['region_nom'], axis=0, inplace = True)"
      ]
    },
    {
      "cell_type": "markdown",
      "source": [
        "#### Autres NANs"
      ],
      "metadata": {
        "id": "yCOV2McrpexR"
      }
    },
    {
      "cell_type": "code",
      "source": [
        "# Visualisation des NANs\n",
        "msno.matrix(df_meteo);"
      ],
      "metadata": {
        "colab": {
          "base_uri": "https://localhost:8080/",
          "height": 695
        },
        "id": "_cBkt8y_REti",
        "outputId": "99e7ae0d-a100-4e9b-c29b-40f967691820"
      },
      "execution_count": 26,
      "outputs": [
        {
          "output_type": "execute_result",
          "data": {
            "text/plain": [
              "<matplotlib.axes._subplots.AxesSubplot at 0x7fab28d53ed0>"
            ]
          },
          "metadata": {},
          "execution_count": 26
        },
        {
          "output_type": "display_data",
          "data": {
            "text/plain": [
              "<Figure size 1800x720 with 2 Axes>"
            ],
            "image/png": "[encoded data removed]"
          },
          "metadata": {
            "needs_background": "light"
          }
        }
      ]
    },
    {
      "cell_type": "code",
      "source": [
        "msno.heatmap(df_meteo);"
      ],
      "metadata": {
        "colab": {
          "base_uri": "https://localhost:8080/",
          "height": 777
        },
        "id": "gKSIyM3vRjdb",
        "outputId": "a2375731-34a3-4e4a-c8ca-66c09ab38283"
      },
      "execution_count": 28,
      "outputs": [
        {
          "output_type": "display_data",
          "data": {
            "text/plain": [
              "<Figure size 1440x864 with 2 Axes>"
            ],
            "image/png": "[encoded data removed]"
          },
          "metadata": {
            "needs_background": "light"
          }
        }
      ]
    },
    {
      "cell_type": "markdown",
      "source": [
        "### 1.4.5 Restructuration du DF météo"
      ],
      "metadata": {
        "id": "7TdT7jMXB3k2"
      }
    },
    {
      "cell_type": "code",
      "source": [
        "df_meteo.isna().sum(axis = 0)"
      ],
      "metadata": {
        "colab": {
          "base_uri": "https://localhost:8080/"
        },
        "id": "U6MEIZXUCTQ8",
        "outputId": "17469a38-670e-422d-f9f8-47f604c4074f"
      },
      "execution_count": 29,
      "outputs": [
        {
          "output_type": "execute_result",
          "data": {
            "text/plain": [
              "date                 0\n",
              "Station              0\n",
              "vitesse_vent      2115\n",
              "temperature       6484\n",
              "nebulosite      328055\n",
              "region_nom           0\n",
              "dtype: int64"
            ]
          },
          "metadata": {},
          "execution_count": 29
        }
      ]
    },
    {
      "cell_type": "code",
      "source": [
        "len(df_meteo['date'])"
      ],
      "metadata": {
        "colab": {
          "base_uri": "https://localhost:8080/"
        },
        "id": "r62_m0O5PAfL",
        "outputId": "bd0ae043-f00d-48ec-e2d8-a30dc0aa499f"
      },
      "execution_count": 30,
      "outputs": [
        {
          "output_type": "execute_result",
          "data": {
            "text/plain": [
              "695049"
            ]
          },
          "metadata": {},
          "execution_count": 30
        }
      ]
    },
    {
      "cell_type": "code",
      "source": [
        "# Group by en conservant le niveau de détail des stations\n",
        "df_meteo = df_meteo.groupby( ['date','region_nom','Station']).agg({\n",
        "    'vitesse_vent' : 'mean', \n",
        "    'temperature'  : 'mean', \n",
        "    'nebulosite'   : 'mean' \n",
        "})\n",
        "\n",
        "# Tri des valeurs\n",
        "#df_meteo = df_meteo.sort_values(by=['region_nom'],axis=0, ascending=True, na_position='last')"
      ],
      "metadata": {
        "id": "RGwzcaxyKPIl"
      },
      "execution_count": 31,
      "outputs": []
    },
    {
      "cell_type": "code",
      "source": [
        "df_meteo.isna().sum(axis = 0)"
      ],
      "metadata": {
        "colab": {
          "base_uri": "https://localhost:8080/"
        },
        "id": "dVMGW0zwce2C",
        "outputId": "6faeffc8-b741-4c7f-e422-3a6f4fe61096"
      },
      "execution_count": 32,
      "outputs": [
        {
          "output_type": "execute_result",
          "data": {
            "text/plain": [
              "vitesse_vent      2115\n",
              "temperature       6484\n",
              "nebulosite      328054\n",
              "dtype: int64"
            ]
          },
          "metadata": {},
          "execution_count": 32
        }
      ]
    },
    {
      "cell_type": "code",
      "source": [
        "df_meteo = df_meteo.interpolate()\n",
        "df_meteo.isna().sum(axis = 0)"
      ],
      "metadata": {
        "colab": {
          "base_uri": "https://localhost:8080/"
        },
        "id": "oDg-3bRBNE--",
        "outputId": "673a1890-71a3-4d05-c5ac-f88787320f44"
      },
      "execution_count": 33,
      "outputs": [
        {
          "output_type": "execute_result",
          "data": {
            "text/plain": [
              "vitesse_vent    0\n",
              "temperature     0\n",
              "nebulosite      1\n",
              "dtype: int64"
            ]
          },
          "metadata": {},
          "execution_count": 33
        }
      ]
    },
    {
      "cell_type": "code",
      "source": [
        "df_meteo['nebulosite'] = df_meteo['nebulosite'].fillna(100)"
      ],
      "metadata": {
        "id": "M7oOKJtQp68F"
      },
      "execution_count": 34,
      "outputs": []
    },
    {
      "cell_type": "code",
      "source": [
        "df_meteo.head(5)"
      ],
      "metadata": {
        "colab": {
          "base_uri": "https://localhost:8080/",
          "height": 238
        },
        "id": "KCvXv6IAqHPd",
        "outputId": "8357f100-a231-464d-c06c-ded7f1ba2fdb"
      },
      "execution_count": 35,
      "outputs": [
        {
          "output_type": "execute_result",
          "data": {
            "text/plain": [
              "                                                           vitesse_vent  \\\n",
              "date                      region_nom              Station                 \n",
              "2016-01-01 00:00:00+00:00 Auvergne-Rhône-Alpes    7460              0.8   \n",
              "                                                  7471              0.5   \n",
              "                                                  7481              0.0   \n",
              "                                                  7577              1.2   \n",
              "                          Bourgogne-Franche-Comté 7280              0.8   \n",
              "\n",
              "                                                           temperature  \\\n",
              "date                      region_nom              Station                \n",
              "2016-01-01 00:00:00+00:00 Auvergne-Rhône-Alpes    7460             1.8   \n",
              "                                                  7471             4.1   \n",
              "                                                  7481             7.7   \n",
              "                                                  7577             8.8   \n",
              "                          Bourgogne-Franche-Comté 7280             5.6   \n",
              "\n",
              "                                                           nebulosite  \n",
              "date                      region_nom              Station              \n",
              "2016-01-01 00:00:00+00:00 Auvergne-Rhône-Alpes    7460          100.0  \n",
              "                                                  7471          100.0  \n",
              "                                                  7481          100.0  \n",
              "                                                  7577          100.5  \n",
              "                          Bourgogne-Franche-Comté 7280          101.0  "
            ],
            "text/html": [
              "\n",
              "  <div id=\"df-1fd36e24-0e87-48d4-ba20-25bbdfb94374\">\n",
              "    <div class=\"colab-df-container\">\n",
              "      <div>\n",
              "<style scoped>\n",
              "    .dataframe tbody tr th:only-of-type {\n",
              "        vertical-align: middle;\n",
              "    }\n",
              "\n",
              "    .dataframe tbody tr th {\n",
              "        vertical-align: top;\n",
              "    }\n",
              "\n",
              "    .dataframe thead th {\n",
              "        text-align: right;\n",
              "    }\n",
              "</style>\n",
              "<table border=\"1\" class=\"dataframe\">\n",
              "  <thead>\n",
              "    <tr style=\"text-align: right;\">\n",
              "      <th></th>\n",
              "      <th></th>\n",
              "      <th></th>\n",
              "      <th>vitesse_vent</th>\n",
              "      <th>temperature</th>\n",
              "      <th>nebulosite</th>\n",
              "    </tr>\n",
              "    <tr>\n",
              "      <th>date</th>\n",
              "      <th>region_nom</th>\n",
              "      <th>Station</th>\n",
              "      <th></th>\n",
              "      <th></th>\n",
              "      <th></th>\n",
              "    </tr>\n",
              "  </thead>\n",
              "  <tbody>\n",
              "    <tr>\n",
              "      <th rowspan=\"5\" valign=\"top\">2016-01-01 00:00:00+00:00</th>\n",
              "      <th rowspan=\"4\" valign=\"top\">Auvergne-Rhône-Alpes</th>\n",
              "      <th>7460</th>\n",
              "      <td>0.8</td>\n",
              "      <td>1.8</td>\n",
              "      <td>100.0</td>\n",
              "    </tr>\n",
              "    <tr>\n",
              "      <th>7471</th>\n",
              "      <td>0.5</td>\n",
              "      <td>4.1</td>\n",
              "      <td>100.0</td>\n",
              "    </tr>\n",
              "    <tr>\n",
              "      <th>7481</th>\n",
              "      <td>0.0</td>\n",
              "      <td>7.7</td>\n",
              "      <td>100.0</td>\n",
              "    </tr>\n",
              "    <tr>\n",
              "      <th>7577</th>\n",
              "      <td>1.2</td>\n",
              "      <td>8.8</td>\n",
              "      <td>100.5</td>\n",
              "    </tr>\n",
              "    <tr>\n",
              "      <th>Bourgogne-Franche-Comté</th>\n",
              "      <th>7280</th>\n",
              "      <td>0.8</td>\n",
              "      <td>5.6</td>\n",
              "      <td>101.0</td>\n",
              "    </tr>\n",
              "  </tbody>\n",
              "</table>\n",
              "</div>\n",
              "      <button class=\"colab-df-convert\" onclick=\"convertToInteractive('df-1fd36e24-0e87-48d4-ba20-25bbdfb94374')\"\n",
              "              title=\"Convert this dataframe to an interactive table.\"\n",
              "              style=\"display:none;\">\n",
              "        \n",
              "  <svg xmlns=\"http://www.w3.org/2000/svg\" height=\"24px\"viewBox=\"0 0 24 24\"\n",
              "       width=\"24px\">\n",
              "    <path d=\"M0 0h24v24H0V0z\" fill=\"none\"/>\n",
              "    <path d=\"M18.56 5.44l.94 2.06.94-2.06 2.06-.94-2.06-.94-.94-2.06-.94 2.06-2.06.94zm-11 1L8.5 8.5l.94-2.06 2.06-.94-2.06-.94L8.5 2.5l-.94 2.06-2.06.94zm10 10l.94 2.06.94-2.06 2.06-.94-2.06-.94-.94-2.06-.94 2.06-2.06.94z\"/><path d=\"M17.41 7.96l-1.37-1.37c-.4-.4-.92-.59-1.43-.59-.52 0-1.04.2-1.43.59L10.3 9.45l-7.72 7.72c-.78.78-.78 2.05 0 2.83L4 21.41c.39.39.9.59 1.41.59.51 0 1.02-.2 1.41-.59l7.78-7.78 2.81-2.81c.8-.78.8-2.07 0-2.86zM5.41 20L4 18.59l7.72-7.72 1.47 1.35L5.41 20z\"/>\n",
              "  </svg>\n",
              "      </button>\n",
              "      \n",
              "  <style>\n",
              "    .colab-df-container {\n",
              "      display:flex;\n",
              "      flex-wrap:wrap;\n",
              "      gap: 12px;\n",
              "    }\n",
              "\n",
              "    .colab-df-convert {\n",
              "      background-color: #E8F0FE;\n",
              "      border: none;\n",
              "      border-radius: 50%;\n",
              "      cursor: pointer;\n",
              "      display: none;\n",
              "      fill: #1967D2;\n",
              "      height: 32px;\n",
              "      padding: 0 0 0 0;\n",
              "      width: 32px;\n",
              "    }\n",
              "\n",
              "    .colab-df-convert:hover {\n",
              "      background-color: #E2EBFA;\n",
              "      box-shadow: 0px 1px 2px rgba(60, 64, 67, 0.3), 0px 1px 3px 1px rgba(60, 64, 67, 0.15);\n",
              "      fill: #174EA6;\n",
              "    }\n",
              "\n",
              "    [theme=dark] .colab-df-convert {\n",
              "      background-color: #3B4455;\n",
              "      fill: #D2E3FC;\n",
              "    }\n",
              "\n",
              "    [theme=dark] .colab-df-convert:hover {\n",
              "      background-color: #434B5C;\n",
              "      box-shadow: 0px 1px 3px 1px rgba(0, 0, 0, 0.15);\n",
              "      filter: drop-shadow(0px 1px 2px rgba(0, 0, 0, 0.3));\n",
              "      fill: #FFFFFF;\n",
              "    }\n",
              "  </style>\n",
              "\n",
              "      <script>\n",
              "        const buttonEl =\n",
              "          document.querySelector('#df-1fd36e24-0e87-48d4-ba20-25bbdfb94374 button.colab-df-convert');\n",
              "        buttonEl.style.display =\n",
              "          google.colab.kernel.accessAllowed ? 'block' : 'none';\n",
              "\n",
              "        async function convertToInteractive(key) {\n",
              "          const element = document.querySelector('#df-1fd36e24-0e87-48d4-ba20-25bbdfb94374');\n",
              "          const dataTable =\n",
              "            await google.colab.kernel.invokeFunction('convertToInteractive',\n",
              "                                                     [key], {});\n",
              "          if (!dataTable) return;\n",
              "\n",
              "          const docLinkHtml = 'Like what you see? Visit the ' +\n",
              "            '<a target=\"_blank\" href=https://colab.research.google.com/notebooks/data_table.ipynb>data table notebook</a>'\n",
              "            + ' to learn more about interactive tables.';\n",
              "          element.innerHTML = '';\n",
              "          dataTable['output_type'] = 'display_data';\n",
              "          await google.colab.output.renderOutput(dataTable, element);\n",
              "          const docLink = document.createElement('div');\n",
              "          docLink.innerHTML = docLinkHtml;\n",
              "          element.appendChild(docLink);\n",
              "        }\n",
              "      </script>\n",
              "    </div>\n",
              "  </div>\n",
              "  "
            ]
          },
          "metadata": {},
          "execution_count": 35
        }
      ]
    },
    {
      "cell_type": "code",
      "source": [
        "# Group by en supprimant le niveau de détail des stations\n",
        "df_meteo = df_meteo.groupby( ['date','region_nom']).agg({\n",
        "    'vitesse_vent' : 'mean', \n",
        "    'temperature'  : 'mean', \n",
        "    'nebulosite'   : 'mean' \n",
        "})"
      ],
      "metadata": {
        "id": "WDWpd3GQuJac"
      },
      "execution_count": 36,
      "outputs": []
    },
    {
      "cell_type": "code",
      "source": [
        "len(df_meteo['temperature'])"
      ],
      "metadata": {
        "colab": {
          "base_uri": "https://localhost:8080/"
        },
        "id": "4jc3l7DjPU2R",
        "outputId": "0c3158bb-74c1-4191-bb51-288439da3695"
      },
      "execution_count": 38,
      "outputs": [
        {
          "output_type": "execute_result",
          "data": {
            "text/plain": [
              "209978"
            ]
          },
          "metadata": {},
          "execution_count": 38
        }
      ]
    },
    {
      "cell_type": "code",
      "source": [
        "df_meteo.info()"
      ],
      "metadata": {
        "colab": {
          "base_uri": "https://localhost:8080/"
        },
        "id": "IBYGh011rIkB",
        "outputId": "fefe1beb-0766-4c46-d0ac-db9f4dc0e534"
      },
      "execution_count": 39,
      "outputs": [
        {
          "output_type": "stream",
          "name": "stdout",
          "text": [
            "<class 'pandas.core.frame.DataFrame'>\n",
            "MultiIndex: 209978 entries, (Timestamp('2016-01-01 00:00:00+0000', tz='UTC'), 'Auvergne-Rhône-Alpes') to (Timestamp('2021-12-31 00:00:00+0000', tz='UTC'), 'Île-de-France')\n",
            "Data columns (total 3 columns):\n",
            " #   Column        Non-Null Count   Dtype  \n",
            "---  ------        --------------   -----  \n",
            " 0   vitesse_vent  209978 non-null  float64\n",
            " 1   temperature   209978 non-null  float64\n",
            " 2   nebulosite    209978 non-null  float64\n",
            "dtypes: float64(3)\n",
            "memory usage: 5.5+ MB\n"
          ]
        }
      ]
    },
    {
      "cell_type": "code",
      "source": [
        "# Fusion du nouveau DF avec le DF meteo, avec un jointure gauche (donc sur le nouveau DF)\n",
        "df_meteo = dateregion.merge(df_meteo, \n",
        "                            how='left', \n",
        "                            left_on=['date', 'region_nom'], \n",
        "                            right_on=['date', 'region_nom'])\n",
        "\n",
        "df_meteo.reset_index(inplace=True)"
      ],
      "metadata": {
        "id": "4_hPCRBTB_nR"
      },
      "execution_count": 153,
      "outputs": []
    },
    {
      "cell_type": "code",
      "source": [
        "df_meteo.info()"
      ],
      "metadata": {
        "colab": {
          "base_uri": "https://localhost:8080/"
        },
        "id": "rkg7Xx27rDVu",
        "outputId": "21d6f97f-9ede-47df-9454-fdfa09dc34ec"
      },
      "execution_count": 40,
      "outputs": [
        {
          "output_type": "stream",
          "name": "stdout",
          "text": [
            "<class 'pandas.core.frame.DataFrame'>\n",
            "MultiIndex: 209978 entries, (Timestamp('2016-01-01 00:00:00+0000', tz='UTC'), 'Auvergne-Rhône-Alpes') to (Timestamp('2021-12-31 00:00:00+0000', tz='UTC'), 'Île-de-France')\n",
            "Data columns (total 3 columns):\n",
            " #   Column        Non-Null Count   Dtype  \n",
            "---  ------        --------------   -----  \n",
            " 0   vitesse_vent  209978 non-null  float64\n",
            " 1   temperature   209978 non-null  float64\n",
            " 2   nebulosite    209978 non-null  float64\n",
            "dtypes: float64(3)\n",
            "memory usage: 5.5+ MB\n"
          ]
        }
      ]
    },
    {
      "cell_type": "code",
      "source": [
        "df_meteo.isna().sum(axis = 0)"
      ],
      "metadata": {
        "colab": {
          "base_uri": "https://localhost:8080/"
        },
        "id": "qilFInQeFoFU",
        "outputId": "36b3e84e-eb21-4e05-f0ea-41efcc17deb9"
      },
      "execution_count": 41,
      "outputs": [
        {
          "output_type": "execute_result",
          "data": {
            "text/plain": [
              "vitesse_vent    0\n",
              "temperature     0\n",
              "nebulosite      0\n",
              "dtype: int64"
            ]
          },
          "metadata": {},
          "execution_count": 41
        }
      ]
    },
    {
      "cell_type": "code",
      "source": [
        "# Le DF doit être trié par région puis par date\n",
        "df_meteo.head()"
      ],
      "metadata": {
        "colab": {
          "base_uri": "https://localhost:8080/",
          "height": 238
        },
        "id": "UDEwNBZHtfOL",
        "outputId": "5b3413ff-7aac-4e41-da98-d8e649efb5df"
      },
      "execution_count": 42,
      "outputs": [
        {
          "output_type": "execute_result",
          "data": {
            "text/plain": [
              "                                                   vitesse_vent  temperature  \\\n",
              "date                      region_nom                                           \n",
              "2016-01-01 00:00:00+00:00 Auvergne-Rhône-Alpes            0.625         5.60   \n",
              "                          Bourgogne-Franche-Comté         0.800         5.60   \n",
              "                          Bretagne                        2.275         5.80   \n",
              "                          Centre-Val de Loire             2.600         4.90   \n",
              "                          Grand Est                       2.000         4.64   \n",
              "\n",
              "                                                   nebulosite  \n",
              "date                      region_nom                           \n",
              "2016-01-01 00:00:00+00:00 Auvergne-Rhône-Alpes        100.125  \n",
              "                          Bourgogne-Franche-Comté     101.000  \n",
              "                          Bretagne                     75.500  \n",
              "                          Centre-Val de Loire          56.250  \n",
              "                          Grand Est                    90.500  "
            ],
            "text/html": [
              "\n",
              "  <div id=\"df-cc75487d-25db-49cc-9786-b3b01a5589f8\">\n",
              "    <div class=\"colab-df-container\">\n",
              "      <div>\n",
              "<style scoped>\n",
              "    .dataframe tbody tr th:only-of-type {\n",
              "        vertical-align: middle;\n",
              "    }\n",
              "\n",
              "    .dataframe tbody tr th {\n",
              "        vertical-align: top;\n",
              "    }\n",
              "\n",
              "    .dataframe thead th {\n",
              "        text-align: right;\n",
              "    }\n",
              "</style>\n",
              "<table border=\"1\" class=\"dataframe\">\n",
              "  <thead>\n",
              "    <tr style=\"text-align: right;\">\n",
              "      <th></th>\n",
              "      <th></th>\n",
              "      <th>vitesse_vent</th>\n",
              "      <th>temperature</th>\n",
              "      <th>nebulosite</th>\n",
              "    </tr>\n",
              "    <tr>\n",
              "      <th>date</th>\n",
              "      <th>region_nom</th>\n",
              "      <th></th>\n",
              "      <th></th>\n",
              "      <th></th>\n",
              "    </tr>\n",
              "  </thead>\n",
              "  <tbody>\n",
              "    <tr>\n",
              "      <th rowspan=\"5\" valign=\"top\">2016-01-01 00:00:00+00:00</th>\n",
              "      <th>Auvergne-Rhône-Alpes</th>\n",
              "      <td>0.625</td>\n",
              "      <td>5.60</td>\n",
              "      <td>100.125</td>\n",
              "    </tr>\n",
              "    <tr>\n",
              "      <th>Bourgogne-Franche-Comté</th>\n",
              "      <td>0.800</td>\n",
              "      <td>5.60</td>\n",
              "      <td>101.000</td>\n",
              "    </tr>\n",
              "    <tr>\n",
              "      <th>Bretagne</th>\n",
              "      <td>2.275</td>\n",
              "      <td>5.80</td>\n",
              "      <td>75.500</td>\n",
              "    </tr>\n",
              "    <tr>\n",
              "      <th>Centre-Val de Loire</th>\n",
              "      <td>2.600</td>\n",
              "      <td>4.90</td>\n",
              "      <td>56.250</td>\n",
              "    </tr>\n",
              "    <tr>\n",
              "      <th>Grand Est</th>\n",
              "      <td>2.000</td>\n",
              "      <td>4.64</td>\n",
              "      <td>90.500</td>\n",
              "    </tr>\n",
              "  </tbody>\n",
              "</table>\n",
              "</div>\n",
              "      <button class=\"colab-df-convert\" onclick=\"convertToInteractive('df-cc75487d-25db-49cc-9786-b3b01a5589f8')\"\n",
              "              title=\"Convert this dataframe to an interactive table.\"\n",
              "              style=\"display:none;\">\n",
              "        \n",
              "  <svg xmlns=\"http://www.w3.org/2000/svg\" height=\"24px\"viewBox=\"0 0 24 24\"\n",
              "       width=\"24px\">\n",
              "    <path d=\"M0 0h24v24H0V0z\" fill=\"none\"/>\n",
              "    <path d=\"M18.56 5.44l.94 2.06.94-2.06 2.06-.94-2.06-.94-.94-2.06-.94 2.06-2.06.94zm-11 1L8.5 8.5l.94-2.06 2.06-.94-2.06-.94L8.5 2.5l-.94 2.06-2.06.94zm10 10l.94 2.06.94-2.06 2.06-.94-2.06-.94-.94-2.06-.94 2.06-2.06.94z\"/><path d=\"M17.41 7.96l-1.37-1.37c-.4-.4-.92-.59-1.43-.59-.52 0-1.04.2-1.43.59L10.3 9.45l-7.72 7.72c-.78.78-.78 2.05 0 2.83L4 21.41c.39.39.9.59 1.41.59.51 0 1.02-.2 1.41-.59l7.78-7.78 2.81-2.81c.8-.78.8-2.07 0-2.86zM5.41 20L4 18.59l7.72-7.72 1.47 1.35L5.41 20z\"/>\n",
              "  </svg>\n",
              "      </button>\n",
              "      \n",
              "  <style>\n",
              "    .colab-df-container {\n",
              "      display:flex;\n",
              "      flex-wrap:wrap;\n",
              "      gap: 12px;\n",
              "    }\n",
              "\n",
              "    .colab-df-convert {\n",
              "      background-color: #E8F0FE;\n",
              "      border: none;\n",
              "      border-radius: 50%;\n",
              "      cursor: pointer;\n",
              "      display: none;\n",
              "      fill: #1967D2;\n",
              "      height: 32px;\n",
              "      padding: 0 0 0 0;\n",
              "      width: 32px;\n",
              "    }\n",
              "\n",
              "    .colab-df-convert:hover {\n",
              "      background-color: #E2EBFA;\n",
              "      box-shadow: 0px 1px 2px rgba(60, 64, 67, 0.3), 0px 1px 3px 1px rgba(60, 64, 67, 0.15);\n",
              "      fill: #174EA6;\n",
              "    }\n",
              "\n",
              "    [theme=dark] .colab-df-convert {\n",
              "      background-color: #3B4455;\n",
              "      fill: #D2E3FC;\n",
              "    }\n",
              "\n",
              "    [theme=dark] .colab-df-convert:hover {\n",
              "      background-color: #434B5C;\n",
              "      box-shadow: 0px 1px 3px 1px rgba(0, 0, 0, 0.15);\n",
              "      filter: drop-shadow(0px 1px 2px rgba(0, 0, 0, 0.3));\n",
              "      fill: #FFFFFF;\n",
              "    }\n",
              "  </style>\n",
              "\n",
              "      <script>\n",
              "        const buttonEl =\n",
              "          document.querySelector('#df-cc75487d-25db-49cc-9786-b3b01a5589f8 button.colab-df-convert');\n",
              "        buttonEl.style.display =\n",
              "          google.colab.kernel.accessAllowed ? 'block' : 'none';\n",
              "\n",
              "        async function convertToInteractive(key) {\n",
              "          const element = document.querySelector('#df-cc75487d-25db-49cc-9786-b3b01a5589f8');\n",
              "          const dataTable =\n",
              "            await google.colab.kernel.invokeFunction('convertToInteractive',\n",
              "                                                     [key], {});\n",
              "          if (!dataTable) return;\n",
              "\n",
              "          const docLinkHtml = 'Like what you see? Visit the ' +\n",
              "            '<a target=\"_blank\" href=https://colab.research.google.com/notebooks/data_table.ipynb>data table notebook</a>'\n",
              "            + ' to learn more about interactive tables.';\n",
              "          element.innerHTML = '';\n",
              "          dataTable['output_type'] = 'display_data';\n",
              "          await google.colab.output.renderOutput(dataTable, element);\n",
              "          const docLink = document.createElement('div');\n",
              "          docLink.innerHTML = docLinkHtml;\n",
              "          element.appendChild(docLink);\n",
              "        }\n",
              "      </script>\n",
              "    </div>\n",
              "  </div>\n",
              "  "
            ]
          },
          "metadata": {},
          "execution_count": 42
        }
      ]
    },
    {
      "cell_type": "code",
      "source": [
        "# le DF est complété\n",
        "\n",
        "df_meteo.loc[:, ['vitesse_vent', 'temperature','nebulosite']].fillna(method='pad', inplace=True)"
      ],
      "metadata": {
        "id": "86zuqXwXDpRx"
      },
      "execution_count": 43,
      "outputs": []
    },
    {
      "cell_type": "code",
      "source": [
        "df_meteo.isna().sum(axis = 0)"
      ],
      "metadata": {
        "colab": {
          "base_uri": "https://localhost:8080/"
        },
        "id": "681AWul2FXmX",
        "outputId": "4f67381c-9cfa-47cb-e3ca-62844dce3082"
      },
      "execution_count": 44,
      "outputs": [
        {
          "output_type": "execute_result",
          "data": {
            "text/plain": [
              "vitesse_vent    0\n",
              "temperature     0\n",
              "nebulosite      0\n",
              "dtype: int64"
            ]
          },
          "metadata": {},
          "execution_count": 44
        }
      ]
    },
    {
      "cell_type": "markdown",
      "metadata": {
        "id": "SEcfzJhm5YcG"
      },
      "source": [
        "## 1.5 Fusion des deux DataSet"
      ]
    },
    {
      "cell_type": "markdown",
      "metadata": {
        "id": "XoOY5TtjHrZz"
      },
      "source": [
        "### 1.5.1 Merge"
      ]
    },
    {
      "cell_type": "code",
      "execution_count": 55,
      "metadata": {
        "id": "r_isWp5QHiAk"
      },
      "outputs": [],
      "source": [
        "# jointure des deux dataset\n",
        "\n",
        "df = df_energie.merge(df_meteo, \n",
        "                      how='left', \n",
        "                      left_on=['date', 'region_nom'], \n",
        "                      right_on=['date', 'region_nom'])\n",
        "\n",
        "\n"
      ]
    },
    {
      "cell_type": "code",
      "source": [
        "#Suppression des deux précédents DF pour libérer de la mémoire\n",
        "del df_energie \n",
        "del df_meteo"
      ],
      "metadata": {
        "id": "S_lKSg5ZYiYj"
      },
      "execution_count": 58,
      "outputs": []
    },
    {
      "cell_type": "code",
      "execution_count": null,
      "metadata": {
        "colab": {
          "base_uri": "https://localhost:8080/"
        },
        "id": "_Soeyw6XHmNl",
        "outputId": "f59415c4-007c-4cd8-cf87-d669f9ff1ea5"
      },
      "outputs": [
        {
          "name": "stdout",
          "output_type": "stream",
          "text": [
            "<class 'pandas.core.frame.DataFrame'>\n",
            "Int64Index: 1115645 entries, 0 to 1115644\n",
            "Data columns (total 15 columns):\n",
            " #   Column              Non-Null Count    Dtype              \n",
            "---  ------              --------------    -----              \n",
            " 0   region_nom          1115645 non-null  object             \n",
            " 1   nature              1115645 non-null  object             \n",
            " 2   date                1115645 non-null  datetime64[ns, UTC]\n",
            " 3   conso_inter         1115645 non-null  float64            \n",
            " 4   prod_therm          1115645 non-null  float64            \n",
            " 5   prod_nuc            1115645 non-null  float64            \n",
            " 6   prod_eol            1115645 non-null  float64            \n",
            " 7   prod_sol            1115645 non-null  float64            \n",
            " 8   prod_hydro          1115645 non-null  float64            \n",
            " 9   conso_hydro         1115645 non-null  float64            \n",
            " 10  prod_bio            1115645 non-null  float64            \n",
            " 11  echanges            1115645 non-null  float64            \n",
            " 12  vitesse_vent_10min  694603 non-null   float64            \n",
            " 13  temperature         694603 non-null   float64            \n",
            " 14  nebulosite_totale   694602 non-null   float64            \n",
            "dtypes: datetime64[ns, UTC](1), float64(12), object(2)\n",
            "memory usage: 136.2+ MB\n"
          ]
        }
      ],
      "source": [
        "df.info()"
      ]
    },
    {
      "cell_type": "markdown",
      "metadata": {
        "id": "4F_nHzMmIXu3"
      },
      "source": [
        "### 1.5.2 Complétude (NANs)"
      ]
    },
    {
      "cell_type": "code",
      "execution_count": 56,
      "metadata": {
        "colab": {
          "base_uri": "https://localhost:8080/"
        },
        "id": "e63lvKbNIdss",
        "outputId": "37e3900b-d417-49ea-8477-fa18746927e7"
      },
      "outputs": [
        {
          "output_type": "execute_result",
          "data": {
            "text/plain": [
              "date                  0\n",
              "region_nom            0\n",
              "nature              168\n",
              "conso_inter         168\n",
              "prod_therm          168\n",
              "prod_nuc         420812\n",
              "prod_eol            168\n",
              "prod_sol            168\n",
              "prod_hydro          168\n",
              "conso_hydro      525973\n",
              "prod_bio            168\n",
              "echanges            168\n",
              "tco_therm        841632\n",
              "tch_therm        841632\n",
              "tco_nuc          981788\n",
              "tch_nuc          981788\n",
              "tco_eol          841632\n",
              "tch_eol          841632\n",
              "tco_sol          841632\n",
              "tch_sol          841632\n",
              "tco_hydro        841632\n",
              "tch_hydro        841632\n",
              "tco_bio          841632\n",
              "tch_bio          841632\n",
              "vitesse_vent    1052130\n",
              "temperature     1052130\n",
              "nebulosite      1052130\n",
              "dtype: int64"
            ]
          },
          "metadata": {},
          "execution_count": 56
        }
      ],
      "source": [
        "df.isna().sum(axis = 0)"
      ]
    },
    {
      "cell_type": "code",
      "source": [
        "# Visualisation des NANs\n",
        "msno.matrix(df);"
      ],
      "metadata": {
        "colab": {
          "base_uri": "https://localhost:8080/",
          "height": 670
        },
        "id": "yQkep2-QYws2",
        "outputId": "ca53a680-c519-48b8-9b9a-eef7a570907a"
      },
      "execution_count": 59,
      "outputs": [
        {
          "output_type": "display_data",
          "data": {
            "text/plain": [
              "<Figure size 1800x720 with 2 Axes>"
            ],
            "image/png": "[encoded data removed]"
          },
          "metadata": {
            "needs_background": "light"
          }
        }
      ]
    },
    {
      "cell_type": "code",
      "source": [
        "\n",
        "\n",
        "\n",
        "\n",
        "# Traitement des NANs des variables quantitatives\n",
        "\n",
        "df_meteo['temperature']        = df_meteo['temperature'].fillna(60)        #Remplacement par une valeur distinctive pour permettre de faire des graphes\n",
        "\n",
        "#df_meteo['temperature']        = df_meteo['temperature'].fillna(method='pad')        #Remplacement par la valeur précédente\n",
        "df_meteo['vitesse_vent_10min'] = df_meteo['vitesse_vent_10min'].fillna(method='pad') #Remplacement par la valeur précédente\n",
        "df_meteo['nebulosite_totale']  = df_meteo['nebulosite_totale'].fillna(method='pad')  #Remplacement par la valeur précédente\n",
        "\n",
        "#df_meteo['temperature']        = df_meteo['temperature'].fillna(df_meteo['temperature'].mean())\n",
        "#df_meteo['vitesse_vent_10min'] = df_meteo['vitesse_vent_10min'].fillna(df_meteo['vitesse_vent_10min'].mean())\n",
        "#df_meteo['nebulosite_totale']  = df_meteo['nebulosite_totale'].fillna(df_meteo['nebulosite_totale'].mean())"
      ],
      "metadata": {
        "id": "iDJhRLrO-2nl"
      },
      "execution_count": null,
      "outputs": []
    },
    {
      "cell_type": "markdown",
      "metadata": {
        "id": "HCuGlSEt4H_u"
      },
      "source": [
        "# Partie 2 : Exploration et Story-telling <a class=\"anchor\" id=\"Partie02\"><a>"
      ]
    },
    {
      "cell_type": "markdown",
      "metadata": {
        "id": "wThpi0_f5lO_"
      },
      "source": [
        "## 2.1 Exploration sur la consommation d'energie"
      ]
    },
    {
      "cell_type": "markdown",
      "metadata": {
        "id": "uwurAfb05yAo"
      },
      "source": [
        "## 2.2 Exploration sur les sources de productions"
      ]
    },
    {
      "cell_type": "markdown",
      "metadata": {
        "id": "CFKAeLux5vpg"
      },
      "source": [
        "## 2.3 Relations Consommation & Production"
      ]
    },
    {
      "cell_type": "markdown",
      "metadata": {
        "id": "3rr1bBfUACrD"
      },
      "source": [
        "## 2.4 Relations consommation & Météo"
      ]
    },
    {
      "cell_type": "markdown",
      "metadata": {
        "id": "-1c_Vjvc4V4T"
      },
      "source": [
        "# Partie 3 : Problématique et analyse <a class=\"anchor\" id=\"Partie03\"><a>"
      ]
    },
    {
      "cell_type": "markdown",
      "metadata": {
        "id": "bc1En9JLApzS"
      },
      "source": [
        "## 3.1 Définition de la problématique"
      ]
    },
    {
      "cell_type": "markdown",
      "metadata": {
        "id": "SoxfCA9fAuOn"
      },
      "source": [
        "## 3.2 Construction d'indicateurs"
      ]
    },
    {
      "cell_type": "markdown",
      "metadata": {
        "id": "yH61Z-t6A1lV"
      },
      "source": [
        "## 3.3 Données pour Dashboard PowerBI"
      ]
    },
    {
      "cell_type": "markdown",
      "metadata": {
        "id": "ryurx4PnBFdT"
      },
      "source": [
        "## 3.4 Prédictions"
      ]
    },
    {
      "cell_type": "markdown",
      "metadata": {
        "id": "sVXrvPV345Jp"
      },
      "source": [
        "# Partie 4 : Conclusions  <a class=\"anchor\" id=\"Partie04\"><a>"
      ]
    },
    {
      "cell_type": "markdown",
      "metadata": {
        "id": "dMGwgbZiBSu3"
      },
      "source": [
        "## 4.1 Apports du projet en réponse à la problématique"
      ]
    },
    {
      "cell_type": "markdown",
      "metadata": {
        "id": "KEyUnPnKBbmL"
      },
      "source": [
        "## 4.2 Limites et axes d'amélioration"
      ]
    }
  ],
  "metadata": {
    "colab": {
      "collapsed_sections": [],
      "name": "Projet Net Elec - Equipe.ipynb",
      "toc_visible": true,
      "provenance": [],
      "include_colab_link": true
    },
    "kernelspec": {
      "display_name": "Python 3",
      "name": "python3"
    },
    "language_info": {
      "name": "python"
    }
  },
  "nbformat": 4,
  "nbformat_minor": 0
}